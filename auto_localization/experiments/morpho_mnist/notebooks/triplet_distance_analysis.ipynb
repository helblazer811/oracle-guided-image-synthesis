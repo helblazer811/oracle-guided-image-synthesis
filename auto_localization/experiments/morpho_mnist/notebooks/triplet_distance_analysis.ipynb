{
 "cells": [
  {
   "cell_type": "code",
   "execution_count": 92,
   "metadata": {},
   "outputs": [],
   "source": [
    "import pickle\n",
    "import torch\n",
    "import numpy as np\n",
    "import matplotlib\n",
    "import matplotlib.pyplot as plt\n",
    "import os\n",
    "import sys\n",
    "import seaborn as sns\n",
    "sys.path.append(\"../../..\")\n",
    "\n",
    "from datasets.morpho_mnist.dataset import ImageDataset, MetadataDataset, TripletDataset\n",
    "from auto_localization.oracles.metadata_oracle import MetadataOracle\n",
    "from auto_localization.oracles.indexed_metadata_oracle import IndexedMetadataOracle\n",
    "from datasets.morpho_mnist.measure import measure_image\n",
    "from auto_localization.models.BasicVAE import BasicVAE\n",
    "from auto_localization.plotting.localization import save_localization_metadata_distance_plots\n"
   ]
  },
  {
   "cell_type": "code",
   "execution_count": 93,
   "metadata": {},
   "outputs": [],
   "source": [
    "def load_objects(model_dir):\n",
    "    # load localizers\n",
    "    with open(model_dir+\"/localizers.pkl\", \"rb\") as f:\n",
    "        localizers = pickle.load(f)\n",
    "    # load metrics\n",
    "    with open(model_dir+\"/localizer_metrics.pkl\", \"rb\") as f:\n",
    "        localizer_metrics = pickle.load(f)\n",
    "    # load config \n",
    "    with open(model_dir+\"/params.pkl\", \"rb\") as f:\n",
    "        config = pickle.load(f)\n",
    "    print(config)\n",
    "    # load model\n",
    "    model_path = model_dir+\"/model.pkl\"\n",
    "    z_dim = config[\"model_config\"][\"latent_dim\"]\n",
    "    in_shape = config[\"model_config\"][\"in_shape\"]\n",
    "    d = config[\"model_config\"][\"d\"]\n",
    "    layer_count = config[\"model_config\"][\"layer_count\"]\n",
    "    channels = config[\"model_config\"][\"channels\"]\n",
    "    model = BasicVAE(z_dim = z_dim, in_shape = in_shape, d = d, layer_count=layer_count, channels=channels)\n",
    "    model.load_state_dict(torch.load(model_path))\n",
    "    model.to(\"cuda\")\n",
    "    model.eval()\n",
    "        \n",
    "    return localizers, localizer_metrics, model, config"
   ]
  },
  {
   "cell_type": "code",
   "execution_count": 138,
   "metadata": {},
   "outputs": [
    {
     "name": "stdout",
     "output_type": "stream",
     "text": [
      "{'trials': 1, 'epochs': 100, 'lr': 0.001, 'batch_size': 128, 'trainer': 'triplet', 'localization_config': {'indexed': False, 'trials': 3, 'k': 1.0, 'localizer_type': 'MCMV', 'num_queries': 20}, 'model_config': {'model_type': 'BasicVAE', 'latent_dim': 5, 'in_shape': 32, 'd': 32, 'layer_count': 4, 'channels': 1, 'loss_name': 'VAETripletLoss', 'kl_beta': 0.001, 'triplet_beta': 0.1, 'triplet_margin': 1.0, 'warm_start': 50, 'kl_max': 0.015, 'triplet_mining': False}, 'dataset_config': {'component_weighting': [0.0, 0.0, 1.0, 1.0, 0.0, 0.0], 'which_digits': [1], 'one_two_ratio': 0.0}}\n"
     ]
    }
   ],
   "source": [
    "model_dir = \"../../logs/faithful-sun-1165\"\n",
    "localizers, localizer_metrics, model, config = load_objects(model_dir)"
   ]
  },
  {
   "cell_type": "markdown",
   "metadata": {},
   "source": [
    "### Triplet Consistency Correlation\n",
    "I want to go through and test if there is a correlation between the distance between two query choices and the probability that it is satisfied.\n",
    "\n",
    "1. Go through a set of triplets and see if they are satisfied\n",
    "2. Calculate the distance between the positive and negative value\n",
    "3. Plot the distance along the x axis and have two histograms normalized by frequency, one for satisfied triplets and one for negative. "
   ]
  },
  {
   "cell_type": "code",
   "execution_count": 139,
   "metadata": {},
   "outputs": [],
   "source": [
    "# setup dataset config\n",
    "dataset_config = config[\"dataset_config\"]\n",
    "which_digits = config[\"dataset_config\"][\"which_digits\"]\n",
    "component_weighting = config[\"dataset_config\"][\"component_weighting\"]\n",
    "one_two_ratio = config[\"dataset_config\"][\"one_two_ratio\"]"
   ]
  },
  {
   "cell_type": "code",
   "execution_count": 140,
   "metadata": {},
   "outputs": [],
   "source": [
    "# make oracle\n",
    "def measure_func(image):\n",
    "    if len(np.shape(image)) > 2:\n",
    "        image = image[0, :, :]\n",
    "    measurement = measure_image(image)\n",
    "    return np.array(list(measurement))\n",
    "\n",
    "#metadata_oracle = MetadataOracle(metadata_function=measure_func, component_weighting=component_weighting)\n",
    "metadata_dataset = MetadataDataset(train=True, which_digits=which_digits)\n",
    "metadata_oracle = IndexedMetadataOracle(metadata_dataset=metadata_dataset, component_weighting=component_weighting)"
   ]
  },
  {
   "cell_type": "code",
   "execution_count": 141,
   "metadata": {},
   "outputs": [],
   "source": [
    "# make triplet dataset and oracle\n",
    "triplet_dataset = TripletDataset(train=True, which_digits=which_digits, oracle=metadata_oracle, one_two_ratio=one_two_ratio)"
   ]
  },
  {
   "cell_type": "code",
   "execution_count": 142,
   "metadata": {},
   "outputs": [
    {
     "name": "stdout",
     "output_type": "stream",
     "text": [
      "0\n",
      "1\n",
      "2\n",
      "3\n",
      "4\n",
      "5\n",
      "6\n",
      "7\n",
      "8\n",
      "9\n"
     ]
    }
   ],
   "source": [
    "# go through each triplet and see if it is satisfied\n",
    "is_satisfied_list = []\n",
    "distance_between_pos_neg = []\n",
    "satisfied_margin = []\n",
    "for num_iter in range(10):\n",
    "    print(num_iter)\n",
    "    for triplet_index in range(len(triplet_dataset)):\n",
    "        (anchor, positive, negative), _ = triplet_dataset[triplet_index]\n",
    "        # embed these values in latent space\n",
    "        anchor_mean = model.encode(anchor.to(\"cuda\"))[0].detach().cpu().numpy()\n",
    "        positive_mean = model.encode(positive.to(\"cuda\"))[0].detach().cpu().numpy()\n",
    "        negative_mean = model.encode(negative.to(\"cuda\"))[0].detach().cpu().numpy()\n",
    "        # see if they are satisfied\n",
    "        anchor_positive_dist = np.linalg.norm(anchor_mean - positive_mean)\n",
    "        anchor_negative_dist = np.linalg.norm(anchor_mean - negative_mean)\n",
    "        satisfied_margin.append(anchor_negative_dist - anchor_positive_dist)\n",
    "        positive_negative_dist = np.linalg.norm(positive_mean - negative_mean)\n",
    "        is_satisfied = anchor_positive_dist < anchor_negative_dist\n",
    "        # add to list\n",
    "        is_satisfied_list.append(is_satisfied)\n",
    "        distance_between_pos_neg.append(positive_negative_dist)"
   ]
  },
  {
   "cell_type": "code",
   "execution_count": 132,
   "metadata": {},
   "outputs": [],
   "source": [
    "# reformat the data for plotting\n",
    "satisfied_distances = []\n",
    "unsatisfied_distances = []\n",
    "for index, is_satisfied in enumerate(is_satisfied_list):\n",
    "    distance = distance_between_pos_neg[index]\n",
    "    if is_satisfied:\n",
    "        satisfied_distances.append(distance)\n",
    "    else:\n",
    "        unsatisfied_distances.append(distance)"
   ]
  },
  {
   "cell_type": "code",
   "execution_count": null,
   "metadata": {},
   "outputs": [],
   "source": [
    "print(len(satisfied_distances)/(len(satisfied_distances) + len(unsatisfied_distances)))"
   ]
  },
  {
   "cell_type": "code",
   "execution_count": 101,
   "metadata": {},
   "outputs": [
    {
     "data": {
      "image/png": "[encoded data removed]",
      "text/plain": [
       "<Figure size 432x288 with 1 Axes>"
      ]
     },
     "metadata": {
      "needs_background": "light"
     },
     "output_type": "display_data"
    }
   ],
   "source": [
    "# plot a two bar histogram with the distance along the x axis and have\n",
    "# two histograms normalized by frequency, one for satisfied triplets and one for negative.\n",
    "n_bins = 15\n",
    "\n",
    "fig, axs = plt.subplots(1, 1)\n",
    "\n",
    "colors = ['blue', 'red']\n",
    "labels = [\"Satisfied Triplet\", \"Unsatisfied Triplet\"]\n",
    "axs.hist([satisfied_distances, unsatisfied_distances], n_bins, density=True, histtype='bar', color=colors, label=labels)\n",
    "axs.legend(prop={'size': 10})\n",
    "axs.set_title('Satisfied Triplet vs Distance Betweeen Choices')\n",
    "axs.set_xlabel(\"Proportion\")\n",
    "axs.set_xlabel(\"Distance Between Triplet Choices\")\n",
    "\n",
    "plt.show()"
   ]
  },
  {
   "cell_type": "code",
   "execution_count": 102,
   "metadata": {},
   "outputs": [
    {
     "name": "stderr",
     "output_type": "stream",
     "text": [
      "WARNING:matplotlib.legend:No handles with labels found to put in legend.\n"
     ]
    },
    {
     "data": {
      "image/png": "[encoded data removed]",
      "text/plain": [
       "<Figure size 432x288 with 1 Axes>"
      ]
     },
     "metadata": {
      "needs_background": "light"
     },
     "output_type": "display_data"
    }
   ],
   "source": [
    "# show how much the triplet is satisfied by\n",
    "# Show distance between triplet classes on the x\n",
    "# Show the the negative - positive distance on the y\n",
    "# plot a two bar histogram with the distance along the x axis and have\n",
    "# two histograms normalized by frequency, one for satisfied triplets and one for negative.\n",
    "n_bins = 15\n",
    "\n",
    "fig, axs = plt.subplots(1, 1)\n",
    "\n",
    "colors = ['blue', 'red']\n",
    "labels = [\"Satisfied Triplet\", \"Unsatisfied Triplet\"]\n",
    "# rounded_vals\n",
    "bins = list(np.arange(0, 13))\n",
    "binned_indices = np.digitize(distance_between_pos_neg, bins, right=False)\n",
    "binned_values = [[] for bin_val in bins]\n",
    "binned_values.append([])\n",
    "\n",
    "for i, bin_val in enumerate(binned_indices):\n",
    "    binned_values[bin_val].append(satisfied_margin[i])\n",
    "for i, bin_list in enumerate(binned_values):\n",
    "    if len(binned_values[i]) == 0:\n",
    "        binned_values[i] = [0]\n",
    "# plot violin plot\n",
    "axs.violinplot(binned_values)\n",
    "axs.legend(prop={'size': 10})\n",
    "axs.set_title('Consistency Margin vs Distance Between Triplet Choices')\n",
    "axs.set_xlabel(\"Consistency Margin\")\n",
    "axs.set_xlabel(\"Distance Between Triplet Choices\")\n",
    "\n",
    "plt.show()"
   ]
  },
  {
   "cell_type": "code",
   "execution_count": 137,
   "metadata": {},
   "outputs": [
    {
     "name": "stderr",
     "output_type": "stream",
     "text": [
      "WARNING:matplotlib.legend:No handles with labels found to put in legend.\n"
     ]
    },
    {
     "data": {
      "image/png": "[encoded data removed]",
      "text/plain": [
       "<Figure size 432x288 with 1 Axes>"
      ]
     },
     "metadata": {
      "needs_background": "light"
     },
     "output_type": "display_data"
    }
   ],
   "source": [
    "# plot the probability that a query is satisfied over distance\n",
    "# plot a two bar histogram with the distance along the x axis and have\n",
    "# two histograms normalized by frequency, one for satisfied triplets and one for negative.\n",
    "n_bins = 14\n",
    "\n",
    "fig, axs = plt.subplots(1, 1)\n",
    "\n",
    "colors = ['blue']\n",
    "labels = [\"Satisfied Triplet\", \"Unsatisfied Triplet\"]\n",
    "# reformat the data for plotting\n",
    "# bucket satisfied and unsatisfied\n",
    "satisfied_hist, bin_edges = np.histogram(satisfied_distances, bins=n_bins)\n",
    "unsatisfied_hist, bin_edges = np.histogram(unsatisfied_distances, bins=n_bins)\n",
    "sum_hist = satisfied_hist + unsatisfied_hist\n",
    "probability_satisfied = satisfied_hist / sum_hist\n",
    "axs.bar(bin_edges[:-1], probability_satisfied)\n",
    "axs.legend(prop={'size': 10})\n",
    "axs.set_title('Probability of Satisfied Triplet Given Distance Choices')\n",
    "axs.set_xlabel(\"Proportion\")\n",
    "axs.set_xlabel(\"Distance Between Triplet Choices\")\n",
    "axs.set_ylim(0, 1)\n",
    "\n",
    "plt.show()"
   ]
  },
  {
   "cell_type": "code",
   "execution_count": null,
   "metadata": {},
   "outputs": [],
   "source": []
  }
 ],
 "metadata": {
  "kernelspec": {
   "display_name": "Python 3",
   "language": "python",
   "name": "python3"
  },
  "language_info": {
   "codemirror_mode": {
    "name": "ipython",
    "version": 3
   },
   "file_extension": ".py",
   "mimetype": "text/x-python",
   "name": "python",
   "nbconvert_exporter": "python",
   "pygments_lexer": "ipython3",
   "version": "3.7.6"
  }
 },
 "nbformat": 4,
 "nbformat_minor": 4
}
