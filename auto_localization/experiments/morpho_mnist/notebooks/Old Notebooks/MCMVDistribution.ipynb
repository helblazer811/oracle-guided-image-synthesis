{
 "cells": [
  {
   "cell_type": "code",
   "execution_count": 1,
   "metadata": {},
   "outputs": [],
   "source": [
    "import torch\n",
    "import sys\n",
    "import os\n",
    "sys.path.append(os.environ[\"LATENT_PATH\"])\n",
    "import pickle\n",
    "from auto_localization.experiment_management.basic_experiment import BasicExperiment\n",
    "from auto_localization.dataset_management.data_manager import DataManager\n",
    "from datasets.morpho_mnist.dataset import MetadataDataset, ImageDataset, TripletDataset\n",
    "from auto_localization.oracles.metadata_oracle import MetadataOracle\n",
    "from auto_localization.oracles.indexed_metadata_oracle import IndexedMetadataOracle\n",
    "from auto_localization.oracles.indexed_class_oracle import IndexedClassOracle\n",
    "from auto_localization.oracles.oracle import EnsembleOracle\n",
    "from datasets.morpho_mnist.measure import measure_image\n",
    "from auto_localization.models.loss.masked_vae_triplet_loss import MaskedVAETripletLoss\n",
    "import numpy as np\n",
    "from tqdm import tqdm\n"
   ]
  },
  {
   "cell_type": "markdown",
   "metadata": {},
   "source": [
    "### Get MCMV Localization Queries"
   ]
  },
  {
   "cell_type": "code",
   "execution_count": 2,
   "metadata": {},
   "outputs": [
    {
     "name": "stdout",
     "output_type": "stream",
     "text": [
      "Setting Up Logging\n",
      "Setup Model Config\n",
      "Setting Up Model\n",
      "IsolatedVAE(\n",
      "  (loss_function): IsolatedTripletLoss(\n",
      "    (empty_linear): Linear(in_features=1, out_features=1, bias=True)\n",
      "    (triplet_margin_loss): TripletMarginLoss()\n",
      "  )\n",
      "  (conv1): Conv2d(1, 32, kernel_size=(4, 4), stride=(2, 2), padding=(1, 1))\n",
      "  (conv1_bn): BatchNorm2d(32, eps=1e-05, momentum=0.1, affine=True, track_running_stats=True)\n",
      "  (conv2): Conv2d(32, 64, kernel_size=(4, 4), stride=(2, 2), padding=(1, 1))\n",
      "  (conv2_bn): BatchNorm2d(64, eps=1e-05, momentum=0.1, affine=True, track_running_stats=True)\n",
      "  (conv3): Conv2d(64, 128, kernel_size=(4, 4), stride=(2, 2), padding=(1, 1))\n",
      "  (conv3_bn): BatchNorm2d(128, eps=1e-05, momentum=0.1, affine=True, track_running_stats=True)\n",
      "  (conv4): Conv2d(128, 256, kernel_size=(4, 4), stride=(2, 2), padding=(1, 1))\n",
      "  (conv4_bn): BatchNorm2d(256, eps=1e-05, momentum=0.1, affine=True, track_running_stats=True)\n",
      "  (similarity_mean_linear): Linear(in_features=1024, out_features=4, bias=True)\n",
      "  (similarity_logvar_linear): Linear(in_features=1024, out_features=4, bias=True)\n",
      "  (reconstructive_mean_linear): Linear(in_features=1024, out_features=0, bias=True)\n",
      "  (reconstructive_logvar_linear): Linear(in_features=1024, out_features=0, bias=True)\n",
      "  (d1): Linear(in_features=4, out_features=1024, bias=True)\n",
      "  (deconv2): ConvTranspose2d(256, 128, kernel_size=(4, 4), stride=(2, 2), padding=(1, 1))\n",
      "  (deconv2_bn): BatchNorm2d(128, eps=1e-05, momentum=0.1, affine=True, track_running_stats=True)\n",
      "  (deconv3): ConvTranspose2d(128, 64, kernel_size=(4, 4), stride=(2, 2), padding=(1, 1))\n",
      "  (deconv3_bn): BatchNorm2d(64, eps=1e-05, momentum=0.1, affine=True, track_running_stats=True)\n",
      "  (deconv4): ConvTranspose2d(64, 32, kernel_size=(4, 4), stride=(2, 2), padding=(1, 1))\n",
      "  (deconv4_bn): BatchNorm2d(32, eps=1e-05, momentum=0.1, affine=True, track_running_stats=True)\n",
      "  (deconv5): ConvTranspose2d(32, 1, kernel_size=(4, 4), stride=(2, 2), padding=(1, 1))\n",
      ")\n",
      "Setting Up Trianer\n"
     ]
    }
   ],
   "source": [
    "# load the model \n",
    "# run_name = \"rosy-smoke-134\"\n",
    "run_name = \"blooming-hill-217\"\n",
    "# load up the experiment parameters from the given run_name\n",
    "run_directory = os.path.join(os.environ[\"LATENT_PATH\"], \"auto_localization\", \"logs\", run_name)\n",
    "# load the expeirment config\n",
    "params_path = run_directory + \"/params.pkl\"\n",
    "with open(params_path, \"rb\") as f:\n",
    "    experiment_config = pickle.load(f)\n",
    "# make the experiment\n",
    "basic_experiment = BasicExperiment(experiment_config=experiment_config, do_setup=False)\n",
    "basic_experiment.load_data(run_directory)\n",
    "# get the model\n",
    "model = basic_experiment.model\n",
    "localizers = basic_experiment.localization_experiment_manager.localizers"
   ]
  },
  {
   "cell_type": "markdown",
   "metadata": {},
   "source": [
    "### Get Triplet Dataset Queries\n"
   ]
  },
  {
   "cell_type": "code",
   "execution_count": 3,
   "metadata": {},
   "outputs": [],
   "source": [
    "which_digits=[1]\n",
    "component_weighting = [1.0, 0.0, 1.0, 1.0, 1.0, 0.0]\n",
    "one_two_ratio = 0.0\n",
    "attribute_return = True\n",
    "\n",
    "metadata_dataset = MetadataDataset(\n",
    "    train=True, \n",
    "    which_digits=which_digits\n",
    ")\n",
    "metadata_oracle = IndexedMetadataOracle(\n",
    "    metadata_dataset=metadata_dataset,\n",
    "    component_weighting=component_weighting,\n",
    ")\n",
    "# setup data manager\n",
    "triplet_train_dataset = TripletDataset(\n",
    "    train=True,\n",
    "    which_digits=which_digits,\n",
    "    oracle=metadata_oracle,\n",
    "    one_two_ratio=one_two_ratio,\n",
    "    attribute_return=attribute_return, \n",
    "    single_feature_triplet=True\n",
    ") "
   ]
  },
  {
   "cell_type": "markdown",
   "metadata": {},
   "source": [
    "### Evaluate The Percentage Satisfied"
   ]
  },
  {
   "cell_type": "code",
   "execution_count": 4,
   "metadata": {},
   "outputs": [],
   "source": [
    "def triplet_forward(model, triplet):\n",
    "    anchor, positive, negative, attribute_index = triplet\n",
    "    _, _, anchor_z, _ = model.forward(anchor.cuda())\n",
    "    _, _, positive_z, _ = model.forward(positive.cuda())\n",
    "    _, _, negative_z, _ = model.forward(negative.cuda())\n",
    "    \n",
    "    return anchor_z, positive_z, negative_z, attribute_index\n",
    "\n",
    "def is_satisfied(model, triplet, images=True):\n",
    "    if images:\n",
    "        anchor_z, positive_z, negative_z, attribute_index = triplet_forward(model, triplet)\n",
    "        return model.loss_function.triplet_percentage(anchor_z, positive_z, negative_z, [attribute_index])\n",
    "    else:\n",
    "        anchor_z, positive_z, negative_z, attribute_index = triplet\n",
    "        anchor_positive = torch.norm(anchor_z - positive_z)\n",
    "        anchor_negative = torch.norm(anchor_z - negative_z)\n",
    "        return 1.0 if anchor_positive < anchor_negative else 0.0\n",
    "\n",
    "def percentage_satisfied(model, triplets, images=True):\n",
    "    num_satisfied = 0\n",
    "    loss = MaskedVAETripletLoss()\n",
    "        \n",
    "    for triplet in tqdm(triplets):\n",
    "        num_satisfied += is_satisfied(model, triplet, images=images)\n",
    "            \n",
    "    return num_satisfied / len(triplets)"
   ]
  },
  {
   "cell_type": "code",
   "execution_count": 5,
   "metadata": {},
   "outputs": [],
   "source": [
    "from enum import Enum\n",
    "\"\"\"\n",
    "    Enum of noise constant types\n",
    "\"\"\"\n",
    "class KNormalizationType(Enum):\n",
    "    CONSTANT = 0\n",
    "    NORMALIZED = 1\n",
    "    DECAYING = 2\n",
    "\n",
    "def pair2hyperplane(positive_z, negative_z, normalization):\n",
    "    A_emb = 2*(positive_z - negative_z)\n",
    "    if np.linalg.norm(A_emb) == 0:\n",
    "        A_emb = np.ones_like(positive_z)*0.000001\n",
    "    tau_emb = (np.linalg.norm(positive_z)**2 - np.linalg.norm(negative_z)**2)\n",
    "    if normalization is KNormalizationType.CONSTANT:\n",
    "        pass\n",
    "    elif normalization is KNormalizationType.NORMALIZED:\n",
    "        A_mag = np.linalg.norm(A_emb)\n",
    "        A_emb = A_emb / A_mag\n",
    "        tau_emb = tau_emb / A_mag\n",
    "    elif normalization is KNormalizationType.DECAYING:\n",
    "        A_mag = np.linalg.norm(A_emb)\n",
    "        A_emb = A_emb * np.exp(-A_mag)\n",
    "        tau_emb = tau_emb * np.exp(-A_mag)\n",
    "    \n",
    "    return (A_emb, tau_emb)\n",
    "\n",
    "def calculate_logistic_probability(anchor_z, positive_z, negative_z, k=1.0, normalization=KNormalizationType.CONSTANT):\n",
    "    anchor_z = anchor_z.detach().cpu().numpy()\n",
    "    positive_z = positive_z.detach().cpu().numpy()\n",
    "    negative_z = negative_z.detach().cpu().numpy()\n",
    "    def logistic_function(val):\n",
    "        return 1 / (1 + np.exp(-val))\n",
    "    \n",
    "    A_emb, tau_emb = pair2hyperplane(positive_z, negative_z, normalization=normalization)\n",
    "    probability = logistic_function(k *\n",
    "        np.dot(A_emb, anchor_z) - tau_emb\n",
    "    )\n",
    "    return probability"
   ]
  },
  {
   "cell_type": "code",
   "execution_count": 8,
   "metadata": {},
   "outputs": [],
   "source": [
    "import matplotlib.pyplot as plt\n",
    "%matplotlib inline"
   ]
  },
  {
   "cell_type": "code",
   "execution_count": 6,
   "metadata": {},
   "outputs": [
    {
     "name": "stderr",
     "output_type": "stream",
     "text": [
      "100%|██████████| 5000/5000 [00:36<00:00, 138.29it/s]\n"
     ]
    }
   ],
   "source": [
    "# Sample 2500 triplet queries\n",
    "num_triplets = 5000\n",
    "triplets = []\n",
    "for i in tqdm(range(num_triplets)):\n",
    "    triplet, _ = triplet_train_dataset[i]\n",
    "    anchor_z, positive_z, negative_z, _ = triplet_forward(model, triplet)\n",
    "    triplets.append((anchor_z, positive_z, negative_z))"
   ]
  },
  {
   "cell_type": "code",
   "execution_count": 14,
   "metadata": {},
   "outputs": [
    {
     "name": "stderr",
     "output_type": "stream",
     "text": [
      "100%|██████████| 100/100 [00:31<00:00,  3.19it/s]"
     ]
    },
    {
     "name": "stdout",
     "output_type": "stream",
     "text": [
      "6.940873693670064\n",
      "[0.65019311 0.65024824 0.65030133 0.65035226 0.65040091 0.6504472\n",
      " 0.65049105 0.65053242 0.6505713  0.6506077  0.65064165 0.6506732\n",
      " 0.65070241 0.65072937 0.65075416 0.65077685 0.65079753 0.65081627\n",
      " 0.65083314 0.65084819 0.65086147 0.65087299 0.6508828  0.65089091\n",
      " 0.65089734 0.65090212 0.65090527 0.65090686 0.65090694 0.6509056\n",
      " 0.65090294 0.65089908 0.65089419 0.65088843 0.65088197 0.65087501\n",
      " 0.65086775 0.65086035 0.650853   0.65084585 0.65083901 0.65083258\n",
      " 0.65082661 0.6508211  0.65081602 0.65081129 0.6508068  0.65080238\n",
      " 0.65079787 0.65079303 0.65078765 0.65078148 0.65077427 0.65076579\n",
      " 0.65075578 0.65074402 0.65073032 0.65071449 0.65069638 0.65067587\n",
      " 0.65065286 0.65062729 0.65059913 0.65056837 0.65053502 0.65049914\n",
      " 0.65046077 0.65041998 0.65037686 0.65033148 0.65028394 0.65023433\n",
      " 0.65018274 0.65012925 0.65007397 0.65001697 0.64995834 0.64989818\n",
      " 0.64983657 0.64977361 0.6497094  0.64964404 0.64957765 0.64951034\n",
      " 0.64944225 0.6493735  0.64930425 0.64923463 0.64916481 0.64909494\n",
      " 0.64902518 0.64895566 0.64888655 0.64881795 0.64875    0.64868279\n",
      " 0.64861639 0.64855087 0.64848627 0.6484226 ]\n"
     ]
    },
    {
     "name": "stderr",
     "output_type": "stream",
     "text": [
      "\n"
     ]
    },
    {
     "data": {
      "text/plain": [
       "[<matplotlib.lines.Line2D at 0x7fa4ee341590>]"
      ]
     },
     "execution_count": 14,
     "metadata": {},
     "output_type": "execute_result"
    },
    {
     "data": {
      "image/png": "[encoded data removed]",
      "text/plain": [
       "<Figure size 432x288 with 1 Axes>"
      ]
     },
     "metadata": {
      "needs_background": "light"
     },
     "output_type": "display_data"
    }
   ],
   "source": [
    "# k settings\n",
    "ks = np.logspace(0.7, 1.2, num=100)\n",
    "normalization = KNormalizationType.CONSTANT\n",
    "# probability \n",
    "probabilities = []\n",
    "for k in tqdm(ks):\n",
    "    k_probs = []\n",
    "    for triplet in triplets:\n",
    "        anchor_z, positive_z, negative_z = triplet\n",
    "        probability = calculate_logistic_probability(anchor_z, positive_z, negative_z, k=k, normalization=normalization)\n",
    "        k_probs.append(probability)\n",
    "    probabilities.append(k_probs)\n",
    "probabilities = np.array(probabilities)\n",
    "probabilities = np.mean(probabilities, axis=1)\n",
    "print(ks[np.argmax(probabilities)])\n",
    "print(probabilities)\n",
    "fig, axs = plt.subplots(1, 1)\n",
    "axs.set_xscale(\"log\")\n",
    "axs.plot(ks, probabilities)"
   ]
  },
  {
   "cell_type": "markdown",
   "metadata": {},
   "source": [
    "### Measure the average probability that triplets are satisfied"
   ]
  },
  {
   "cell_type": "code",
   "execution_count": null,
   "metadata": {},
   "outputs": [],
   "source": []
  },
  {
   "cell_type": "code",
   "execution_count": null,
   "metadata": {},
   "outputs": [],
   "source": [
    "--------------------------------------------------------------"
   ]
  },
  {
   "cell_type": "markdown",
   "metadata": {},
   "source": [
    "Is there a difference between the percentage satisfied for MCMV triplets and Triplet Dataset triplets?"
   ]
  },
  {
   "cell_type": "markdown",
   "metadata": {},
   "source": [
    "What is the spread of the triplets in each dataset?"
   ]
  },
  {
   "cell_type": "code",
   "execution_count": 5,
   "metadata": {},
   "outputs": [
    {
     "name": "stdout",
     "output_type": "stream",
     "text": [
      "Setting Up Logging\n",
      "Setup Model Config\n",
      "Setting Up Model\n",
      "MaskedVAE(\n",
      "  (loss_function): BayesianTripletLoss(margin=0.0000)\n",
      "  (conv1): Conv2d(1, 32, kernel_size=(4, 4), stride=(2, 2), padding=(1, 1))\n",
      "  (conv1_bn): BatchNorm2d(32, eps=1e-05, momentum=0.1, affine=True, track_running_stats=True)\n",
      "  (conv2): Conv2d(32, 64, kernel_size=(4, 4), stride=(2, 2), padding=(1, 1))\n",
      "  (conv2_bn): BatchNorm2d(64, eps=1e-05, momentum=0.1, affine=True, track_running_stats=True)\n",
      "  (conv3): Conv2d(64, 128, kernel_size=(4, 4), stride=(2, 2), padding=(1, 1))\n",
      "  (conv3_bn): BatchNorm2d(128, eps=1e-05, momentum=0.1, affine=True, track_running_stats=True)\n",
      "  (conv4): Conv2d(128, 256, kernel_size=(4, 4), stride=(2, 2), padding=(1, 1))\n",
      "  (conv4_bn): BatchNorm2d(256, eps=1e-05, momentum=0.1, affine=True, track_running_stats=True)\n",
      "  (fc1): Linear(in_features=1024, out_features=20, bias=True)\n",
      "  (fc2): Linear(in_features=1024, out_features=20, bias=True)\n",
      "  (d1): Linear(in_features=20, out_features=1024, bias=True)\n",
      "  (deconv2): ConvTranspose2d(256, 128, kernel_size=(4, 4), stride=(2, 2), padding=(1, 1))\n",
      "  (deconv2_bn): BatchNorm2d(128, eps=1e-05, momentum=0.1, affine=True, track_running_stats=True)\n",
      "  (deconv3): ConvTranspose2d(128, 64, kernel_size=(4, 4), stride=(2, 2), padding=(1, 1))\n",
      "  (deconv3_bn): BatchNorm2d(64, eps=1e-05, momentum=0.1, affine=True, track_running_stats=True)\n",
      "  (deconv4): ConvTranspose2d(64, 32, kernel_size=(4, 4), stride=(2, 2), padding=(1, 1))\n",
      "  (deconv4_bn): BatchNorm2d(32, eps=1e-05, momentum=0.1, affine=True, track_running_stats=True)\n",
      "  (deconv5): ConvTranspose2d(32, 1, kernel_size=(4, 4), stride=(2, 2), padding=(1, 1))\n",
      ")\n",
      "Setting Up Trianer\n"
     ]
    }
   ],
   "source": [
    "# load the model \n",
    "run_name = \"cosmic-lake-8978\"\n",
    "# load up the experiment parameters from the given run_name\n",
    "run_directory = os.path.join(os.environ[\"LATENT_PATH\"], \"auto_localization\", \"logs\", run_name)\n",
    "# load the expeirment config\n",
    "params_path = run_directory + \"/params.pkl\"\n",
    "with open(params_path, \"rb\") as f:\n",
    "    experiment_config = pickle.load(f)\n",
    "# make the experiment\n",
    "basic_experiment = BasicExperiment(experiment_config=experiment_config, do_setup=False)\n",
    "basic_experiment.load_data(run_directory)\n",
    "# get the model\n",
    "model = basic_experiment.model"
   ]
  },
  {
   "cell_type": "code",
   "execution_count": 8,
   "metadata": {},
   "outputs": [
    {
     "name": "stderr",
     "output_type": "stream",
     "text": [
      "0it [00:00, ?it/s]\n"
     ]
    }
   ],
   "source": [
    "num_queries = 50\n",
    "mcmv_triplets = []\n",
    "for localizer in tqdm(localizers):\n",
    "    embedded_reference = localizer.embedded_reference\n",
    "    for query_index in range(num_queries):\n",
    "        query = localizer.queries[query_index]\n",
    "        choice = localizer.choices[query_index]\n",
    "        attribute_index = -1\n",
    "        if choice == 1:\n",
    "            positive = query[0]\n",
    "            negative = query[1]\n",
    "        else:\n",
    "            positive = query[1]\n",
    "            negative = query[0]\n",
    "        triplet = embedded_reference, positive, negative, attribute_index\n",
    "        mcmv_triplets.append(triplet)"
   ]
  },
  {
   "cell_type": "code",
   "execution_count": 6,
   "metadata": {},
   "outputs": [
    {
     "name": "stdout",
     "output_type": "stream",
     "text": [
      "Percentage of triplets satisfied from the MCMV queries\n"
     ]
    },
    {
     "ename": "NameError",
     "evalue": "name 'mcmv_triplets' is not defined",
     "output_type": "error",
     "traceback": [
      "\u001b[0;31m---------------------------------------------------------------------------\u001b[0m",
      "\u001b[0;31mNameError\u001b[0m                                 Traceback (most recent call last)",
      "\u001b[0;32m<ipython-input-6-c1ea06107d4f>\u001b[0m in \u001b[0;36m<module>\u001b[0;34m\u001b[0m\n\u001b[1;32m      1\u001b[0m \u001b[0mprint\u001b[0m\u001b[0;34m(\u001b[0m\u001b[0;34m\"Percentage of triplets satisfied from the MCMV queries\"\u001b[0m\u001b[0;34m)\u001b[0m\u001b[0;34m\u001b[0m\u001b[0;34m\u001b[0m\u001b[0m\n\u001b[0;32m----> 2\u001b[0;31m \u001b[0mprint\u001b[0m\u001b[0;34m(\u001b[0m\u001b[0mpercentage_satisfied\u001b[0m\u001b[0;34m(\u001b[0m\u001b[0mmodel\u001b[0m\u001b[0;34m,\u001b[0m \u001b[0mmcmv_triplets\u001b[0m\u001b[0;34m,\u001b[0m \u001b[0mimages\u001b[0m\u001b[0;34m=\u001b[0m\u001b[0;32mFalse\u001b[0m\u001b[0;34m)\u001b[0m\u001b[0;34m)\u001b[0m\u001b[0;34m\u001b[0m\u001b[0;34m\u001b[0m\u001b[0m\n\u001b[0m\u001b[1;32m      3\u001b[0m \u001b[0mprint\u001b[0m\u001b[0;34m(\u001b[0m\u001b[0;34m\"Percentage of triplets satisfied from the dataset\"\u001b[0m\u001b[0;34m)\u001b[0m\u001b[0;34m\u001b[0m\u001b[0;34m\u001b[0m\u001b[0m\n\u001b[1;32m      4\u001b[0m \u001b[0mprint\u001b[0m\u001b[0;34m(\u001b[0m\u001b[0mpercentage_satisfied\u001b[0m\u001b[0;34m(\u001b[0m\u001b[0mmodel\u001b[0m\u001b[0;34m,\u001b[0m \u001b[0mdataset_triplets\u001b[0m\u001b[0;34m,\u001b[0m \u001b[0mimages\u001b[0m\u001b[0;34m=\u001b[0m\u001b[0;32mTrue\u001b[0m\u001b[0;34m)\u001b[0m\u001b[0;34m)\u001b[0m\u001b[0;34m\u001b[0m\u001b[0;34m\u001b[0m\u001b[0m\n",
      "\u001b[0;31mNameError\u001b[0m: name 'mcmv_triplets' is not defined"
     ]
    }
   ],
   "source": [
    "print(\"Percentage of triplets satisfied from the MCMV queries\")\n",
    "print(percentage_satisfied(model, mcmv_triplets, images=False))\n",
    "print(\"Percentage of triplets satisfied from the dataset\")\n",
    "print(percentage_satisfied(model, dataset_triplets, images=True))"
   ]
  },
  {
   "cell_type": "markdown",
   "metadata": {},
   "source": [
    "### kNN Experiment\n",
    "This is where I will perform the k-nearest neighbor performance. I want to predict whether or not a query will be inconsistent based on its latent vectors."
   ]
  },
  {
   "cell_type": "markdown",
   "metadata": {},
   "source": [
    "### Distance Metric\n",
    "First we want to make some distance metric over the space of query pairs. I want this metric to be symetric so it will be the average of the permuations of the latent vectors."
   ]
  },
  {
   "cell_type": "code",
   "execution_count": 7,
   "metadata": {},
   "outputs": [],
   "source": [
    "\n",
    "def make_metric(latent_dim=10):\n",
    "    \"\"\"\n",
    "        Query_a and query_b are tuples of latent vectors\n",
    "    \"\"\"\n",
    "    def query_distance(query_a, query_b):\n",
    "        # turn the queries into tuples based on latent_dim\n",
    "        query_a = (query_a[0:latent_dim], query_a[latent_dim:])\n",
    "        query_b = (query_b[0:latent_dim], query_b[latent_dim:])\n",
    "        # first \n",
    "        a = np.concatenate(query_a)\n",
    "        b = np.concatenate(query_b)\n",
    "        dist_1 = np.linalg.norm(a - b)\n",
    "        # second\n",
    "        query_a = (query_a[1], query_a[0])\n",
    "        a = np.concatenate(query_a)\n",
    "        b = np.concatenate(query_b)\n",
    "        dist_2 = np.linalg.norm(a - b)\n",
    "        # third\n",
    "        query_a = (query_a[1], query_a[0])\n",
    "        query_b = (query_b[1], query_b[0])\n",
    "        a = np.concatenate(query_a)\n",
    "        b = np.concatenate(query_b)\n",
    "        dist_3 = np.linalg.norm(a - b)\n",
    "        # fourth\n",
    "        query_a = (query_a[1], query_a[0])\n",
    "        a = np.concatenate(query_a)\n",
    "        b = np.concatenate(query_b)\n",
    "        dist_4 = np.linalg.norm(a - b)\n",
    "\n",
    "        return (dist_1 + dist_2 + dist_3 + dist_4) / 4\n",
    "    \n",
    "    return query_distance\n",
    "\n",
    "query_distance = make_metric(model.z_dim)\n",
    "    "
   ]
  },
  {
   "cell_type": "markdown",
   "metadata": {},
   "source": [
    "Now I want to load up all of the data so that I can train a kNN classifier"
   ]
  },
  {
   "cell_type": "code",
   "execution_count": 8,
   "metadata": {},
   "outputs": [],
   "source": [
    "triplet_train_dataset = TripletDataset(\n",
    "    train=True,\n",
    "    which_digits=which_digits,\n",
    "    oracle=metadata_oracle,\n",
    "    one_two_ratio=one_two_ratio,\n",
    "    attribute_return=attribute_return, \n",
    "    single_feature_triplet=True\n",
    ") \n",
    "triplet_test_dataset = TripletDataset(\n",
    "    train=False,\n",
    "    which_digits=which_digits,\n",
    "    oracle=metadata_oracle,\n",
    "    one_two_ratio=one_two_ratio,\n",
    "    attribute_return=attribute_return, \n",
    "    single_feature_triplet=True\n",
    ") "
   ]
  },
  {
   "cell_type": "code",
   "execution_count": 18,
   "metadata": {},
   "outputs": [],
   "source": [
    "# a function that takes a given triplet dataset and generates a set of samples \n",
    "def generate_dataset(triplet_dataset, model, num_samples = 3000, apply_augmentation=True):\n",
    "    input_datas = []\n",
    "    labels = []\n",
    "    for sample_index in tqdm(range(num_samples)):\n",
    "        # sample a triplet\n",
    "        triplet, _ = triplet_dataset[sample_index]\n",
    "        # map the triplet to latent space using the model\n",
    "        z_triplet = triplet_forward(model, triplet)\n",
    "        anchor_z, positive_z, negative_z, attribute_index = z_triplet\n",
    "        positive_z = positive_z.detach().cpu().numpy().squeeze()\n",
    "        negative_z = negative_z.detach().cpu().numpy().squeeze()\n",
    "        input_data = np.concatenate((positive_z, negative_z))\n",
    "        assert len(np.shape(input_data)) == 1\n",
    "        input_datas.append(input_data)\n",
    "        # evalaute whether or not the triplet is satisfied\n",
    "        is_sat = is_satisfied(model, z_triplet, images=False)\n",
    "        labels.append(is_sat)\n",
    "        if apply_augmentation:\n",
    "            input_data = np.concatenate((negative_z, positive_z))\n",
    "            input_datas.append(input_data)\n",
    "            labels.append(is_sat)\n",
    "        \n",
    "    input_datas = np.stack(input_datas)\n",
    "    return input_datas, labels"
   ]
  },
  {
   "cell_type": "code",
   "execution_count": 19,
   "metadata": {},
   "outputs": [
    {
     "name": "stderr",
     "output_type": "stream",
     "text": [
      "100%|██████████| 10000/10000 [01:11<00:00, 138.95it/s]\n",
      "100%|██████████| 3000/3000 [00:21<00:00, 139.44it/s]"
     ]
    },
    {
     "name": "stdout",
     "output_type": "stream",
     "text": [
      "datasets loaded\n"
     ]
    },
    {
     "name": "stderr",
     "output_type": "stream",
     "text": [
      "\n"
     ]
    }
   ],
   "source": [
    "train_dataset = generate_dataset(triplet_train_dataset, model, num_samples=10000)\n",
    "test_dataset = generate_dataset(triplet_test_dataset, model, num_samples=3000)\n",
    "print(\"datasets loaded\")"
   ]
  },
  {
   "cell_type": "code",
   "execution_count": 20,
   "metadata": {},
   "outputs": [
    {
     "name": "stdout",
     "output_type": "stream",
     "text": [
      "[[-3.1979775  -0.64267576 -2.1034284  ...  0.3887502  -0.9398258\n",
      "   0.6163217 ]\n",
      " [ 2.4278715  -1.853126   -0.22120021 ... -0.8391863   0.20057437\n",
      "   0.5431137 ]\n",
      " [ 1.1877067   1.3491385  -0.6242293  ...  0.5962732   0.13909605\n",
      "   0.33599135]\n",
      " ...\n",
      " [-3.2135215   2.9569976   0.75330424 ... -0.26744425  0.2001259\n",
      "  -0.5601714 ]\n",
      " [-0.7917098  -1.3705251   0.5496073  ... -1.1677226   0.6114422\n",
      "   0.97310245]\n",
      " [-0.99062216  1.090662    0.26825505 ...  0.8107096  -1.8223858\n",
      "  -0.5405943 ]]\n"
     ]
    }
   ],
   "source": [
    "print(train_dataset[0])"
   ]
  },
  {
   "cell_type": "code",
   "execution_count": 21,
   "metadata": {},
   "outputs": [
    {
     "name": "stdout",
     "output_type": "stream",
     "text": [
      "0.6798\n"
     ]
    }
   ],
   "source": [
    "# how balanced is the dataset\n",
    "print(np.sum(train_dataset[1]) / len(train_dataset[1]))"
   ]
  },
  {
   "cell_type": "markdown",
   "metadata": {},
   "source": [
    "Setup sklearn k-nn classifier "
   ]
  },
  {
   "cell_type": "code",
   "execution_count": 29,
   "metadata": {},
   "outputs": [
    {
     "ename": "KeyboardInterrupt",
     "evalue": "",
     "output_type": "error",
     "traceback": [
      "\u001b[0;31m---------------------------------------------------------------------------\u001b[0m",
      "\u001b[0;31mKeyboardInterrupt\u001b[0m                         Traceback (most recent call last)",
      "\u001b[0;32m<ipython-input-29-d82776484ab3>\u001b[0m in \u001b[0;36m<module>\u001b[0;34m\u001b[0m\n\u001b[1;32m      4\u001b[0m \u001b[0mknn_classifier\u001b[0m \u001b[0;34m=\u001b[0m \u001b[0mKNeighborsClassifier\u001b[0m\u001b[0;34m(\u001b[0m\u001b[0mmetric\u001b[0m\u001b[0;34m=\u001b[0m\u001b[0mquery_distance\u001b[0m\u001b[0;34m,\u001b[0m \u001b[0mn_neighbors\u001b[0m\u001b[0;34m=\u001b[0m\u001b[0mn_neighbors\u001b[0m\u001b[0;34m,\u001b[0m \u001b[0mp\u001b[0m\u001b[0;34m=\u001b[0m\u001b[0;36m1\u001b[0m\u001b[0;34m)\u001b[0m\u001b[0;34m\u001b[0m\u001b[0;34m\u001b[0m\u001b[0m\n\u001b[1;32m      5\u001b[0m \u001b[0minput_datas\u001b[0m\u001b[0;34m,\u001b[0m \u001b[0mlabels\u001b[0m \u001b[0;34m=\u001b[0m \u001b[0mtrain_dataset\u001b[0m\u001b[0;34m\u001b[0m\u001b[0;34m\u001b[0m\u001b[0m\n\u001b[0;32m----> 6\u001b[0;31m \u001b[0mknn_classifier\u001b[0m\u001b[0;34m.\u001b[0m\u001b[0mfit\u001b[0m\u001b[0;34m(\u001b[0m\u001b[0minput_datas\u001b[0m\u001b[0;34m,\u001b[0m \u001b[0mlabels\u001b[0m\u001b[0;34m)\u001b[0m\u001b[0;34m\u001b[0m\u001b[0;34m\u001b[0m\u001b[0m\n\u001b[0m\u001b[1;32m      7\u001b[0m \u001b[0;31m# evaluate the classifier\u001b[0m\u001b[0;34m\u001b[0m\u001b[0;34m\u001b[0m\u001b[0;34m\u001b[0m\u001b[0m\n\u001b[1;32m      8\u001b[0m \u001b[0minput_datas\u001b[0m\u001b[0;34m,\u001b[0m \u001b[0mlabels\u001b[0m \u001b[0;34m=\u001b[0m \u001b[0mtest_dataset\u001b[0m\u001b[0;34m\u001b[0m\u001b[0;34m\u001b[0m\u001b[0m\n",
      "\u001b[0;32m~/anaconda3/envs/latent/lib/python3.7/site-packages/sklearn/neighbors/base.py\u001b[0m in \u001b[0;36mfit\u001b[0;34m(self, X, y)\u001b[0m\n\u001b[1;32m    914\u001b[0m             \u001b[0mself\u001b[0m\u001b[0;34m.\u001b[0m\u001b[0m_y\u001b[0m \u001b[0;34m=\u001b[0m \u001b[0mself\u001b[0m\u001b[0;34m.\u001b[0m\u001b[0m_y\u001b[0m\u001b[0;34m.\u001b[0m\u001b[0mravel\u001b[0m\u001b[0;34m(\u001b[0m\u001b[0;34m)\u001b[0m\u001b[0;34m\u001b[0m\u001b[0;34m\u001b[0m\u001b[0m\n\u001b[1;32m    915\u001b[0m \u001b[0;34m\u001b[0m\u001b[0m\n\u001b[0;32m--> 916\u001b[0;31m         \u001b[0;32mreturn\u001b[0m \u001b[0mself\u001b[0m\u001b[0;34m.\u001b[0m\u001b[0m_fit\u001b[0m\u001b[0;34m(\u001b[0m\u001b[0mX\u001b[0m\u001b[0;34m)\u001b[0m\u001b[0;34m\u001b[0m\u001b[0;34m\u001b[0m\u001b[0m\n\u001b[0m\u001b[1;32m    917\u001b[0m \u001b[0;34m\u001b[0m\u001b[0m\n\u001b[1;32m    918\u001b[0m \u001b[0;34m\u001b[0m\u001b[0m\n",
      "\u001b[0;32m~/anaconda3/envs/latent/lib/python3.7/site-packages/sklearn/neighbors/base.py\u001b[0m in \u001b[0;36m_fit\u001b[0;34m(self, X)\u001b[0m\n\u001b[1;32m    252\u001b[0m             self._tree = BallTree(X, self.leaf_size,\n\u001b[1;32m    253\u001b[0m                                   \u001b[0mmetric\u001b[0m\u001b[0;34m=\u001b[0m\u001b[0mself\u001b[0m\u001b[0;34m.\u001b[0m\u001b[0meffective_metric_\u001b[0m\u001b[0;34m,\u001b[0m\u001b[0;34m\u001b[0m\u001b[0;34m\u001b[0m\u001b[0m\n\u001b[0;32m--> 254\u001b[0;31m                                   **self.effective_metric_params_)\n\u001b[0m\u001b[1;32m    255\u001b[0m         \u001b[0;32melif\u001b[0m \u001b[0mself\u001b[0m\u001b[0;34m.\u001b[0m\u001b[0m_fit_method\u001b[0m \u001b[0;34m==\u001b[0m \u001b[0;34m'kd_tree'\u001b[0m\u001b[0;34m:\u001b[0m\u001b[0;34m\u001b[0m\u001b[0;34m\u001b[0m\u001b[0m\n\u001b[1;32m    256\u001b[0m             self._tree = KDTree(X, self.leaf_size,\n",
      "\u001b[0;32msklearn/neighbors/binary_tree.pxi\u001b[0m in \u001b[0;36msklearn.neighbors.ball_tree.BinaryTree.__init__\u001b[0;34m()\u001b[0m\n",
      "\u001b[0;32msklearn/neighbors/binary_tree.pxi\u001b[0m in \u001b[0;36msklearn.neighbors.ball_tree.BinaryTree._recursive_build\u001b[0;34m()\u001b[0m\n",
      "\u001b[0;32msklearn/neighbors/binary_tree.pxi\u001b[0m in \u001b[0;36msklearn.neighbors.ball_tree.BinaryTree._recursive_build\u001b[0;34m()\u001b[0m\n",
      "\u001b[0;32msklearn/neighbors/binary_tree.pxi\u001b[0m in \u001b[0;36msklearn.neighbors.ball_tree.BinaryTree._recursive_build\u001b[0;34m()\u001b[0m\n",
      "\u001b[0;32msklearn/neighbors/binary_tree.pxi\u001b[0m in \u001b[0;36msklearn.neighbors.ball_tree.BinaryTree._recursive_build\u001b[0;34m()\u001b[0m\n",
      "\u001b[0;32msklearn/neighbors/binary_tree.pxi\u001b[0m in \u001b[0;36msklearn.neighbors.ball_tree.BinaryTree._recursive_build\u001b[0;34m()\u001b[0m\n",
      "\u001b[0;32msklearn/neighbors/binary_tree.pxi\u001b[0m in \u001b[0;36msklearn.neighbors.ball_tree.BinaryTree._recursive_build\u001b[0;34m()\u001b[0m\n",
      "\u001b[0;32msklearn/neighbors/binary_tree.pxi\u001b[0m in \u001b[0;36msklearn.neighbors.ball_tree.BinaryTree._recursive_build\u001b[0;34m()\u001b[0m\n",
      "\u001b[0;32msklearn/neighbors/ball_tree.pyx\u001b[0m in \u001b[0;36msklearn.neighbors.ball_tree.init_node\u001b[0;34m()\u001b[0m\n",
      "\u001b[0;32msklearn/neighbors/binary_tree.pxi\u001b[0m in \u001b[0;36msklearn.neighbors.ball_tree.BinaryTree.rdist\u001b[0;34m()\u001b[0m\n",
      "\u001b[0;32msklearn/neighbors/dist_metrics.pyx\u001b[0m in \u001b[0;36msklearn.neighbors.dist_metrics.DistanceMetric.rdist\u001b[0;34m()\u001b[0m\n",
      "\u001b[0;32msklearn/neighbors/dist_metrics.pyx\u001b[0m in \u001b[0;36msklearn.neighbors.dist_metrics.PyFuncDistance.dist\u001b[0;34m()\u001b[0m\n",
      "\u001b[0;32msklearn/neighbors/dist_metrics.pyx\u001b[0m in \u001b[0;36msklearn.neighbors.dist_metrics.PyFuncDistance._dist\u001b[0;34m()\u001b[0m\n",
      "\u001b[0;32m<ipython-input-7-2510a13ba463>\u001b[0m in \u001b[0;36mquery_distance\u001b[0;34m(query_a, query_b)\u001b[0m\n\u001b[1;32m     15\u001b[0m         \u001b[0ma\u001b[0m \u001b[0;34m=\u001b[0m \u001b[0mnp\u001b[0m\u001b[0;34m.\u001b[0m\u001b[0mconcatenate\u001b[0m\u001b[0;34m(\u001b[0m\u001b[0mquery_a\u001b[0m\u001b[0;34m)\u001b[0m\u001b[0;34m\u001b[0m\u001b[0;34m\u001b[0m\u001b[0m\n\u001b[1;32m     16\u001b[0m         \u001b[0mb\u001b[0m \u001b[0;34m=\u001b[0m \u001b[0mnp\u001b[0m\u001b[0;34m.\u001b[0m\u001b[0mconcatenate\u001b[0m\u001b[0;34m(\u001b[0m\u001b[0mquery_b\u001b[0m\u001b[0;34m)\u001b[0m\u001b[0;34m\u001b[0m\u001b[0;34m\u001b[0m\u001b[0m\n\u001b[0;32m---> 17\u001b[0;31m         \u001b[0mdist_2\u001b[0m \u001b[0;34m=\u001b[0m \u001b[0mnp\u001b[0m\u001b[0;34m.\u001b[0m\u001b[0mlinalg\u001b[0m\u001b[0;34m.\u001b[0m\u001b[0mnorm\u001b[0m\u001b[0;34m(\u001b[0m\u001b[0ma\u001b[0m \u001b[0;34m-\u001b[0m \u001b[0mb\u001b[0m\u001b[0;34m)\u001b[0m\u001b[0;34m\u001b[0m\u001b[0;34m\u001b[0m\u001b[0m\n\u001b[0m\u001b[1;32m     18\u001b[0m         \u001b[0;31m# third\u001b[0m\u001b[0;34m\u001b[0m\u001b[0;34m\u001b[0m\u001b[0;34m\u001b[0m\u001b[0m\n\u001b[1;32m     19\u001b[0m         \u001b[0mquery_a\u001b[0m \u001b[0;34m=\u001b[0m \u001b[0;34m(\u001b[0m\u001b[0mquery_a\u001b[0m\u001b[0;34m[\u001b[0m\u001b[0;36m1\u001b[0m\u001b[0;34m]\u001b[0m\u001b[0;34m,\u001b[0m \u001b[0mquery_a\u001b[0m\u001b[0;34m[\u001b[0m\u001b[0;36m0\u001b[0m\u001b[0;34m]\u001b[0m\u001b[0;34m)\u001b[0m\u001b[0;34m\u001b[0m\u001b[0;34m\u001b[0m\u001b[0m\n",
      "\u001b[0;31mKeyboardInterrupt\u001b[0m: "
     ]
    }
   ],
   "source": [
    "from sklearn.neighbors import KNeighborsClassifier\n",
    "\n",
    "n_neighbors = 20\n",
    "knn_classifier = KNeighborsClassifier(metric=query_distance, n_neighbors=n_neighbors, p=1)\n",
    "input_datas, labels = train_dataset\n",
    "knn_classifier.fit(input_datas, labels)\n",
    "# evaluate the classifier\n",
    "input_datas, labels = test_dataset\n",
    "print(knn_classifier.score(input_datas, labels))"
   ]
  },
  {
   "cell_type": "code",
   "execution_count": 30,
   "metadata": {},
   "outputs": [
    {
     "name": "stdout",
     "output_type": "stream",
     "text": [
      "train error\n",
      "0.71825\n",
      "test error\n",
      "0.5068333333333334\n"
     ]
    },
    {
     "name": "stderr",
     "output_type": "stream",
     "text": [
      "/home/alec/anaconda3/envs/latent/lib/python3.7/site-packages/sklearn/neural_network/multilayer_perceptron.py:562: ConvergenceWarning: Stochastic Optimizer: Maximum iterations (200) reached and the optimization hasn't converged yet.\n",
      "  % self.max_iter, ConvergenceWarning)\n"
     ]
    }
   ],
   "source": [
    "from sklearn.neural_network import MLPClassifier\n",
    "\n",
    "mlp_classifier = MLPClassifier(hidden_layer_sizes=(20, 20, 20))\n",
    "input_datas, labels = train_dataset\n",
    "mlp_classifier.fit(input_datas, labels)\n",
    "print(\"train error\")\n",
    "print(mlp_classifier.score(input_datas, labels))\n",
    "input_datas, labels = test_dataset\n",
    "print(\"test error\")\n",
    "print(mlp_classifier.score(input_datas, labels))"
   ]
  },
  {
   "cell_type": "code",
   "execution_count": 90,
   "metadata": {},
   "outputs": [
    {
     "name": "stdout",
     "output_type": "stream",
     "text": [
      "0.62\n"
     ]
    }
   ],
   "source": []
  },
  {
   "cell_type": "code",
   "execution_count": null,
   "metadata": {},
   "outputs": [],
   "source": []
  }
 ],
 "metadata": {
  "kernelspec": {
   "display_name": "Python 3",
   "language": "python",
   "name": "python3"
  },
  "language_info": {
   "codemirror_mode": {
    "name": "ipython",
    "version": 3
   },
   "file_extension": ".py",
   "mimetype": "text/x-python",
   "name": "python",
   "nbconvert_exporter": "python",
   "pygments_lexer": "ipython3",
   "version": "3.7.6"
  }
 },
 "nbformat": 4,
 "nbformat_minor": 4
}
