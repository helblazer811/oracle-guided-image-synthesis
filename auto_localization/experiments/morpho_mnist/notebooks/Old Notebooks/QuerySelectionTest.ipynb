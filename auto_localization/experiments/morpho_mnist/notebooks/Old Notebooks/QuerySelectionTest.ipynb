{
 "cells": [
  {
   "cell_type": "code",
   "execution_count": 1,
   "metadata": {},
   "outputs": [],
   "source": [
    "import matplotlib.pyplot as plt\n",
    "import torch\n",
    "import sys\n",
    "import os\n",
    "sys.path.append(os.environ[\"LATENT_PATH\"])\n",
    "import pickle\n",
    "from auto_localization.experiment_management.basic_experiment import BasicExperiment\n",
    "from auto_localization.dataset_management.data_manager import DataManager\n",
    "from datasets.morpho_mnist.dataset import ImageDataset, TripletDataset, MetadataDataset\n",
    "from auto_localization.oracles.metadata_oracle import MetadataOracle\n",
    "from auto_localization.oracles.indexed_metadata_oracle import IndexedMetadataOracle\n",
    "from auto_localization.oracles.indexed_class_oracle import IndexedClassOracle\n",
    "from auto_localization.oracles.oracle import EnsembleOracle\n",
    "from datasets.morpho_mnist.measure import measure_image\n",
    "from auto_localization.models.loss.masked_vae_triplet_loss import MaskedVAETripletLoss\n",
    "import auto_localization.models.loss.bayesian_triplet_loss as btl\n",
    "import numpy as np\n",
    "from tqdm import tqdm\n",
    "from torch.distributions.normal import Normal\n",
    "import matplotlib\n",
    "import seaborn as sns\n",
    "import scipy.stats\n",
    "from torch.distributions.normal import Normal\n",
    "%matplotlib inline"
   ]
  },
  {
   "cell_type": "code",
   "execution_count": 2,
   "metadata": {},
   "outputs": [
    {
     "name": "stderr",
     "output_type": "stream",
     "text": [
      "wandb: Currently logged in as: helblazer811 (use `wandb login --relogin` to force relogin)\n"
     ]
    },
    {
     "name": "stdout",
     "output_type": "stream",
     "text": [
      "Setting Up Logging\n"
     ]
    },
    {
     "name": "stderr",
     "output_type": "stream",
     "text": [
      "wandb: wandb version 0.12.9 is available!  To upgrade, please run:\n",
      "wandb:  $ pip install wandb --upgrade\n"
     ]
    },
    {
     "data": {
      "text/html": [
       "\n",
       "                Tracking run with wandb version 0.10.22<br/>\n",
       "                Syncing run <strong style=\"color:#cdcd00\">logical-pyramid-673</strong> to <a href=\"https://wandb.ai\" target=\"_blank\">Weights & Biases</a> <a href=\"https://docs.wandb.com/integrations/jupyter.html\" target=\"_blank\">(Documentation)</a>.<br/>\n",
       "                Project page: <a href=\"https://wandb.ai/helblazer811/latent-space-localization-final\" target=\"_blank\">https://wandb.ai/helblazer811/latent-space-localization-final</a><br/>\n",
       "                Run page: <a href=\"https://wandb.ai/helblazer811/latent-space-localization-final/runs/y2ow6ew5\" target=\"_blank\">https://wandb.ai/helblazer811/latent-space-localization-final/runs/y2ow6ew5</a><br/>\n",
       "                Run data is saved locally in <code>/home/alec/latent-space-localization/auto_localization/experiments/morpho_mnist/wandb/run-20220101_203046-y2ow6ew5</code><br/><br/>\n",
       "            "
      ],
      "text/plain": [
       "<IPython.core.display.HTML object>"
      ]
     },
     "metadata": {},
     "output_type": "display_data"
    },
    {
     "name": "stdout",
     "output_type": "stream",
     "text": [
      "Setup Model Config\n",
      "Setting Up Model\n",
      "IsolatedVAE(\n",
      "  (conv1): Conv2d(1, 32, kernel_size=(4, 4), stride=(2, 2), padding=(1, 1))\n",
      "  (conv1_bn): BatchNorm2d(32, eps=1e-05, momentum=0.1, affine=True, track_running_stats=True)\n",
      "  (conv2): Conv2d(32, 64, kernel_size=(4, 4), stride=(2, 2), padding=(1, 1))\n",
      "  (conv2_bn): BatchNorm2d(64, eps=1e-05, momentum=0.1, affine=True, track_running_stats=True)\n",
      "  (conv3): Conv2d(64, 128, kernel_size=(4, 4), stride=(2, 2), padding=(1, 1))\n",
      "  (conv3_bn): BatchNorm2d(128, eps=1e-05, momentum=0.1, affine=True, track_running_stats=True)\n",
      "  (conv4): Conv2d(128, 256, kernel_size=(4, 4), stride=(2, 2), padding=(1, 1))\n",
      "  (conv4_bn): BatchNorm2d(256, eps=1e-05, momentum=0.1, affine=True, track_running_stats=True)\n",
      "  (similarity_mean_linear): Linear(in_features=1024, out_features=6, bias=True)\n",
      "  (similarity_logvar_linear): Linear(in_features=1024, out_features=6, bias=True)\n",
      "  (reconstructive_mean_linear): Linear(in_features=1024, out_features=0, bias=True)\n",
      "  (reconstructive_logvar_linear): Linear(in_features=1024, out_features=0, bias=True)\n",
      "  (d1): Linear(in_features=6, out_features=1024, bias=True)\n",
      "  (deconv2): ConvTranspose2d(256, 128, kernel_size=(4, 4), stride=(2, 2), padding=(1, 1))\n",
      "  (deconv2_bn): BatchNorm2d(128, eps=1e-05, momentum=0.1, affine=True, track_running_stats=True)\n",
      "  (deconv3): ConvTranspose2d(128, 64, kernel_size=(4, 4), stride=(2, 2), padding=(1, 1))\n",
      "  (deconv3_bn): BatchNorm2d(64, eps=1e-05, momentum=0.1, affine=True, track_running_stats=True)\n",
      "  (deconv4): ConvTranspose2d(64, 32, kernel_size=(4, 4), stride=(2, 2), padding=(1, 1))\n",
      "  (deconv4_bn): BatchNorm2d(32, eps=1e-05, momentum=0.1, affine=True, track_running_stats=True)\n",
      "  (deconv5): ConvTranspose2d(32, 1, kernel_size=(4, 4), stride=(2, 2), padding=(1, 1))\n",
      "  (loss_function): BayesianTripletLoss(margin=0.0000)\n",
      ")\n",
      "Setting Up Trianer\n",
      "Failed to load localizers\n"
     ]
    }
   ],
   "source": [
    "# load a traditional model\n",
    "run_name = \"clear-sponge-568\"\n",
    "# load up the experiment parameters from the given run_name\n",
    "run_directory = os.path.join(os.environ[\"LATENT_PATH\"], \"auto_localization\", \"logs\", run_name)\n",
    "# load the expeirment config\n",
    "params_path = run_directory + \"/params.pkl\"\n",
    "with open(params_path, \"rb\") as f:\n",
    "    experiment_config = pickle.load(f)\n",
    "# make the experiment\n",
    "basic_experiment = BasicExperiment(experiment_config=experiment_config, do_setup=False)\n",
    "basic_experiment.load_data(run_directory)\n",
    "# get the model\n",
    "model = basic_experiment.model"
   ]
  },
  {
   "cell_type": "code",
   "execution_count": 3,
   "metadata": {},
   "outputs": [],
   "source": [
    "# setup tripelt dataset\n",
    "which_digits=[1]\n",
    "component_weighting = [1.0, 1.0, 1.0, 1.0, 1.0, 1.0]\n",
    "one_two_ratio = 0.0\n",
    "attribute_return = True\n",
    "\n",
    "metadata_dataset = MetadataDataset(\n",
    "    train=True, \n",
    "    which_digits=which_digits\n",
    ")\n",
    "metadata_oracle = IndexedMetadataOracle(\n",
    "    metadata_dataset=metadata_dataset,\n",
    "    component_weighting=component_weighting,\n",
    ")\n",
    "\n",
    "image_train = ImageDataset(train=True)\n",
    "image_test = ImageDataset(train=False)\n",
    "\n",
    "# setup data manager\n",
    "triplet_train_dataset = TripletDataset(\n",
    "    train=True,\n",
    "    which_digits=which_digits,\n",
    "    oracle=metadata_oracle,\n",
    "    one_two_ratio=one_two_ratio,\n",
    "    attribute_return=attribute_return, \n",
    "    single_feature_triplet=True\n",
    ") \n",
    "triplet_test_dataset = TripletDataset(\n",
    "    train=False,\n",
    "    which_digits=which_digits,\n",
    "    oracle=metadata_oracle,\n",
    "    one_two_ratio=one_two_ratio,\n",
    "    attribute_return=attribute_return, \n",
    "    single_feature_triplet=True\n",
    ") "
   ]
  },
  {
   "cell_type": "markdown",
   "metadata": {},
   "source": [
    "## Compute Predicted and True Certainties"
   ]
  },
  {
   "cell_type": "code",
   "execution_count": 4,
   "metadata": {},
   "outputs": [],
   "source": [
    "def calculate_probability(muA, muP, muN, varA, varP, varN, margin = 0.0):\n",
    "    muA = muA.unsqueeze(0)\n",
    "    muP = muP.unsqueeze(0)\n",
    "    muN = muN.unsqueeze(0)\n",
    "    varA = varA.unsqueeze(0)\n",
    "    varP = varP.unsqueeze(0)\n",
    "    varN = varN.unsqueeze(0)\n",
    "    \n",
    "    muA2 = muA**2\n",
    "    muP2 = muP**2\n",
    "    muN2 = muN**2\n",
    "    varP2 = varP**2\n",
    "    varN2 = varN**2\n",
    "\n",
    "    mu = torch.sum(muP2 + varP - muN2 - varN - 2*muA*(muP - muN), dim=1)\n",
    "    T1 = varP2 + 2*muP2 * varP + 2*(varA + muA2)*(varP + muP2) - 2*muA2 * muP2 - 4*muA*muP*varP\n",
    "    T2 = varN2 + 2*muN2 * varN + 2*(varA + muA2)*(varN + muN2) - 2*muA2 * muN2 - 4*muA*muN*varN\n",
    "    T3 = 4*muP*muN*varA\n",
    "    sigma2 = torch.sum(2*T1 + 2*T2 - 2*T3, dim=1)\n",
    "    sigma = sigma2**0.5\n",
    "\n",
    "    probs = Normal(loc = mu, scale = sigma + 1e-8).cdf(margin)\n",
    "\n",
    "    return probs\n",
    "    \n",
    "# measure of whether or not a query is satisfied by a model\n",
    "def triplet_forward(model, triplet):\n",
    "    anchor, positive, negative, attribute_index = triplet\n",
    "    anchor_mu, anchor_logvar, anchor_z, _ = model.forward(anchor.cuda())\n",
    "    positive_mu, positive_logvar, positive_z, _ = model.forward(positive.cuda())\n",
    "    negative_mu, negative_logvar, negative_z, _ = model.forward(negative.cuda())\n",
    "    \n",
    "    return ([anchor_mu, anchor_logvar], [positive_mu, positive_logvar], [negative_mu, negative_logvar], attribute_index)"
   ]
  },
  {
   "cell_type": "code",
   "execution_count": 5,
   "metadata": {},
   "outputs": [],
   "source": [
    "num_images = 500\n",
    "image_dataset = image_test\n",
    "mean_vals = []\n",
    "logvar_vals = []\n",
    "for i in range(num_images):\n",
    "    image = image_dataset[i]\n",
    "    mean, logvar, _, _ = model.forward(image.cuda())\n",
    "    mean_vals.append(mean.detach().cpu().numpy())\n",
    "    logvar_vals.append(logvar.detach().cpu().numpy())\n",
    "mean_vals = np.array(mean_vals)\n",
    "data_mean = torch.Tensor(np.mean(mean_vals, axis=0)).cuda()\n",
    "data_var = torch.Tensor(np.var(mean_vals, axis=0)).cuda()"
   ]
  },
  {
   "cell_type": "code",
   "execution_count": 6,
   "metadata": {},
   "outputs": [],
   "source": [
    "num_sample = 500\n",
    "means = []\n",
    "variances = []\n",
    "for i in range(num_sample):\n",
    "    image = image_dataset[i]\n",
    "    mean, logvar, _, _ = model.forward(image.cuda())\n",
    "    var = logvar.exp()\n",
    "    means.append(mean)\n",
    "    variances.append(var)"
   ]
  },
  {
   "cell_type": "code",
   "execution_count": 7,
   "metadata": {},
   "outputs": [
    {
     "name": "stderr",
     "output_type": "stream",
     "text": [
      "100%|██████████| 2000/2000 [15:44<00:00,  2.12it/s]\n"
     ]
    }
   ],
   "source": [
    "# calculate \n",
    "triplet_dataset = triplet_test_dataset\n",
    "num_triplets = 2000\n",
    "trues, expecteds = [], []\n",
    "projected_variances = []\n",
    "for index in tqdm(range(num_triplets)):\n",
    "    triplet, _ = triplet_dataset[index]\n",
    "    # embedd the triplet\n",
    "    triplet_out = triplet_forward(model, triplet)\n",
    "    anchor, positive, negative, _ = triplet_out\n",
    "    muA, varA = anchor\n",
    "    varA = varA.exp()\n",
    "    muP, varP = positive\n",
    "    varP = varP.exp()\n",
    "    muN, varN = negative\n",
    "    varN = varN.exp()\n",
    "    # calcualte the true probability\n",
    "    prob = abs(calculate_probability(muA, muP, muN, varA, varP, varN, margin = 0.0).item() - 0.5)\n",
    "    # calculate the expected probability\n",
    "    # muA = torch.zeros_like(muA)\n",
    "    # varA = torch.ones_like(varA)*5\n",
    "    muA = data_mean\n",
    "    varA = data_var\n",
    "    num_sample = 500\n",
    "    expected_probs = []\n",
    "    for i in range(num_sample):\n",
    "        mean = means[i]\n",
    "        var = variances[i]\n",
    "        expected_prob = abs(calculate_probability(mean, muP, muN, var, varP, varN, margin = 0.0).item() - 0.5)\n",
    "        expected_probs.append(expected_prob)\n",
    "    expected_prob = np.mean(expected_probs)\n",
    "    expecteds.append(expected_prob)\n",
    "    # compute projected variances\n",
    "    varP = varP.detach().cpu().numpy()\n",
    "    varN = varN.detach().cpu().numpy()\n",
    "    muP = muP.detach().cpu().numpy()\n",
    "    muN = muN.detach().cpu().numpy()\n",
    "    \n",
    "    connecting_vector = muP - muN\n",
    "    # connecting_vector /= np.linalg.norm(connecting_vector)\n",
    "    b_cov = np.diag(varP)\n",
    "    b_projected_variance = np.dot(connecting_vector, b_cov).dot(connecting_vector)\n",
    "    a_cov = np.diag(varN)\n",
    "    a_projected_variance = np.dot(connecting_vector, a_cov).dot(connecting_vector)\n",
    "    combined_projected_variance = a_projected_variance + b_projected_variance\n",
    "    trues.append(prob)\n",
    "    #expecteds.append(expected_prob)\n",
    "    projected_variances.append(combined_projected_variance)"
   ]
  },
  {
   "cell_type": "code",
   "execution_count": 8,
   "metadata": {},
   "outputs": [
    {
     "name": "stdout",
     "output_type": "stream",
     "text": [
      "2000\n",
      "[[1.        0.6200818]\n",
      " [0.6200818 1.       ]]\n",
      "SpearmanrResult(correlation=0.6703576071465477, pvalue=3.4409672103633473e-261)\n"
     ]
    },
    {
     "data": {
      "image/png": "[encoded data removed]",
      "text/plain": [
       "<Figure size 432x432 with 1 Axes>"
      ]
     },
     "metadata": {
      "needs_background": "light"
     },
     "output_type": "display_data"
    }
   ],
   "source": [
    "# plot\n",
    "fig, axs = plt.subplots(figsize=(6, 6))\n",
    "print(len(expecteds))\n",
    "plt.scatter(expecteds, trues)\n",
    "print(np.corrcoef(expecteds, trues))\n",
    "from scipy import stats\n",
    "print(stats.spearmanr(expecteds, trues))\n",
    "\n",
    "plt.ylim(0, 0.5)\n",
    "plt.xlim(0, 0.5)\n",
    "plt.show()"
   ]
  },
  {
   "cell_type": "code",
   "execution_count": 9,
   "metadata": {},
   "outputs": [
    {
     "data": {
      "image/png": "[encoded data removed]",
      "text/plain": [
       "<Figure size 432x288 with 1 Axes>"
      ]
     },
     "metadata": {
      "needs_background": "light"
     },
     "output_type": "display_data"
    }
   ],
   "source": [
    "trues = np.array(trues)\n",
    "H, _, _ = np.histogram2d(expecteds, trues)\n",
    "H = np.flip(H, axis=1)\n",
    "plt.imshow(H, cmap='hot', interpolation='nearest')\n",
    "plt.show()"
   ]
  },
  {
   "cell_type": "code",
   "execution_count": null,
   "metadata": {},
   "outputs": [],
   "source": []
  }
 ],
 "metadata": {
  "kernelspec": {
   "display_name": "Python 3",
   "language": "python",
   "name": "python3"
  },
  "language_info": {
   "codemirror_mode": {
    "name": "ipython",
    "version": 3
   },
   "file_extension": ".py",
   "mimetype": "text/x-python",
   "name": "python",
   "nbconvert_exporter": "python",
   "pygments_lexer": "ipython3",
   "version": "3.7.6"
  }
 },
 "nbformat": 4,
 "nbformat_minor": 4
}
