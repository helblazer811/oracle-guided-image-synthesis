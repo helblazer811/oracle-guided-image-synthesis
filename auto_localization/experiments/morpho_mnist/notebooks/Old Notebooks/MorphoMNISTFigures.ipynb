{
 "cells": [
  {
   "cell_type": "code",
   "execution_count": 2,
   "metadata": {},
   "outputs": [],
   "source": [
    "import seaborn as sns\n",
    "import torch\n",
    "import sys\n",
    "import os\n",
    "sys.path.append(os.environ[\"LATENT_PATH\"])\n",
    "import pickle\n",
    "from auto_localization.experiment_management.basic_experiment import BasicExperiment\n",
    "from auto_localization.dataset_management.data_manager import DataManager\n",
    "from datasets.morpho_mnist.dataset import MetadataDataset, ImageDataset, TripletDataset\n",
    "from auto_localization.oracles.metadata_oracle import MetadataOracle\n",
    "from auto_localization.oracles.indexed_metadata_oracle import IndexedMetadataOracle\n",
    "from auto_localization.oracles.indexed_class_oracle import IndexedClassOracle\n",
    "from auto_localization.oracles.oracle import EnsembleOracle\n",
    "from datasets.morpho_mnist.measure import measure_image\n",
    "from auto_localization.models.loss.masked_vae_triplet_loss import MaskedVAETripletLoss\n",
    "import numpy as np\n",
    "from tqdm import tqdm"
   ]
  },
  {
   "cell_type": "code",
   "execution_count": 4,
   "metadata": {},
   "outputs": [
    {
     "name": "stdout",
     "output_type": "stream",
     "text": [
      "Setting Up Logging\n"
     ]
    },
    {
     "data": {
      "text/html": [
       "Finishing last run (ID:36h5fm2a) before initializing another..."
      ],
      "text/plain": [
       "<IPython.core.display.HTML object>"
      ]
     },
     "metadata": {},
     "output_type": "display_data"
    },
    {
     "data": {
      "text/html": [
       "<br/>Waiting for W&B process to finish, PID 108089<br/>Program ended successfully."
      ],
      "text/plain": [
       "<IPython.core.display.HTML object>"
      ]
     },
     "metadata": {},
     "output_type": "display_data"
    },
    {
     "data": {
      "application/vnd.jupyter.widget-view+json": {
       "model_id": "",
       "version_major": 2,
       "version_minor": 0
      },
      "text/plain": [
       "VBox(children=(Label(value=' 0.00MB of 0.00MB uploaded (0.00MB deduped)\\r'), FloatProgress(value=1.0, max=1.0)…"
      ]
     },
     "metadata": {},
     "output_type": "display_data"
    },
    {
     "data": {
      "text/html": [
       "Find user logs for this run at: <code>/home/alec/latent-space-localization/auto_localization/experiments/morpho_mnist/wandb/run-20211213_164242-36h5fm2a/logs/debug.log</code>"
      ],
      "text/plain": [
       "<IPython.core.display.HTML object>"
      ]
     },
     "metadata": {},
     "output_type": "display_data"
    },
    {
     "data": {
      "text/html": [
       "Find internal logs for this run at: <code>/home/alec/latent-space-localization/auto_localization/experiments/morpho_mnist/wandb/run-20211213_164242-36h5fm2a/logs/debug-internal.log</code>"
      ],
      "text/plain": [
       "<IPython.core.display.HTML object>"
      ]
     },
     "metadata": {},
     "output_type": "display_data"
    },
    {
     "data": {
      "text/html": [
       "Synced 5 W&B file(s), 0 media file(s), 0 artifact file(s) and 0 other file(s)"
      ],
      "text/plain": [
       "<IPython.core.display.HTML object>"
      ]
     },
     "metadata": {},
     "output_type": "display_data"
    },
    {
     "data": {
      "text/html": [
       "\n",
       "                    <br/>Synced <strong style=\"color:#cdcd00\">quiet-elevator-236</strong>: <a href=\"https://wandb.ai/helblazer811/latent-space-localization-final/runs/36h5fm2a\" target=\"_blank\">https://wandb.ai/helblazer811/latent-space-localization-final/runs/36h5fm2a</a><br/>\n",
       "                "
      ],
      "text/plain": [
       "<IPython.core.display.HTML object>"
      ]
     },
     "metadata": {},
     "output_type": "display_data"
    },
    {
     "data": {
      "text/html": [
       "...Successfully finished last run (ID:36h5fm2a). Initializing new run:<br/><br/>"
      ],
      "text/plain": [
       "<IPython.core.display.HTML object>"
      ]
     },
     "metadata": {},
     "output_type": "display_data"
    },
    {
     "name": "stderr",
     "output_type": "stream",
     "text": [
      "wandb: wandb version 0.12.7 is available!  To upgrade, please run:\n",
      "wandb:  $ pip install wandb --upgrade\n"
     ]
    },
    {
     "data": {
      "text/html": [
       "\n",
       "                Tracking run with wandb version 0.10.22<br/>\n",
       "                Syncing run <strong style=\"color:#cdcd00\">dashing-snow-237</strong> to <a href=\"https://wandb.ai\" target=\"_blank\">Weights & Biases</a> <a href=\"https://docs.wandb.com/integrations/jupyter.html\" target=\"_blank\">(Documentation)</a>.<br/>\n",
       "                Project page: <a href=\"https://wandb.ai/helblazer811/latent-space-localization-final\" target=\"_blank\">https://wandb.ai/helblazer811/latent-space-localization-final</a><br/>\n",
       "                Run page: <a href=\"https://wandb.ai/helblazer811/latent-space-localization-final/runs/34tkr8yj\" target=\"_blank\">https://wandb.ai/helblazer811/latent-space-localization-final/runs/34tkr8yj</a><br/>\n",
       "                Run data is saved locally in <code>/home/alec/latent-space-localization/auto_localization/experiments/morpho_mnist/wandb/run-20211213_164301-34tkr8yj</code><br/><br/>\n",
       "            "
      ],
      "text/plain": [
       "<IPython.core.display.HTML object>"
      ]
     },
     "metadata": {},
     "output_type": "display_data"
    },
    {
     "name": "stdout",
     "output_type": "stream",
     "text": [
      "Setup Model Config\n",
      "Setting Up Model\n",
      "IsolatedVAE(\n",
      "  (loss_function): IsolatedTripletLoss(\n",
      "    (empty_linear): Linear(in_features=1, out_features=1, bias=True)\n",
      "    (triplet_margin_loss): TripletMarginLoss()\n",
      "  )\n",
      "  (conv1): Conv2d(1, 32, kernel_size=(4, 4), stride=(2, 2), padding=(1, 1))\n",
      "  (conv1_bn): BatchNorm2d(32, eps=1e-05, momentum=0.1, affine=True, track_running_stats=True)\n",
      "  (conv2): Conv2d(32, 64, kernel_size=(4, 4), stride=(2, 2), padding=(1, 1))\n",
      "  (conv2_bn): BatchNorm2d(64, eps=1e-05, momentum=0.1, affine=True, track_running_stats=True)\n",
      "  (conv3): Conv2d(64, 128, kernel_size=(4, 4), stride=(2, 2), padding=(1, 1))\n",
      "  (conv3_bn): BatchNorm2d(128, eps=1e-05, momentum=0.1, affine=True, track_running_stats=True)\n",
      "  (conv4): Conv2d(128, 256, kernel_size=(4, 4), stride=(2, 2), padding=(1, 1))\n",
      "  (conv4_bn): BatchNorm2d(256, eps=1e-05, momentum=0.1, affine=True, track_running_stats=True)\n",
      "  (similarity_mean_linear): Linear(in_features=1024, out_features=4, bias=True)\n",
      "  (similarity_logvar_linear): Linear(in_features=1024, out_features=4, bias=True)\n",
      "  (reconstructive_mean_linear): Linear(in_features=1024, out_features=0, bias=True)\n",
      "  (reconstructive_logvar_linear): Linear(in_features=1024, out_features=0, bias=True)\n",
      "  (d1): Linear(in_features=4, out_features=1024, bias=True)\n",
      "  (deconv2): ConvTranspose2d(256, 128, kernel_size=(4, 4), stride=(2, 2), padding=(1, 1))\n",
      "  (deconv2_bn): BatchNorm2d(128, eps=1e-05, momentum=0.1, affine=True, track_running_stats=True)\n",
      "  (deconv3): ConvTranspose2d(128, 64, kernel_size=(4, 4), stride=(2, 2), padding=(1, 1))\n",
      "  (deconv3_bn): BatchNorm2d(64, eps=1e-05, momentum=0.1, affine=True, track_running_stats=True)\n",
      "  (deconv4): ConvTranspose2d(64, 32, kernel_size=(4, 4), stride=(2, 2), padding=(1, 1))\n",
      "  (deconv4_bn): BatchNorm2d(32, eps=1e-05, momentum=0.1, affine=True, track_running_stats=True)\n",
      "  (deconv5): ConvTranspose2d(32, 1, kernel_size=(4, 4), stride=(2, 2), padding=(1, 1))\n",
      ")\n",
      "Setting Up Trianer\n"
     ]
    }
   ],
   "source": [
    "# load the model \n",
    "run_name = \"rosy-smoke-134\"\n",
    "# load up the experiment parameters from the given run_name\n",
    "run_directory = os.path.join(os.environ[\"LATENT_PATH\"], \"auto_localization\", \"logs\", run_name)\n",
    "# load the expeirment config\n",
    "params_path = run_directory + \"/params.pkl\"\n",
    "with open(params_path, \"rb\") as f:\n",
    "    experiment_config = pickle.load(f)\n",
    "# make the experiment\n",
    "basic_experiment = BasicExperiment(experiment_config=experiment_config, do_setup=False)\n",
    "basic_experiment.load_data(run_directory)\n",
    "# get the model\n",
    "model = basic_experiment.model\n",
    "localizers = basic_experiment.localization_experiment_manager.localizers"
   ]
  },
  {
   "cell_type": "code",
   "execution_count": null,
   "metadata": {},
   "outputs": [],
   "source": [
    "\"\"\"\n",
    "    Loads the localizers for a given run\n",
    "\"\"\"\n",
    "def load_localizers(run_name):\n",
    "    pass"
   ]
  },
  {
   "cell_type": "code",
   "execution_count": null,
   "metadata": {},
   "outputs": [],
   "source": [
    "triplet_analysis_config = {\n",
    "    \"Vanilla VAE\": {\n",
    "        \"wandb_paths\" :[\"spooky-bones-8663\", \"spooky-bones-8663\"],\n",
    "        \"localizer_paths\": [\"easy-deluge-8694\"]\n",
    "    },\n",
    "    \"Triplet VAE\": {\n",
    "        \"wandb_paths\" :[\"spooky-bones-8663\", \"spooky-bones-8663\"],\n",
    "        \"localizer_paths\": [\"easy-deluge-8694\"]\n",
    "    }\n",
    "}"
   ]
  },
  {
   "cell_type": "markdown",
   "metadata": {},
   "source": [
    "### Load the Given Localizers"
   ]
  },
  {
   "cell_type": "markdown",
   "metadata": {},
   "source": [
    "## Make Localization Plot"
   ]
  },
  {
   "cell_type": "code",
   "execution_count": null,
   "metadata": {},
   "outputs": [],
   "source": [
    "def plot_nearest_neighbor_percentile_localization():\n",
    "    pass"
   ]
  }
 ],
 "metadata": {
  "kernelspec": {
   "display_name": "Python 3",
   "language": "python",
   "name": "python3"
  },
  "language_info": {
   "codemirror_mode": {
    "name": "ipython",
    "version": 3
   },
   "file_extension": ".py",
   "mimetype": "text/x-python",
   "name": "python",
   "nbconvert_exporter": "python",
   "pygments_lexer": "ipython3",
   "version": "3.7.6"
  }
 },
 "nbformat": 4,
 "nbformat_minor": 4
}
