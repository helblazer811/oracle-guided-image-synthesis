{
 "cells": [
  {
   "cell_type": "code",
   "execution_count": 23,
   "metadata": {},
   "outputs": [],
   "source": [
    "import matplotlib.pyplot as plt\n",
    "import numpy as np\n",
    "import torch\n",
    "import sys\n",
    "import os\n",
    "sys.path.append(os.environ[\"LATENT_PATH\"])\n",
    "import pickle\n",
    "from auto_localization.experiment_management.basic_experiment import BasicExperiment\n",
    "from auto_localization.dataset_management.data_manager import DataManager\n",
    "from datasets.morpho_mnist.dataset import ImageDataset, TripletDataset, MetadataDataset\n",
    "from auto_localization.oracles.metadata_oracle import MetadataOracle\n",
    "from auto_localization.oracles.indexed_metadata_oracle import IndexedMetadataOracle\n",
    "from auto_localization.oracles.indexed_class_oracle import IndexedClassOracle\n",
    "from datasets.morpho_mnist.measure import measure_image\n",
    "from auto_localization.models.loss.masked_vae_triplet_loss import MaskedVAETripletLoss\n",
    "import auto_localization.models.loss.bayesian_triplet_loss as btl\n",
    "from tqdm import tqdm\n",
    "from torch.distributions.normal import Normal\n",
    "import matplotlib\n",
    "import seaborn as sns\n",
    "import scipy.stats\n",
    "%matplotlib inline"
   ]
  },
  {
   "cell_type": "markdown",
   "metadata": {},
   "source": [
    "## High Level Plan\n",
    "1. Compute the true probability of selecting the anchor given a positive and negative.\n",
    "    1. This can be calculated using the Triplet Likelihood function from the Bayesian Triplet Loss Paper\n",
    "2. We want to estimate the certainty (closeness to 0 or 1) of this probability using only the positive and negative distribution.\n",
    "    1. The reason we want to do this is so that we can alter the probability that we give our MCMC Bayesian inference procedure.\n",
    "    2. Currently we are giving Stan a probability that is computed using a global noise constant k\n",
    "    3. This means we cannot independently model the expected amount of information content of each query. \n",
    "    4. Accurately estimating the amount of noise or inversely the amount of information content in a query is vital for efficient and correct localizaition.\n",
    "3. We need to make some system for inferring the amount of certainty and measure the error compared to the true probability/certainty of selecting an anchor.\n",
    "4. If we can do this we can compare this to the amount of certainty inferred by the logistic response model. \n",
    "    1. This can be done by recording the probabilities given to MCMC and comparing them to the true probabilities. \n",
    "5. If the experiments up until this point are fruitful then we should test with an actual localization run. "
   ]
  },
  {
   "cell_type": "markdown",
   "metadata": {},
   "source": [
    "## Helper Code"
   ]
  },
  {
   "cell_type": "markdown",
   "metadata": {},
   "source": [
    "Load a relevant Bayesian Triplet Loss Model"
   ]
  },
  {
   "cell_type": "code",
   "execution_count": 24,
   "metadata": {},
   "outputs": [
    {
     "name": "stdout",
     "output_type": "stream",
     "text": [
      "Setting Up Logging\n"
     ]
    },
    {
     "data": {
      "text/html": [
       "Finishing last run (ID:3nq1qu01) before initializing another..."
      ],
      "text/plain": [
       "<IPython.core.display.HTML object>"
      ]
     },
     "metadata": {},
     "output_type": "display_data"
    },
    {
     "data": {
      "text/html": [
       "<br/>Waiting for W&B process to finish, PID 144444<br/>Program ended successfully."
      ],
      "text/plain": [
       "<IPython.core.display.HTML object>"
      ]
     },
     "metadata": {},
     "output_type": "display_data"
    },
    {
     "data": {
      "application/vnd.jupyter.widget-view+json": {
       "model_id": "",
       "version_major": 2,
       "version_minor": 0
      },
      "text/plain": [
       "VBox(children=(Label(value=' 0.00MB of 0.00MB uploaded (0.00MB deduped)\\r'), FloatProgress(value=1.0, max=1.0)…"
      ]
     },
     "metadata": {},
     "output_type": "display_data"
    },
    {
     "data": {
      "text/html": [
       "Find user logs for this run at: <code>/home/alec/latent-space-localization/auto_localization/experiments/morpho_mnist/wandb/run-20211217_002151-3nq1qu01/logs/debug.log</code>"
      ],
      "text/plain": [
       "<IPython.core.display.HTML object>"
      ]
     },
     "metadata": {},
     "output_type": "display_data"
    },
    {
     "data": {
      "text/html": [
       "Find internal logs for this run at: <code>/home/alec/latent-space-localization/auto_localization/experiments/morpho_mnist/wandb/run-20211217_002151-3nq1qu01/logs/debug-internal.log</code>"
      ],
      "text/plain": [
       "<IPython.core.display.HTML object>"
      ]
     },
     "metadata": {},
     "output_type": "display_data"
    },
    {
     "data": {
      "text/html": [
       "Synced 5 W&B file(s), 0 media file(s), 0 artifact file(s) and 0 other file(s)"
      ],
      "text/plain": [
       "<IPython.core.display.HTML object>"
      ]
     },
     "metadata": {},
     "output_type": "display_data"
    },
    {
     "data": {
      "text/html": [
       "\n",
       "                    <br/>Synced <strong style=\"color:#cdcd00\">distinctive-firebrand-288</strong>: <a href=\"https://wandb.ai/helblazer811/latent-space-localization-final/runs/3nq1qu01\" target=\"_blank\">https://wandb.ai/helblazer811/latent-space-localization-final/runs/3nq1qu01</a><br/>\n",
       "                "
      ],
      "text/plain": [
       "<IPython.core.display.HTML object>"
      ]
     },
     "metadata": {},
     "output_type": "display_data"
    },
    {
     "data": {
      "text/html": [
       "...Successfully finished last run (ID:3nq1qu01). Initializing new run:<br/><br/>"
      ],
      "text/plain": [
       "<IPython.core.display.HTML object>"
      ]
     },
     "metadata": {},
     "output_type": "display_data"
    },
    {
     "name": "stderr",
     "output_type": "stream",
     "text": [
      "wandb: wandb version 0.12.9 is available!  To upgrade, please run:\n",
      "wandb:  $ pip install wandb --upgrade\n"
     ]
    },
    {
     "data": {
      "text/html": [
       "\n",
       "                Tracking run with wandb version 0.10.22<br/>\n",
       "                Syncing run <strong style=\"color:#cdcd00\">major-salad-290</strong> to <a href=\"https://wandb.ai\" target=\"_blank\">Weights & Biases</a> <a href=\"https://docs.wandb.com/integrations/jupyter.html\" target=\"_blank\">(Documentation)</a>.<br/>\n",
       "                Project page: <a href=\"https://wandb.ai/helblazer811/latent-space-localization-final\" target=\"_blank\">https://wandb.ai/helblazer811/latent-space-localization-final</a><br/>\n",
       "                Run page: <a href=\"https://wandb.ai/helblazer811/latent-space-localization-final/runs/2ou6f7fr\" target=\"_blank\">https://wandb.ai/helblazer811/latent-space-localization-final/runs/2ou6f7fr</a><br/>\n",
       "                Run data is saved locally in <code>/home/alec/latent-space-localization/auto_localization/experiments/morpho_mnist/wandb/run-20211217_005652-2ou6f7fr</code><br/><br/>\n",
       "            "
      ],
      "text/plain": [
       "<IPython.core.display.HTML object>"
      ]
     },
     "metadata": {},
     "output_type": "display_data"
    },
    {
     "name": "stdout",
     "output_type": "stream",
     "text": [
      "Setup Model Config\n",
      "Setting Up Model\n",
      "MaskedVAE(\n",
      "  (loss_function): BayesianTripletLoss(margin=0.0000)\n",
      "  (conv1): Conv2d(1, 32, kernel_size=(4, 4), stride=(2, 2), padding=(1, 1))\n",
      "  (conv1_bn): BatchNorm2d(32, eps=1e-05, momentum=0.1, affine=True, track_running_stats=True)\n",
      "  (conv2): Conv2d(32, 64, kernel_size=(4, 4), stride=(2, 2), padding=(1, 1))\n",
      "  (conv2_bn): BatchNorm2d(64, eps=1e-05, momentum=0.1, affine=True, track_running_stats=True)\n",
      "  (conv3): Conv2d(64, 128, kernel_size=(4, 4), stride=(2, 2), padding=(1, 1))\n",
      "  (conv3_bn): BatchNorm2d(128, eps=1e-05, momentum=0.1, affine=True, track_running_stats=True)\n",
      "  (conv4): Conv2d(128, 256, kernel_size=(4, 4), stride=(2, 2), padding=(1, 1))\n",
      "  (conv4_bn): BatchNorm2d(256, eps=1e-05, momentum=0.1, affine=True, track_running_stats=True)\n",
      "  (fc1): Linear(in_features=1024, out_features=4, bias=True)\n",
      "  (fc2): Linear(in_features=1024, out_features=4, bias=True)\n",
      "  (d1): Linear(in_features=4, out_features=1024, bias=True)\n",
      "  (deconv2): ConvTranspose2d(256, 128, kernel_size=(4, 4), stride=(2, 2), padding=(1, 1))\n",
      "  (deconv2_bn): BatchNorm2d(128, eps=1e-05, momentum=0.1, affine=True, track_running_stats=True)\n",
      "  (deconv3): ConvTranspose2d(128, 64, kernel_size=(4, 4), stride=(2, 2), padding=(1, 1))\n",
      "  (deconv3_bn): BatchNorm2d(64, eps=1e-05, momentum=0.1, affine=True, track_running_stats=True)\n",
      "  (deconv4): ConvTranspose2d(64, 32, kernel_size=(4, 4), stride=(2, 2), padding=(1, 1))\n",
      "  (deconv4_bn): BatchNorm2d(32, eps=1e-05, momentum=0.1, affine=True, track_running_stats=True)\n",
      "  (deconv5): ConvTranspose2d(32, 1, kernel_size=(4, 4), stride=(2, 2), padding=(1, 1))\n",
      ")\n",
      "Setting Up Trianer\n"
     ]
    }
   ],
   "source": [
    "# load a traditional model\n",
    "run_name = \"silvery-music-271\"\n",
    "# load up the experiment parameters from the given run_name\n",
    "run_directory = os.path.join(os.environ[\"LATENT_PATH\"], \"auto_localization\", \"logs\", run_name)\n",
    "# load the expeirment config\n",
    "params_path = run_directory + \"/params.pkl\"\n",
    "with open(params_path, \"rb\") as f:\n",
    "    experiment_config = pickle.load(f)\n",
    "# make the experiment\n",
    "basic_experiment = BasicExperiment(experiment_config=experiment_config, do_setup=False)\n",
    "basic_experiment.load_data(run_directory)\n",
    "# get the model\n",
    "model = basic_experiment.model"
   ]
  },
  {
   "cell_type": "markdown",
   "metadata": {},
   "source": [
    "Setup dataset"
   ]
  },
  {
   "cell_type": "code",
   "execution_count": 25,
   "metadata": {},
   "outputs": [],
   "source": [
    "# setup tripelt dataset\n",
    "which_digits=[1]\n",
    "component_weighting = [1.0, 0.0, 1.0, 1.0, 1.0, 0.0]\n",
    "one_two_ratio = 0.0\n",
    "attribute_return = True\n",
    "\n",
    "metadata_dataset = MetadataDataset(\n",
    "    train=True, \n",
    "    which_digits=which_digits\n",
    ")\n",
    "metadata_oracle = IndexedMetadataOracle(\n",
    "    metadata_dataset=metadata_dataset,\n",
    "    component_weighting=component_weighting,\n",
    ")\n",
    "\n",
    "image_train = ImageDataset(train=True)\n",
    "\n",
    "# setup data manager\n",
    "triplet_train_dataset = TripletDataset(\n",
    "    train=True,\n",
    "    which_digits=which_digits,\n",
    "    oracle=metadata_oracle,\n",
    "    one_two_ratio=one_two_ratio,\n",
    "    attribute_return=attribute_return, \n",
    "    single_feature_triplet=True\n",
    ") \n",
    "triplet_test_dataset = TripletDataset(\n",
    "    train=False,\n",
    "    which_digits=which_digits,\n",
    "    oracle=metadata_oracle,\n",
    "    one_two_ratio=one_two_ratio,\n",
    "    attribute_return=attribute_return, \n",
    "    single_feature_triplet=True\n",
    ") "
   ]
  },
  {
   "cell_type": "markdown",
   "metadata": {},
   "source": [
    "Calculate the mean and latent variance of a bunch of triplets."
   ]
  },
  {
   "cell_type": "code",
   "execution_count": 26,
   "metadata": {},
   "outputs": [],
   "source": [
    "# measure of whether or not a query is satisfied by a model\n",
    "def triplet_forward(model, triplet):\n",
    "    anchor, positive, negative, attribute_index = triplet\n",
    "    anchor_mu, anchor_logvar, anchor_z, _ = model.forward(anchor.cuda())\n",
    "    positive_mu, positive_logvar, positive_z, _ = model.forward(positive.cuda())\n",
    "    negative_mu, negative_logvar, negative_z, _ = model.forward(negative.cuda())\n",
    "    \n",
    "    return ([anchor_mu, anchor_logvar], [positive_mu, positive_logvar], [negative_mu, negative_logvar], attribute_index)"
   ]
  },
  {
   "cell_type": "code",
   "execution_count": 27,
   "metadata": {},
   "outputs": [
    {
     "name": "stderr",
     "output_type": "stream",
     "text": [
      "100%|██████████| 500/500 [00:04<00:00, 115.86it/s]\n"
     ]
    }
   ],
   "source": [
    "num_triplets = 500\n",
    "triplets = []\n",
    "for triplet_index in tqdm(range(num_triplets)):\n",
    "    triplet, _ = triplet_train_dataset[triplet_index]\n",
    "    triplet_out = triplet_forward(model, triplet)\n",
    "    triplets.append(triplet_out)    "
   ]
  },
  {
   "cell_type": "markdown",
   "metadata": {},
   "source": [
    "## True Probability of Selecting an Anchor"
   ]
  },
  {
   "cell_type": "markdown",
   "metadata": {},
   "source": [
    "Implement the triplet likelihood function from the Bayesian Triplet Loss paper"
   ]
  },
  {
   "cell_type": "code",
   "execution_count": 29,
   "metadata": {},
   "outputs": [],
   "source": [
    "\"\"\"\n",
    "    This calculates the mean and variance of Tau given a triplet\n",
    "\"\"\"\n",
    "def get_nll_mean_variance(triplet_out):\n",
    "    A, P, N, attribute_index = triplet_out\n",
    "    (muA, varA) = A\n",
    "    (muP, varP) = P\n",
    "    (muN, varN) = N\n",
    "    varA = varA.exp()\n",
    "    varP = varP.exp()\n",
    "    varN = varP.exp()\n",
    "    nll_variance, nll_mean = btl.get_ll_mean_variance(muA, muP, muN, varA, varP, varN, margin = 0.0)\n",
    "    return nll_mean, nll_variance\n",
    "\n",
    "\"\"\"\n",
    "    This computes the cdf of the tau distribution. This amounts to the probability\n",
    "    that an anchor is the ideal point given an answer to a query. We want this to be 1.0.\n",
    "\"\"\"\n",
    "def compute_btl_probability(triplet, margin=0.0):\n",
    "    mu, sigma2 = get_nll_mean_variance(triplet)\n",
    "    sigma = sigma2**0.5\n",
    "    probs = Normal(loc=mu, scale=sigma + 1e-8).cdf(margin)\n",
    "    return probs.item()\n",
    "\n",
    "def compute_predicted_certainty(triplet, margin=0.0):\n",
    "    probs = compute_btl_probability(triplet, margin=0.0)\n",
    "    return abs(probs - 0.5)"
   ]
  },
  {
   "cell_type": "markdown",
   "metadata": {},
   "source": [
    "For the precalculated triplets compute the probability of selecting the anchor."
   ]
  },
  {
   "cell_type": "code",
   "execution_count": 7,
   "metadata": {},
   "outputs": [
    {
     "ename": "TypeError",
     "evalue": "compute_btl_probability() got multiple values for argument 'margin'",
     "output_type": "error",
     "traceback": [
      "\u001b[0;31m---------------------------------------------------------------------------\u001b[0m",
      "\u001b[0;31mTypeError\u001b[0m                                 Traceback (most recent call last)",
      "\u001b[0;32m<ipython-input-7-12e4bda82824>\u001b[0m in \u001b[0;36m<module>\u001b[0;34m\u001b[0m\n\u001b[1;32m      1\u001b[0m \u001b[0mprobabilities\u001b[0m \u001b[0;34m=\u001b[0m \u001b[0;34m[\u001b[0m\u001b[0;34m]\u001b[0m\u001b[0;34m\u001b[0m\u001b[0;34m\u001b[0m\u001b[0m\n\u001b[1;32m      2\u001b[0m \u001b[0;32mfor\u001b[0m \u001b[0mtriplet\u001b[0m \u001b[0;32min\u001b[0m \u001b[0mtriplets\u001b[0m\u001b[0;34m:\u001b[0m\u001b[0;34m\u001b[0m\u001b[0;34m\u001b[0m\u001b[0m\n\u001b[0;32m----> 3\u001b[0;31m     \u001b[0mprobability\u001b[0m \u001b[0;34m=\u001b[0m \u001b[0mcompute_btl_probability\u001b[0m\u001b[0;34m(\u001b[0m\u001b[0mmodel\u001b[0m\u001b[0;34m,\u001b[0m \u001b[0mtriplet\u001b[0m\u001b[0;34m,\u001b[0m \u001b[0mmargin\u001b[0m\u001b[0;34m=\u001b[0m\u001b[0;36m0.0\u001b[0m\u001b[0;34m)\u001b[0m\u001b[0;34m\u001b[0m\u001b[0;34m\u001b[0m\u001b[0m\n\u001b[0m\u001b[1;32m      4\u001b[0m     \u001b[0mprobabilities\u001b[0m\u001b[0;34m.\u001b[0m\u001b[0mappend\u001b[0m\u001b[0;34m(\u001b[0m\u001b[0mprobability\u001b[0m\u001b[0;34m)\u001b[0m\u001b[0;34m\u001b[0m\u001b[0;34m\u001b[0m\u001b[0m\n",
      "\u001b[0;31mTypeError\u001b[0m: compute_btl_probability() got multiple values for argument 'margin'"
     ]
    }
   ],
   "source": [
    "probabilities = []\n",
    "for triplet in triplets:\n",
    "    probability = compute_btl_probability(model, triplet, margin=0.0)\n",
    "    probabilities.append(probability)"
   ]
  },
  {
   "cell_type": "markdown",
   "metadata": {},
   "source": [
    "Plot the distributon of the probabilities. "
   ]
  },
  {
   "cell_type": "code",
   "execution_count": 46,
   "metadata": {},
   "outputs": [
    {
     "name": "stdout",
     "output_type": "stream",
     "text": [
      "0.815234577357769\n"
     ]
    },
    {
     "data": {
      "image/png": "[encoded data removed]",
      "text/plain": [
       "<Figure size 432x288 with 1 Axes>"
      ]
     },
     "metadata": {
      "needs_background": "light"
     },
     "output_type": "display_data"
    }
   ],
   "source": [
    "fig, axs = plt.subplots(1, 1)\n",
    "axs.violinplot(probabilities)\n",
    "print(np.mean(probabilities))\n",
    "plt.show()"
   ]
  },
  {
   "cell_type": "code",
   "execution_count": 48,
   "metadata": {},
   "outputs": [
    {
     "data": {
      "image/png": "[encoded data removed]",
      "text/plain": [
       "<Figure size 432x288 with 1 Axes>"
      ]
     },
     "metadata": {
      "needs_background": "light"
     },
     "output_type": "display_data"
    }
   ],
   "source": [
    "diff_probabilities = np.abs(np.array(probabilities) - 0.5)\n",
    "fig, axs = plt.subplots(1, 1)\n",
    "axs.violinplot(diff_probabilities)\n",
    "plt.show()"
   ]
  },
  {
   "cell_type": "markdown",
   "metadata": {},
   "source": [
    "## Estimate the Probability Using only the Positive and Negative"
   ]
  },
  {
   "cell_type": "markdown",
   "metadata": {},
   "source": [
    "Define the estimation method."
   ]
  },
  {
   "cell_type": "code",
   "execution_count": 10,
   "metadata": {},
   "outputs": [],
   "source": [
    "\"\"\"\n",
    "    This calculates the mean and variance of Tau given a triplet\n",
    "\"\"\"\n",
    "def get_nll_mean_variance_std_normal(triplet_out):\n",
    "    A, P, N, attribute_index = triplet_out\n",
    "    (muP, varP) = P\n",
    "    (muN, varN) = N\n",
    "    varP = varP.exp()\n",
    "    varN = varP.exp()\n",
    "    muA = torch.zeros_like(muP)\n",
    "    varA = torch.ones_like(varP)\n",
    "    nll_variance, nll_mean = btl.get_ll_mean_variance(muA, muP, muN, varA, varP, varN, margin=0.0)\n",
    "    return nll_mean, nll_variance\n",
    "\n",
    "\"\"\"\n",
    "    This computes the cdf of the tau distribution. This can be thought of as the expectation of \n",
    "    Tau over the possible locations of the anchor given no information.\n",
    "\"\"\"\n",
    "def compute_btl_probability_std_normal(triplet, margin=0.0):\n",
    "    mu, sigma2 = get_nll_mean_variance_std_normal(triplet)\n",
    "    sigma = sigma2**0.5\n",
    "    probs = Normal(loc=mu, scale=sigma + 1e-8).cdf(margin)\n",
    "    return probs.item()\n",
    "\n",
    "def compute_predicted_certainty(triplet, margin=0.0):\n",
    "    prob = compute_btl_probability_std_normal(triplet, margin=margin)\n",
    "    return abs(prob - 0.5)"
   ]
  },
  {
   "cell_type": "markdown",
   "metadata": {},
   "source": [
    "Compute the Estimated Probabilities"
   ]
  },
  {
   "cell_type": "code",
   "execution_count": 23,
   "metadata": {},
   "outputs": [],
   "source": [
    "estimated_probabilities = []\n",
    "for triplet in triplets:\n",
    "    probability = compute_btl_probability_std_normal(model, triplet, margin=0.0)\n",
    "    estimated_probabilities.append(probability)"
   ]
  },
  {
   "cell_type": "markdown",
   "metadata": {},
   "source": [
    "Plot the probabilities"
   ]
  },
  {
   "cell_type": "code",
   "execution_count": 47,
   "metadata": {},
   "outputs": [
    {
     "name": "stdout",
     "output_type": "stream",
     "text": [
      "0.7264921889901161\n"
     ]
    },
    {
     "data": {
      "image/png": "[encoded data removed]",
      "text/plain": [
       "<Figure size 432x288 with 1 Axes>"
      ]
     },
     "metadata": {
      "needs_background": "light"
     },
     "output_type": "display_data"
    }
   ],
   "source": [
    "fig, axs = plt.subplots(1, 1)\n",
    "axs.violinplot(estimated_probabilities)\n",
    "print(np.mean(estimated_probabilities))\n",
    "plt.show()"
   ]
  },
  {
   "cell_type": "code",
   "execution_count": 49,
   "metadata": {},
   "outputs": [
    {
     "data": {
      "image/png": "[encoded data removed]",
      "text/plain": [
       "<Figure size 432x288 with 1 Axes>"
      ]
     },
     "metadata": {
      "needs_background": "light"
     },
     "output_type": "display_data"
    }
   ],
   "source": [
    "diff_estimated_probabilities = np.abs(np.array(estimated_probabilities) - 0.5)\n",
    "fig, axs = plt.subplots(1, 1)\n",
    "axs.violinplot(diff_estimated_probabilities)\n",
    "plt.show()"
   ]
  },
  {
   "cell_type": "markdown",
   "metadata": {},
   "source": [
    "Compute the correlation between these probabilities and the other ones. "
   ]
  },
  {
   "cell_type": "code",
   "execution_count": 50,
   "metadata": {},
   "outputs": [
    {
     "data": {
      "image/png": "[encoded data removed]",
      "text/plain": [
       "<Figure size 360x360 with 1 Axes>"
      ]
     },
     "metadata": {
      "needs_background": "light"
     },
     "output_type": "display_data"
    }
   ],
   "source": [
    "fig, axs = plt.subplots(1, 1, figsize=(5, 5))\n",
    "axs.scatter(\n",
    "    probabilities,\n",
    "    estimated_probabilities,\n",
    "    label=f'Correlation = {np.round(np.corrcoef(diff_probabilities, diff_estimated_probabilities)[0,1], 2)}'\n",
    ")\n",
    "axs.set_xlabel(\"Probabilities\")\n",
    "axs.set_ylabel(\"Estimated Probabilities\")\n",
    "plt.legend()\n",
    "plt.show()"
   ]
  },
  {
   "cell_type": "markdown",
   "metadata": {},
   "source": [
    "## Compute the Probabilities For the Logistic Response Model"
   ]
  },
  {
   "cell_type": "markdown",
   "metadata": {},
   "source": [
    "Compute the probabilities using the logistic response model."
   ]
  },
  {
   "cell_type": "code",
   "execution_count": 30,
   "metadata": {},
   "outputs": [],
   "source": [
    "from enum import Enum\n",
    "\"\"\"\n",
    "    Enum of noise constant types\n",
    "\"\"\"\n",
    "class KNormalizationType(Enum):\n",
    "    CONSTANT = 0\n",
    "    NORMALIZED = 1\n",
    "    DECAYING = 2\n",
    "\n",
    "def pair2hyperplane(positive_z, negative_z, normalization):\n",
    "    A_emb = 2*(positive_z - negative_z)\n",
    "    if np.linalg.norm(A_emb) == 0:\n",
    "        A_emb = np.ones_like(positive_z)*0.000001\n",
    "    tau_emb = (np.linalg.norm(positive_z)**2 - np.linalg.norm(negative_z)**2)\n",
    "    if normalization is KNormalizationType.CONSTANT:\n",
    "        pass\n",
    "    elif normalization is KNormalizationType.NORMALIZED:\n",
    "        A_mag = np.linalg.norm(A_emb)\n",
    "        A_emb = A_emb / A_mag\n",
    "        tau_emb = tau_emb / A_mag\n",
    "    elif normalization is KNormalizationType.DECAYING:\n",
    "        A_mag = np.linalg.norm(A_emb)\n",
    "        A_emb = A_emb * np.exp(-A_mag)\n",
    "        tau_emb = tau_emb * np.exp(-A_mag)\n",
    "    \n",
    "    return (A_emb, tau_emb)\n",
    "\n",
    "def calculate_logistic_probability(anchor_z, positive_z, negative_z, k=1.0, normalization=KNormalizationType.CONSTANT):\n",
    "    anchor_z = anchor_z.detach().cpu().numpy()\n",
    "    positive_z = positive_z.detach().cpu().numpy()\n",
    "    negative_z = negative_z.detach().cpu().numpy()\n",
    "    def logistic_function(val):\n",
    "        return 1 / (1 + np.exp(-val))\n",
    "    \n",
    "    A_emb, tau_emb = pair2hyperplane(positive_z, negative_z, normalization=normalization)\n",
    "    probability = logistic_function(k *\n",
    "        (np.dot(A_emb, anchor_z) - tau_emb)\n",
    "    )\n",
    "    return probability\n"
   ]
  },
  {
   "cell_type": "code",
   "execution_count": 31,
   "metadata": {},
   "outputs": [
    {
     "name": "stderr",
     "output_type": "stream",
     "text": [
      "/home/alec/anaconda3/envs/latent/lib/python3.7/site-packages/ipykernel_launcher.py:33: RuntimeWarning: overflow encountered in exp\n"
     ]
    },
    {
     "name": "stdout",
     "output_type": "stream",
     "text": [
      "[0.7221392765498558, 0.7229819254095003, 0.7236190480267768, 0.7240619241485466, 0.7243231063665269, 0.7244374778227557, 0.7244563822303751, 0.7244250956502246, 0.7243681434168077, 0.724292809821445, 0.7242034507376625, 0.7241128373913646, 0.7240403638735797, 0.7239991900794168, 0.723986834510579, 0.723989773134712, 0.7239954519908892, 0.723998714114488, 0.7239997741891698, 0.7239999771161698, 0.7239999988033681, 0.7239999999722811, 0.7239999999997673, 0.7239999999999994, 0.724, 0.724, 0.724, 0.724, 0.724, 0.724, 0.724, 0.724, 0.724, 0.724, 0.724, 0.724, 0.724, 0.724, 0.724, 0.724, 0.724, 0.724, 0.724, 0.724, 0.724, 0.724, 0.724, 0.724, 0.724, 0.724]\n"
     ]
    },
    {
     "data": {
      "image/png": "[encoded data removed]",
      "text/plain": [
       "<Figure size 432x288 with 1 Axes>"
      ]
     },
     "metadata": {
      "needs_background": "light"
     },
     "output_type": "display_data"
    }
   ],
   "source": [
    "ks = list(np.logspace(1, 6, num=50))\n",
    "probs = []\n",
    "for k in ks:\n",
    "    logistic_probabilities = []\n",
    "    for triplet in triplets:\n",
    "        A, P, N, attribute_index = triplet\n",
    "        A, _ = A\n",
    "        P, _ = P\n",
    "        N, _ = N\n",
    "        A = A.squeeze()\n",
    "        P = P.squeeze()\n",
    "        N = N.squeeze()\n",
    "        probability = calculate_logistic_probability(A, P, N, k=k)\n",
    "        logistic_probabilities.append(probability)\n",
    "    probs.append(np.mean(logistic_probabilities))\n",
    "\n",
    "fig, axs = plt.subplots(1, 1)\n",
    "print(probs)\n",
    "axs.plot(ks, probs)\n",
    "axs.set_xscale(\"log\")\n",
    "plt.show()"
   ]
  },
  {
   "cell_type": "markdown",
   "metadata": {},
   "source": [
    "Violin plot"
   ]
  },
  {
   "cell_type": "code",
   "execution_count": 15,
   "metadata": {},
   "outputs": [
    {
     "name": "stdout",
     "output_type": "stream",
     "text": [
      "0.7158892295803116\n"
     ]
    },
    {
     "data": {
      "image/png": "[encoded data removed]",
      "text/plain": [
       "<Figure size 432x288 with 1 Axes>"
      ]
     },
     "metadata": {
      "needs_background": "light"
     },
     "output_type": "display_data"
    }
   ],
   "source": [
    "fig, axs = plt.subplots(1, 1)\n",
    "axs.violinplot(logistic_probabilities)\n",
    "print(np.mean(logistic_probabilities))\n",
    "plt.show()"
   ]
  },
  {
   "cell_type": "code",
   "execution_count": null,
   "metadata": {},
   "outputs": [],
   "source": [
    "ks = list(np.logspace(-3, 3, num=50))\n",
    "probs = []\n",
    "for k in ks:\n",
    "    prob = test_noise_model(k)\n",
    "    probs.append(prob)\n",
    "fig, axs = plt.subplots(1, 1)\n",
    "axs.line(ks, probs)\n",
    "plt.show()"
   ]
  },
  {
   "cell_type": "code",
   "execution_count": 107,
   "metadata": {},
   "outputs": [
    {
     "data": {
      "image/png": "[encoded data removed]",
      "text/plain": [
       "<Figure size 432x288 with 1 Axes>"
      ]
     },
     "metadata": {
      "needs_background": "light"
     },
     "output_type": "display_data"
    }
   ],
   "source": [
    "diff_logistic_probabilities = np.abs(np.array(logistic_probabilities) - 0.5)\n",
    "fig, axs = plt.subplots(1, 1)\n",
    "axs.violinplot(diff_logistic_probabilities)\n",
    "plt.show()"
   ]
  },
  {
   "cell_type": "markdown",
   "metadata": {},
   "source": [
    "Calculate the correlation between the ground truth probability and the logitic response probability."
   ]
  },
  {
   "cell_type": "code",
   "execution_count": 108,
   "metadata": {},
   "outputs": [
    {
     "data": {
      "image/png": "[encoded data removed]",
      "text/plain": [
       "<Figure size 360x360 with 1 Axes>"
      ]
     },
     "metadata": {
      "needs_background": "light"
     },
     "output_type": "display_data"
    }
   ],
   "source": [
    "fig, axs = plt.subplots(1, 1, figsize=(5, 5))\n",
    "axs.scatter(\n",
    "    probabilities,\n",
    "    logistic_probabilities,\n",
    "    label=f'Correlation = {np.round(np.corrcoef(diff_probabilities, diff_logistic_probabilities)[0,1], 2)}'\n",
    ")\n",
    "axs.set_xlabel(\"Probabilities\")\n",
    "axs.set_ylabel(\"Logistic Probabilities\")\n",
    "plt.legend()\n",
    "plt.show()"
   ]
  },
  {
   "cell_type": "markdown",
   "metadata": {},
   "source": [
    "## Construct and Test a Noise Model"
   ]
  },
  {
   "cell_type": "code",
   "execution_count": 32,
   "metadata": {},
   "outputs": [],
   "source": [
    "from enum import Enum\n",
    "\"\"\"\n",
    "    Enum of noise constant types\n",
    "\"\"\"\n",
    "class KNormalizationType(Enum):\n",
    "    CONSTANT = 0\n",
    "    NORMALIZED = 1\n",
    "    DECAYING = 2\n",
    "    \n",
    "\n",
    "def pair2hyperplane(positive_z, negative_z, predicted_certainty):\n",
    "    positive_z = positive_z.detach().cpu().numpy().squeeze()\n",
    "    negative_z = negative_z.detach().cpu().numpy().squeeze()\n",
    "    A_emb = 2*(positive_z - negative_z)\n",
    "    if np.linalg.norm(A_emb) == 0:\n",
    "        A_emb = np.ones_like(positive_z)*0.000001\n",
    "    tau_emb = (np.linalg.norm(positive_z)**2 - np.linalg.norm(negative_z)**2)\n",
    "    # scale tau_emb by predicted_certainty\n",
    "    tau_emb *= predicted_certainty\n",
    "    A_emb *= predicted_certainty\n",
    "    \"\"\"\n",
    "    if normalization is KNormalizationType.CONSTANT:\n",
    "        pass\n",
    "    elif normalization is KNormalizationType.NORMALIZED:\n",
    "        A_mag = np.linalg.norm(A_emb)\n",
    "        A_emb = A_emb / A_mag\n",
    "        tau_emb = tau_emb / A_mag\n",
    "    elif normalization is KNormalizationType.DECAYING:\n",
    "        A_mag = np.linalg.norm(A_emb)\n",
    "        A_emb = A_emb * np.exp(-A_mag)\n",
    "        tau_emb = tau_emb * np.exp(-A_mag)\n",
    "    \"\"\"\n",
    "    return (A_emb, tau_emb)\n",
    "\n",
    "def calculate_logistic_probability(anchor, positive, negative, k=1.0):\n",
    "    anchor_mean, anchor_logvar = anchor\n",
    "    positive_mean, positive_logvar = positive\n",
    "    negative_mean, negative_logvar = negative\n",
    "    def logistic_function(val):\n",
    "        return 1 / (1 + np.exp(-val))\n",
    "    \n",
    "    # compute the predicted_certainty\n",
    "    predicted_certainty = compute_predicted_certainty((anchor, positive, negative, 0))\n",
    "    \n",
    "    A_emb, tau_emb = pair2hyperplane(positive_mean, negative_mean, predicted_certainty=1)\n",
    "    anchor_mean = anchor_mean.detach().cpu().numpy().squeeze()\n",
    "    probability = logistic_function(k * predicted_certainty**0.5 *\n",
    "        (np.dot(A_emb, anchor_mean) - tau_emb)\n",
    "    )\n",
    "    return probability"
   ]
  },
  {
   "cell_type": "code",
   "execution_count": 33,
   "metadata": {},
   "outputs": [],
   "source": [
    "\n",
    "def test_noise_model(k):\n",
    "    probs = []\n",
    "    for triplet in triplets:\n",
    "        anchor, positive, negative, _ = triplet\n",
    "        probability = calculate_logistic_probability(anchor, positive, negative, k=k)\n",
    "        probs.append(probability)\n",
    "    probabilities = np.mean(probs)\n",
    "    return probabilities"
   ]
  },
  {
   "cell_type": "code",
   "execution_count": 35,
   "metadata": {},
   "outputs": [
    {
     "name": "stderr",
     "output_type": "stream",
     "text": [
      " 66%|██████▌   | 33/50 [00:23<00:12,  1.39it/s]/home/alec/anaconda3/envs/latent/lib/python3.7/site-packages/ipykernel_launcher.py:40: RuntimeWarning: overflow encountered in exp\n",
      "100%|██████████| 50/50 [00:34<00:00,  1.47it/s]\n"
     ]
    },
    {
     "data": {
      "image/png": "[encoded data removed]",
      "text/plain": [
       "<Figure size 432x288 with 1 Axes>"
      ]
     },
     "metadata": {
      "needs_background": "light"
     },
     "output_type": "display_data"
    }
   ],
   "source": [
    "ks = list(np.logspace(1, 2, num=50))\n",
    "probs = []\n",
    "for k in tqdm(ks):\n",
    "    prob = test_noise_model(k)\n",
    "    probs.append(prob)\n",
    "\n",
    "fig, axs = plt.subplots(1, 1)\n",
    "axs.plot(ks, probs)\n",
    "axs.set_xscale(\"log\")\n",
    "plt.show()\n",
    "    "
   ]
  },
  {
   "cell_type": "markdown",
   "metadata": {},
   "source": [
    "## Run and Analyze Some Localization Runs. "
   ]
  },
  {
   "cell_type": "code",
   "execution_count": null,
   "metadata": {},
   "outputs": [],
   "source": []
  }
 ],
 "metadata": {
  "kernelspec": {
   "display_name": "Python 3",
   "language": "python",
   "name": "python3"
  },
  "language_info": {
   "codemirror_mode": {
    "name": "ipython",
    "version": 3
   },
   "file_extension": ".py",
   "mimetype": "text/x-python",
   "name": "python",
   "nbconvert_exporter": "python",
   "pygments_lexer": "ipython3",
   "version": "3.7.6"
  }
 },
 "nbformat": 4,
 "nbformat_minor": 4
}
