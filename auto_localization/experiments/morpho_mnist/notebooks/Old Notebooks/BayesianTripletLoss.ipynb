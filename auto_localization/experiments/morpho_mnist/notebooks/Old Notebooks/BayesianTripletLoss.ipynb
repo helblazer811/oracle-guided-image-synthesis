{
 "cells": [
  {
   "cell_type": "code",
   "execution_count": 2,
   "metadata": {},
   "outputs": [],
   "source": [
    "import matplotlib.pyplot as plt\n",
    "import torch\n",
    "import sys\n",
    "import os\n",
    "sys.path.append(os.environ[\"LATENT_PATH\"])\n",
    "import pickle\n",
    "from auto_localization.experiment_management.basic_experiment import BasicExperiment\n",
    "from auto_localization.dataset_management.data_manager import DataManager\n",
    "from datasets.celeba.dataset import ImageDataset, TripletDataset\n",
    "from auto_localization.oracles.metadata_oracle import MetadataOracle\n",
    "from auto_localization.oracles.indexed_metadata_oracle import IndexedMetadataOracle\n",
    "from auto_localization.oracles.indexed_class_oracle import IndexedClassOracle\n",
    "from auto_localization.oracles.oracle import EnsembleOracle\n",
    "from datasets.morpho_mnist.measure import measure_image\n",
    "from auto_localization.models.loss.masked_vae_triplet_loss import MaskedVAETripletLoss\n",
    "import auto_localization.models.loss.bayesian_triplet_loss as btl\n",
    "import numpy as np\n",
    "from tqdm import tqdm\n",
    "from torch.distributions.normal import Normal\n",
    "import matplotlib\n",
    "import seaborn as sns\n",
    "import scipy.stats\n",
    "%matplotlib inline"
   ]
  },
  {
   "cell_type": "code",
   "execution_count": 3,
   "metadata": {},
   "outputs": [
    {
     "name": "stdout",
     "output_type": "stream",
     "text": [
      "Setting Up Logging\n"
     ]
    },
    {
     "name": "stderr",
     "output_type": "stream",
     "text": [
      "wandb: Currently logged in as: helblazer811 (use `wandb login --relogin` to force relogin)\n",
      "wandb: wandb version 0.12.9 is available!  To upgrade, please run:\n",
      "wandb:  $ pip install wandb --upgrade\n"
     ]
    },
    {
     "data": {
      "text/html": [
       "\n",
       "                Tracking run with wandb version 0.10.22<br/>\n",
       "                Syncing run <strong style=\"color:#cdcd00\">fiery-wind-514</strong> to <a href=\"https://wandb.ai\" target=\"_blank\">Weights & Biases</a> <a href=\"https://docs.wandb.com/integrations/jupyter.html\" target=\"_blank\">(Documentation)</a>.<br/>\n",
       "                Project page: <a href=\"https://wandb.ai/helblazer811/latent-space-localization-final\" target=\"_blank\">https://wandb.ai/helblazer811/latent-space-localization-final</a><br/>\n",
       "                Run page: <a href=\"https://wandb.ai/helblazer811/latent-space-localization-final/runs/1t6ylxio\" target=\"_blank\">https://wandb.ai/helblazer811/latent-space-localization-final/runs/1t6ylxio</a><br/>\n",
       "                Run data is saved locally in <code>/home/alec/latent-space-localization/auto_localization/experiments/morpho_mnist/wandb/run-20211226_003307-1t6ylxio</code><br/><br/>\n",
       "            "
      ],
      "text/plain": [
       "<IPython.core.display.HTML object>"
      ]
     },
     "metadata": {},
     "output_type": "display_data"
    },
    {
     "name": "stdout",
     "output_type": "stream",
     "text": [
      "Setup Model Config\n",
      "Setting Up Model\n",
      "IsolatedVAE(\n",
      "  (loss_function): IsolatedTripletLoss(\n",
      "    (empty_linear): Linear(in_features=1, out_features=1, bias=True)\n",
      "    (triplet_margin_loss): TripletMarginLoss()\n",
      "  )\n",
      "  (conv1): Conv2d(1, 32, kernel_size=(4, 4), stride=(2, 2), padding=(1, 1))\n",
      "  (conv1_bn): BatchNorm2d(32, eps=1e-05, momentum=0.1, affine=True, track_running_stats=True)\n",
      "  (conv2): Conv2d(32, 64, kernel_size=(4, 4), stride=(2, 2), padding=(1, 1))\n",
      "  (conv2_bn): BatchNorm2d(64, eps=1e-05, momentum=0.1, affine=True, track_running_stats=True)\n",
      "  (conv3): Conv2d(64, 128, kernel_size=(4, 4), stride=(2, 2), padding=(1, 1))\n",
      "  (conv3_bn): BatchNorm2d(128, eps=1e-05, momentum=0.1, affine=True, track_running_stats=True)\n",
      "  (conv4): Conv2d(128, 256, kernel_size=(4, 4), stride=(2, 2), padding=(1, 1))\n",
      "  (conv4_bn): BatchNorm2d(256, eps=1e-05, momentum=0.1, affine=True, track_running_stats=True)\n",
      "  (similarity_mean_linear): Linear(in_features=1024, out_features=10, bias=True)\n",
      "  (similarity_logvar_linear): Linear(in_features=1024, out_features=10, bias=True)\n",
      "  (reconstructive_mean_linear): Linear(in_features=1024, out_features=0, bias=True)\n",
      "  (reconstructive_logvar_linear): Linear(in_features=1024, out_features=0, bias=True)\n",
      "  (d1): Linear(in_features=10, out_features=1024, bias=True)\n",
      "  (deconv2): ConvTranspose2d(256, 128, kernel_size=(4, 4), stride=(2, 2), padding=(1, 1))\n",
      "  (deconv2_bn): BatchNorm2d(128, eps=1e-05, momentum=0.1, affine=True, track_running_stats=True)\n",
      "  (deconv3): ConvTranspose2d(128, 64, kernel_size=(4, 4), stride=(2, 2), padding=(1, 1))\n",
      "  (deconv3_bn): BatchNorm2d(64, eps=1e-05, momentum=0.1, affine=True, track_running_stats=True)\n",
      "  (deconv4): ConvTranspose2d(64, 32, kernel_size=(4, 4), stride=(2, 2), padding=(1, 1))\n",
      "  (deconv4_bn): BatchNorm2d(32, eps=1e-05, momentum=0.1, affine=True, track_running_stats=True)\n",
      "  (deconv5): ConvTranspose2d(32, 1, kernel_size=(4, 4), stride=(2, 2), padding=(1, 1))\n",
      ")\n",
      "Setting Up Trianer\n"
     ]
    }
   ],
   "source": [
    "# load a traditional model\n",
    "run_name = \"earnest-flower-497\"\n",
    "# load up the experiment parameters from the given run_name\n",
    "run_directory = os.path.join(os.environ[\"LATENT_PATH\"], \"auto_localization\", \"logs\", run_name)\n",
    "# load the expeirment config\n",
    "params_path = run_directory + \"/params.pkl\"\n",
    "with open(params_path, \"rb\") as f:\n",
    "    experiment_config = pickle.load(f)\n",
    "# make the experiment\n",
    "basic_experiment = BasicExperiment(experiment_config=experiment_config, do_setup=False)\n",
    "basic_experiment.load_data(run_directory)\n",
    "# get the model\n",
    "model = basic_experiment.model"
   ]
  },
  {
   "cell_type": "code",
   "execution_count": 20,
   "metadata": {},
   "outputs": [
    {
     "ename": "TypeError",
     "evalue": "__init__() got an unexpected keyword argument 'which_digits'",
     "output_type": "error",
     "traceback": [
      "\u001b[0;31m---------------------------------------------------------------------------\u001b[0m",
      "\u001b[0;31mTypeError\u001b[0m                                 Traceback (most recent call last)",
      "\u001b[0;32m<ipython-input-20-cb35efa338c0>\u001b[0m in \u001b[0;36m<module>\u001b[0;34m\u001b[0m\n\u001b[1;32m     23\u001b[0m     \u001b[0mone_two_ratio\u001b[0m\u001b[0;34m=\u001b[0m\u001b[0mone_two_ratio\u001b[0m\u001b[0;34m,\u001b[0m\u001b[0;34m\u001b[0m\u001b[0;34m\u001b[0m\u001b[0m\n\u001b[1;32m     24\u001b[0m     \u001b[0mattribute_return\u001b[0m\u001b[0;34m=\u001b[0m\u001b[0mattribute_return\u001b[0m\u001b[0;34m,\u001b[0m\u001b[0;34m\u001b[0m\u001b[0;34m\u001b[0m\u001b[0m\n\u001b[0;32m---> 25\u001b[0;31m     \u001b[0msingle_feature_triplet\u001b[0m\u001b[0;34m=\u001b[0m\u001b[0;32mTrue\u001b[0m\u001b[0;34m\u001b[0m\u001b[0;34m\u001b[0m\u001b[0m\n\u001b[0m\u001b[1;32m     26\u001b[0m ) \n\u001b[1;32m     27\u001b[0m triplet_test_dataset = TripletDataset(\n",
      "\u001b[0;31mTypeError\u001b[0m: __init__() got an unexpected keyword argument 'which_digits'"
     ]
    }
   ],
   "source": [
    "# setup tripelt dataset\n",
    "which_digits=[1]\n",
    "component_weighting = [1.0, 1.0, 1.0, 1.0, 1.0, 1.0]\n",
    "one_two_ratio = 0.0\n",
    "attribute_return = True\n",
    "\n",
    "metadata_dataset = MetadataDataset(\n",
    "    train=True, \n",
    "    which_digits=which_digits\n",
    ")\n",
    "metadata_oracle = IndexedMetadataOracle(\n",
    "    metadata_dataset=metadata_dataset,\n",
    "    component_weighting=component_weighting,\n",
    ")\n",
    "\n",
    "image_train = ImageDataset(train=True)\n",
    "\n",
    "# setup data manager\n",
    "triplet_train_dataset = TripletDataset(\n",
    "    train=True,\n",
    "    which_digits=which_digits,\n",
    "    oracle=metadata_oracle,\n",
    "    one_two_ratio=one_two_ratio,\n",
    "    attribute_return=attribute_return, \n",
    "    single_feature_triplet=True\n",
    ") \n",
    "triplet_test_dataset = TripletDataset(\n",
    "    train=False,\n",
    "    which_digits=which_digits,\n",
    "    oracle=metadata_oracle,\n",
    "    one_two_ratio=one_two_ratio,\n",
    "    attribute_return=attribute_return, \n",
    "    single_feature_triplet=True\n",
    ") "
   ]
  },
  {
   "cell_type": "markdown",
   "metadata": {},
   "source": [
    "## 2D Cross Section Plot"
   ]
  },
  {
   "cell_type": "code",
   "execution_count": 38,
   "metadata": {},
   "outputs": [],
   "source": [
    "image_train = ImageDataset(train=True, input_shape=(32, 32))\n",
    "# run the embedding function on a bunch of images\n",
    "latent_vectors = []\n",
    "num_vals = 500\n",
    "for index in range(num_vals):\n",
    "    image = image_train[index].unsqueeze(0).cuda()\n",
    "    # get the latent vector\n",
    "    _, _, z, _ = model.forward(image)\n",
    "    # add to list\n",
    "    latent_vectors.append(z.detach().cpu().numpy())\n",
    "latent_vectors = np.array(latent_vectors)"
   ]
  },
  {
   "cell_type": "code",
   "execution_count": 40,
   "metadata": {},
   "outputs": [
    {
     "name": "stdout",
     "output_type": "stream",
     "text": [
      "(500, 32)\n"
     ]
    },
    {
     "data": {
      "image/png": "[encoded data removed]",
      "text/plain": [
       "<Figure size 432x288 with 1 Axes>"
      ]
     },
     "metadata": {
      "needs_background": "light"
     },
     "output_type": "display_data"
    }
   ],
   "source": [
    "dims = [8, 9]\n",
    "# plot the 2D cross section\n",
    "print(latent_vectors.shape)\n",
    "plt.scatter(latent_vectors[:, dims[0]], latent_vectors[:, dims[1]])\n",
    "plt.show()"
   ]
  },
  {
   "cell_type": "markdown",
   "metadata": {},
   "source": [
    "# Variance Color Plot\n",
    "This plot shows a scatter plot of a 2D learned latent space for the Bayesian Triplet Loss Model in a 2D latent pace. "
   ]
  },
  {
   "cell_type": "code",
   "execution_count": null,
   "metadata": {},
   "outputs": [],
   "source": []
  },
  {
   "cell_type": "code",
   "execution_count": 75,
   "metadata": {},
   "outputs": [],
   "source": [
    "\n",
    "def plot_variance_color_plot(model, image_dataset, num_samples=1000):\n",
    "    # assume model has a 2d latent space\n",
    "    plt.figure(figsize=(8, 8))\n",
    "    embedding_locations = []\n",
    "    variances = []\n",
    "    for index in range(num_samples):\n",
    "        image = image_dataset[index].cuda()\n",
    "        mu, logvar, _, _ = model.forward(image)\n",
    "        var = logvar.exp().detach().cpu().numpy().mean()\n",
    "        variances.append(var)\n",
    "        mu = mu.detach().cpu().numpy()\n",
    "        embedding_locations.append(mu[0, 0:2])\n",
    "        \n",
    "    embedding_locations = np.array(embedding_locations)\n",
    "    # make the plot\n",
    "    plt.scatter(embedding_locations[:, 0], embedding_locations[:, 1], c=variances, s=5, cmap=\"plasma\")\n",
    "\n",
    "    plt.xlabel(\"Latent Dim 1\")\n",
    "    plt.ylabel(\"Latent Dim 2\")\n",
    "    #cmap = matplotlib.cm.ScalarMappable(variances, cmap=\"plasma\")\n",
    "    #cmap.set_array(variances)\n",
    "    cbar = plt.colorbar()\n",
    "    #cbar.set_label(f\"Variance Level\")\n",
    "    plt.show()\n",
    "    \n",
    "plot_variance_color_plot(bayesian_model, image_train)"
   ]
  },
  {
   "cell_type": "code",
   "execution_count": 76,
   "metadata": {},
   "outputs": [],
   "source": [
    "\n",
    "def plot_variance_heatmap(model, image_dataset, num_samples=5000, num_x_bins=20, num_y_bins=20):\n",
    "    # assume model has a 2d latent space\n",
    "    plt.figure(figsize=(8, 8))\n",
    "    embedding = []\n",
    "    variances = []\n",
    "    for index in range(num_samples):\n",
    "        image = image_dataset[index].cuda()\n",
    "        mu, logvar, _, _ = model.forward(image)\n",
    "        var = logvar.exp().detach().cpu().numpy().mean()\n",
    "        variances.append(var)\n",
    "        mu = mu.detach().cpu().numpy()\n",
    "        embedding.append(mu[0, 0:2])\n",
    "    embedding = np.array(embedding)\n",
    "    variances = np.array(variances)\n",
    "    means, _, _, _ = scipy.stats.binned_statistic_2d(embedding[:, 0], embedding[:, 1], variances, expand_binnumbers=True, statistic=\"mean\", bins=30)\n",
    "    means = np.flip(means, axis=0)\n",
    "    plt.imshow(means)\n",
    "    cbar = plt.colorbar()\n",
    "    plt.xticks([])\n",
    "    plt.yticks([])\n",
    "    plt.xlabel(\"Latent Dim 1\")\n",
    "    plt.ylabel(\"Latent Dim 2\")\n",
    "    plt.title(\"Variance of 2D Non-Bayesian Latent Space\")\n",
    "    plt.show()\n",
    "    \n",
    "plot_variance_heatmap(bayesian_model, image_train)"
   ]
  },
  {
   "cell_type": "code",
   "execution_count": 87,
   "metadata": {},
   "outputs": [],
   "source": [
    "# measure of whether or not a query is satisfied by a model\n",
    "def triplet_forward(model, triplet):\n",
    "    anchor, positive, negative, attribute_index = triplet\n",
    "    anchor_mu, anchor_logvar, anchor_z, _ = model.forward(anchor.cuda())\n",
    "    positive_mu, positive_logvar, positive_z, _ = model.forward(positive.cuda())\n",
    "    negative_mu, negative_logvar, negative_z, _ = model.forward(negative.cuda())\n",
    "    \n",
    "    return ([anchor_mu, anchor_logvar], [positive_mu, positive_logvar], [negative_mu, negative_logvar], attribute_index)\n",
    "\n",
    "def is_satisfied(model, triplet, images=True):\n",
    "    if images:\n",
    "        anchor_z, positive_z, negative_z, attribute_index = triplet_forward(model, triplet)\n",
    "        return model.loss_function.triplet_percentage(anchor_z, positive_z, negative_z, [attribute_index])\n",
    "    else:\n",
    "        anchor_z, positive_z, negative_z, attribute_index = triplet\n",
    "        anchor_positive = torch.norm(anchor_z - positive_z)\n",
    "        anchor_negative = torch.norm(anchor_z - negative_z)\n",
    "        return 1.0 if anchor_positive < anchor_negative else 0.0\n",
    "\n",
    "def percentage_satisfied(model, triplets, images=True):\n",
    "    num_satisfied = 0\n",
    "    loss = MaskedVAETripletLoss()\n",
    "        \n",
    "    for triplet in tqdm(triplets):\n",
    "        num_satisfied += is_satisfied(model, triplet, images=images)\n",
    "            \n",
    "    return num_satisfied / len(triplets)\n",
    "\n",
    "def get_nll_mean_variance(model, triplet):\n",
    "    triplet_out = triplet_forward(model, triplet)\n",
    "    A, P, N, attribute_index = triplet_out\n",
    "    (muA, varA) = A\n",
    "    (muP, varP) = P\n",
    "    (muN, varN) = N\n",
    "    varA = varA.exp()\n",
    "    varP = varP.exp()\n",
    "    varN = varP.exp()\n",
    "    nll_mean, nll_variance = btl.get_ll_mean_variance(muA, muP, muN, varA, varP, varN, margin = 0.0)\n",
    "    return nll_mean, nll_variance"
   ]
  },
  {
   "cell_type": "code",
   "execution_count": 92,
   "metadata": {},
   "outputs": [],
   "source": [
    "def calculate_dist_vs_satisfied(model, num_triplets=1000):\n",
    "    # for each triplet\n",
    "    means = []\n",
    "    covariances = []\n",
    "    is_satisfied_list = []\n",
    "    for triplet_index in range(num_triplets):\n",
    "        triplet, _ = triplet_test_dataset[triplet_index]\n",
    "        # embed the triplet images using the model\n",
    "        triplet_z = triplet_forward(model, triplet)\n",
    "        anchor, positive, negative, attribute_index = triplet_z\n",
    "        # measure the average posterior covariance of each embedded positive/negative pair\n",
    "        # positive_var = torch.prod(positive[1].exp())\n",
    "        # negative_var = torch.prod(negative[1].exp())\n",
    "        # var_sum = (positive_var + negative_var).item()\n",
    "        # measure wether or not the triplet is satisfied\n",
    "        var, mean = get_nll_mean_variance(model, triplet)\n",
    "        var = var.item()\n",
    "        mean = mean.item()\n",
    "        means.append(mean)\n",
    "        triplet_means = (anchor[0], positive[0], negative[0], attribute_index)\n",
    "        is_triplet_satisfied = is_satisfied(model, triplet_means, images=False)\n",
    "        # add to list\n",
    "        covariances.append(var)\n",
    "        is_satisfied_list.append(is_triplet_satisfied)\n",
    "        \n",
    "    return means, covariances, is_satisfied_list"
   ]
  },
  {
   "cell_type": "code",
   "execution_count": 93,
   "metadata": {},
   "outputs": [],
   "source": [
    "def plot_covariances_vs_satisfied(covariances, is_satisfied_list, title=\"non bayesian\"):\n",
    "    fig, axs = plt.subplots(1, 1)\n",
    "    plt.title(title)\n",
    "    covariances = np.array(covariances)\n",
    "    is_satisfied_list = np.array(is_satisfied_list)\n",
    "    satisfied = covariances[is_satisfied_list == 1]\n",
    "    unsatisfied = covariances[is_satisfied_list != 1]\n",
    "    \n",
    "    #bins = np.linspace(0, np.max(covariances), 30)\n",
    "    plt.hist(satisfied, bins=30, alpha=0.5, label='satisfied')\n",
    "    plt.hist(unsatisfied, bins=30, alpha=0.5, label='unsatisfied')\n",
    "    plt.legend()\n",
    "    plt.show()"
   ]
  },
  {
   "cell_type": "code",
   "execution_count": 90,
   "metadata": {},
   "outputs": [
    {
     "ename": "ValueError",
     "evalue": "supplied range of [529.2966918945312, inf] is not finite",
     "output_type": "error",
     "traceback": [
      "\u001b[0;31m---------------------------------------------------------------------------\u001b[0m",
      "\u001b[0;31mValueError\u001b[0m                                Traceback (most recent call last)",
      "\u001b[0;32m<ipython-input-90-2cbc7c5a5f8a>\u001b[0m in \u001b[0;36m<module>\u001b[0;34m\u001b[0m\n\u001b[1;32m      1\u001b[0m \u001b[0mmeans\u001b[0m\u001b[0;34m,\u001b[0m \u001b[0mcovariances\u001b[0m\u001b[0;34m,\u001b[0m \u001b[0mis_satisfied_list\u001b[0m \u001b[0;34m=\u001b[0m \u001b[0mcalculate_dist_vs_satisfied\u001b[0m\u001b[0;34m(\u001b[0m\u001b[0mbayesian_model\u001b[0m\u001b[0;34m,\u001b[0m \u001b[0mnum_triplets\u001b[0m\u001b[0;34m=\u001b[0m\u001b[0;36m1000\u001b[0m\u001b[0;34m)\u001b[0m\u001b[0;34m\u001b[0m\u001b[0;34m\u001b[0m\u001b[0m\n\u001b[0;32m----> 2\u001b[0;31m \u001b[0mplot_covariances_vs_satisfied\u001b[0m\u001b[0;34m(\u001b[0m\u001b[0mcovariances\u001b[0m\u001b[0;34m,\u001b[0m \u001b[0mis_satisfied_list\u001b[0m\u001b[0;34m)\u001b[0m\u001b[0;34m\u001b[0m\u001b[0;34m\u001b[0m\u001b[0m\n\u001b[0m",
      "\u001b[0;32m<ipython-input-89-854cfa55ff16>\u001b[0m in \u001b[0;36mplot_covariances_vs_satisfied\u001b[0;34m(covariances, is_satisfied_list, title)\u001b[0m\n\u001b[1;32m      8\u001b[0m \u001b[0;34m\u001b[0m\u001b[0m\n\u001b[1;32m      9\u001b[0m     \u001b[0;31m#bins = np.linspace(0, np.max(covariances), 30)\u001b[0m\u001b[0;34m\u001b[0m\u001b[0;34m\u001b[0m\u001b[0;34m\u001b[0m\u001b[0m\n\u001b[0;32m---> 10\u001b[0;31m     \u001b[0mplt\u001b[0m\u001b[0;34m.\u001b[0m\u001b[0mhist\u001b[0m\u001b[0;34m(\u001b[0m\u001b[0msatisfied\u001b[0m\u001b[0;34m,\u001b[0m \u001b[0mbins\u001b[0m\u001b[0;34m=\u001b[0m\u001b[0;36m30\u001b[0m\u001b[0;34m,\u001b[0m \u001b[0malpha\u001b[0m\u001b[0;34m=\u001b[0m\u001b[0;36m0.5\u001b[0m\u001b[0;34m,\u001b[0m \u001b[0mlabel\u001b[0m\u001b[0;34m=\u001b[0m\u001b[0;34m'satisfied'\u001b[0m\u001b[0;34m)\u001b[0m\u001b[0;34m\u001b[0m\u001b[0;34m\u001b[0m\u001b[0m\n\u001b[0m\u001b[1;32m     11\u001b[0m     \u001b[0mplt\u001b[0m\u001b[0;34m.\u001b[0m\u001b[0mhist\u001b[0m\u001b[0;34m(\u001b[0m\u001b[0munsatisfied\u001b[0m\u001b[0;34m,\u001b[0m \u001b[0mbins\u001b[0m\u001b[0;34m=\u001b[0m\u001b[0;36m30\u001b[0m\u001b[0;34m,\u001b[0m \u001b[0malpha\u001b[0m\u001b[0;34m=\u001b[0m\u001b[0;36m0.5\u001b[0m\u001b[0;34m,\u001b[0m \u001b[0mlabel\u001b[0m\u001b[0;34m=\u001b[0m\u001b[0;34m'unsatisfied'\u001b[0m\u001b[0;34m)\u001b[0m\u001b[0;34m\u001b[0m\u001b[0;34m\u001b[0m\u001b[0m\n\u001b[1;32m     12\u001b[0m     \u001b[0mplt\u001b[0m\u001b[0;34m.\u001b[0m\u001b[0mlegend\u001b[0m\u001b[0;34m(\u001b[0m\u001b[0;34m)\u001b[0m\u001b[0;34m\u001b[0m\u001b[0;34m\u001b[0m\u001b[0m\n",
      "\u001b[0;32m~/anaconda3/envs/latent/lib/python3.7/site-packages/matplotlib/pyplot.py\u001b[0m in \u001b[0;36mhist\u001b[0;34m(x, bins, range, density, weights, cumulative, bottom, histtype, align, orientation, rwidth, log, color, label, stacked, normed, data, **kwargs)\u001b[0m\n\u001b[1;32m   2659\u001b[0m         \u001b[0malign\u001b[0m\u001b[0;34m=\u001b[0m\u001b[0malign\u001b[0m\u001b[0;34m,\u001b[0m \u001b[0morientation\u001b[0m\u001b[0;34m=\u001b[0m\u001b[0morientation\u001b[0m\u001b[0;34m,\u001b[0m \u001b[0mrwidth\u001b[0m\u001b[0;34m=\u001b[0m\u001b[0mrwidth\u001b[0m\u001b[0;34m,\u001b[0m \u001b[0mlog\u001b[0m\u001b[0;34m=\u001b[0m\u001b[0mlog\u001b[0m\u001b[0;34m,\u001b[0m\u001b[0;34m\u001b[0m\u001b[0;34m\u001b[0m\u001b[0m\n\u001b[1;32m   2660\u001b[0m         \u001b[0mcolor\u001b[0m\u001b[0;34m=\u001b[0m\u001b[0mcolor\u001b[0m\u001b[0;34m,\u001b[0m \u001b[0mlabel\u001b[0m\u001b[0;34m=\u001b[0m\u001b[0mlabel\u001b[0m\u001b[0;34m,\u001b[0m \u001b[0mstacked\u001b[0m\u001b[0;34m=\u001b[0m\u001b[0mstacked\u001b[0m\u001b[0;34m,\u001b[0m \u001b[0mnormed\u001b[0m\u001b[0;34m=\u001b[0m\u001b[0mnormed\u001b[0m\u001b[0;34m,\u001b[0m\u001b[0;34m\u001b[0m\u001b[0;34m\u001b[0m\u001b[0m\n\u001b[0;32m-> 2661\u001b[0;31m         **({\"data\": data} if data is not None else {}), **kwargs)\n\u001b[0m\u001b[1;32m   2662\u001b[0m \u001b[0;34m\u001b[0m\u001b[0m\n\u001b[1;32m   2663\u001b[0m \u001b[0;34m\u001b[0m\u001b[0m\n",
      "\u001b[0;32m~/anaconda3/envs/latent/lib/python3.7/site-packages/matplotlib/__init__.py\u001b[0m in \u001b[0;36minner\u001b[0;34m(ax, data, *args, **kwargs)\u001b[0m\n\u001b[1;32m   1808\u001b[0m                         \u001b[0;34m\"the Matplotlib list!)\"\u001b[0m \u001b[0;34m%\u001b[0m \u001b[0;34m(\u001b[0m\u001b[0mlabel_namer\u001b[0m\u001b[0;34m,\u001b[0m \u001b[0mfunc\u001b[0m\u001b[0;34m.\u001b[0m\u001b[0m__name__\u001b[0m\u001b[0;34m)\u001b[0m\u001b[0;34m,\u001b[0m\u001b[0;34m\u001b[0m\u001b[0;34m\u001b[0m\u001b[0m\n\u001b[1;32m   1809\u001b[0m                         RuntimeWarning, stacklevel=2)\n\u001b[0;32m-> 1810\u001b[0;31m             \u001b[0;32mreturn\u001b[0m \u001b[0mfunc\u001b[0m\u001b[0;34m(\u001b[0m\u001b[0max\u001b[0m\u001b[0;34m,\u001b[0m \u001b[0;34m*\u001b[0m\u001b[0margs\u001b[0m\u001b[0;34m,\u001b[0m \u001b[0;34m**\u001b[0m\u001b[0mkwargs\u001b[0m\u001b[0;34m)\u001b[0m\u001b[0;34m\u001b[0m\u001b[0;34m\u001b[0m\u001b[0m\n\u001b[0m\u001b[1;32m   1811\u001b[0m \u001b[0;34m\u001b[0m\u001b[0m\n\u001b[1;32m   1812\u001b[0m         inner.__doc__ = _add_data_doc(inner.__doc__,\n",
      "\u001b[0;32m~/anaconda3/envs/latent/lib/python3.7/site-packages/matplotlib/axes/_axes.py\u001b[0m in \u001b[0;36mhist\u001b[0;34m(self, x, bins, range, density, weights, cumulative, bottom, histtype, align, orientation, rwidth, log, color, label, stacked, normed, **kwargs)\u001b[0m\n\u001b[1;32m   6589\u001b[0m             \u001b[0;31m# this will automatically overwrite bins,\u001b[0m\u001b[0;34m\u001b[0m\u001b[0;34m\u001b[0m\u001b[0;34m\u001b[0m\u001b[0m\n\u001b[1;32m   6590\u001b[0m             \u001b[0;31m# so that each histogram uses the same bins\u001b[0m\u001b[0;34m\u001b[0m\u001b[0;34m\u001b[0m\u001b[0;34m\u001b[0m\u001b[0m\n\u001b[0;32m-> 6591\u001b[0;31m             \u001b[0mm\u001b[0m\u001b[0;34m,\u001b[0m \u001b[0mbins\u001b[0m \u001b[0;34m=\u001b[0m \u001b[0mnp\u001b[0m\u001b[0;34m.\u001b[0m\u001b[0mhistogram\u001b[0m\u001b[0;34m(\u001b[0m\u001b[0mx\u001b[0m\u001b[0;34m[\u001b[0m\u001b[0mi\u001b[0m\u001b[0;34m]\u001b[0m\u001b[0;34m,\u001b[0m \u001b[0mbins\u001b[0m\u001b[0;34m,\u001b[0m \u001b[0mweights\u001b[0m\u001b[0;34m=\u001b[0m\u001b[0mw\u001b[0m\u001b[0;34m[\u001b[0m\u001b[0mi\u001b[0m\u001b[0;34m]\u001b[0m\u001b[0;34m,\u001b[0m \u001b[0;34m**\u001b[0m\u001b[0mhist_kwargs\u001b[0m\u001b[0;34m)\u001b[0m\u001b[0;34m\u001b[0m\u001b[0;34m\u001b[0m\u001b[0m\n\u001b[0m\u001b[1;32m   6592\u001b[0m             \u001b[0mm\u001b[0m \u001b[0;34m=\u001b[0m \u001b[0mm\u001b[0m\u001b[0;34m.\u001b[0m\u001b[0mastype\u001b[0m\u001b[0;34m(\u001b[0m\u001b[0mfloat\u001b[0m\u001b[0;34m)\u001b[0m  \u001b[0;31m# causes problems later if it's an int\u001b[0m\u001b[0;34m\u001b[0m\u001b[0;34m\u001b[0m\u001b[0m\n\u001b[1;32m   6593\u001b[0m             \u001b[0;32mif\u001b[0m \u001b[0mmlast\u001b[0m \u001b[0;32mis\u001b[0m \u001b[0;32mNone\u001b[0m\u001b[0;34m:\u001b[0m\u001b[0;34m\u001b[0m\u001b[0;34m\u001b[0m\u001b[0m\n",
      "\u001b[0;32m~/anaconda3/envs/latent/lib/python3.7/site-packages/numpy/lib/histograms.py\u001b[0m in \u001b[0;36mhistogram\u001b[0;34m(a, bins, range, normed, weights, density)\u001b[0m\n\u001b[1;32m    778\u001b[0m     \u001b[0ma\u001b[0m\u001b[0;34m,\u001b[0m \u001b[0mweights\u001b[0m \u001b[0;34m=\u001b[0m \u001b[0m_ravel_and_check_weights\u001b[0m\u001b[0;34m(\u001b[0m\u001b[0ma\u001b[0m\u001b[0;34m,\u001b[0m \u001b[0mweights\u001b[0m\u001b[0;34m)\u001b[0m\u001b[0;34m\u001b[0m\u001b[0;34m\u001b[0m\u001b[0m\n\u001b[1;32m    779\u001b[0m \u001b[0;34m\u001b[0m\u001b[0m\n\u001b[0;32m--> 780\u001b[0;31m     \u001b[0mbin_edges\u001b[0m\u001b[0;34m,\u001b[0m \u001b[0muniform_bins\u001b[0m \u001b[0;34m=\u001b[0m \u001b[0m_get_bin_edges\u001b[0m\u001b[0;34m(\u001b[0m\u001b[0ma\u001b[0m\u001b[0;34m,\u001b[0m \u001b[0mbins\u001b[0m\u001b[0;34m,\u001b[0m \u001b[0mrange\u001b[0m\u001b[0;34m,\u001b[0m \u001b[0mweights\u001b[0m\u001b[0;34m)\u001b[0m\u001b[0;34m\u001b[0m\u001b[0;34m\u001b[0m\u001b[0m\n\u001b[0m\u001b[1;32m    781\u001b[0m \u001b[0;34m\u001b[0m\u001b[0m\n\u001b[1;32m    782\u001b[0m     \u001b[0;31m# Histogram is an integer or a float array depending on the weights.\u001b[0m\u001b[0;34m\u001b[0m\u001b[0;34m\u001b[0m\u001b[0;34m\u001b[0m\u001b[0m\n",
      "\u001b[0;32m~/anaconda3/envs/latent/lib/python3.7/site-packages/numpy/lib/histograms.py\u001b[0m in \u001b[0;36m_get_bin_edges\u001b[0;34m(a, bins, range, weights)\u001b[0m\n\u001b[1;32m    415\u001b[0m             \u001b[0;32mraise\u001b[0m \u001b[0mValueError\u001b[0m\u001b[0;34m(\u001b[0m\u001b[0;34m'`bins` must be positive, when an integer'\u001b[0m\u001b[0;34m)\u001b[0m\u001b[0;34m\u001b[0m\u001b[0;34m\u001b[0m\u001b[0m\n\u001b[1;32m    416\u001b[0m \u001b[0;34m\u001b[0m\u001b[0m\n\u001b[0;32m--> 417\u001b[0;31m         \u001b[0mfirst_edge\u001b[0m\u001b[0;34m,\u001b[0m \u001b[0mlast_edge\u001b[0m \u001b[0;34m=\u001b[0m \u001b[0m_get_outer_edges\u001b[0m\u001b[0;34m(\u001b[0m\u001b[0ma\u001b[0m\u001b[0;34m,\u001b[0m \u001b[0mrange\u001b[0m\u001b[0;34m)\u001b[0m\u001b[0;34m\u001b[0m\u001b[0;34m\u001b[0m\u001b[0m\n\u001b[0m\u001b[1;32m    418\u001b[0m \u001b[0;34m\u001b[0m\u001b[0m\n\u001b[1;32m    419\u001b[0m     \u001b[0;32melif\u001b[0m \u001b[0mnp\u001b[0m\u001b[0;34m.\u001b[0m\u001b[0mndim\u001b[0m\u001b[0;34m(\u001b[0m\u001b[0mbins\u001b[0m\u001b[0;34m)\u001b[0m \u001b[0;34m==\u001b[0m \u001b[0;36m1\u001b[0m\u001b[0;34m:\u001b[0m\u001b[0;34m\u001b[0m\u001b[0;34m\u001b[0m\u001b[0m\n",
      "\u001b[0;32m~/anaconda3/envs/latent/lib/python3.7/site-packages/numpy/lib/histograms.py\u001b[0m in \u001b[0;36m_get_outer_edges\u001b[0;34m(a, range)\u001b[0m\n\u001b[1;32m    305\u001b[0m         \u001b[0;32mif\u001b[0m \u001b[0;32mnot\u001b[0m \u001b[0;34m(\u001b[0m\u001b[0mnp\u001b[0m\u001b[0;34m.\u001b[0m\u001b[0misfinite\u001b[0m\u001b[0;34m(\u001b[0m\u001b[0mfirst_edge\u001b[0m\u001b[0;34m)\u001b[0m \u001b[0;32mand\u001b[0m \u001b[0mnp\u001b[0m\u001b[0;34m.\u001b[0m\u001b[0misfinite\u001b[0m\u001b[0;34m(\u001b[0m\u001b[0mlast_edge\u001b[0m\u001b[0;34m)\u001b[0m\u001b[0;34m)\u001b[0m\u001b[0;34m:\u001b[0m\u001b[0;34m\u001b[0m\u001b[0;34m\u001b[0m\u001b[0m\n\u001b[1;32m    306\u001b[0m             raise ValueError(\n\u001b[0;32m--> 307\u001b[0;31m                 \"supplied range of [{}, {}] is not finite\".format(first_edge, last_edge))\n\u001b[0m\u001b[1;32m    308\u001b[0m     \u001b[0;32melif\u001b[0m \u001b[0ma\u001b[0m\u001b[0;34m.\u001b[0m\u001b[0msize\u001b[0m \u001b[0;34m==\u001b[0m \u001b[0;36m0\u001b[0m\u001b[0;34m:\u001b[0m\u001b[0;34m\u001b[0m\u001b[0;34m\u001b[0m\u001b[0m\n\u001b[1;32m    309\u001b[0m         \u001b[0;31m# handle empty arrays. Can't determine range, so use 0-1.\u001b[0m\u001b[0;34m\u001b[0m\u001b[0;34m\u001b[0m\u001b[0;34m\u001b[0m\u001b[0m\n",
      "\u001b[0;31mValueError\u001b[0m: supplied range of [529.2966918945312, inf] is not finite"
     ]
    },
    {
     "data": {
      "image/png": "[encoded data removed]",
      "text/plain": [
       "<Figure size 432x288 with 1 Axes>"
      ]
     },
     "metadata": {
      "needs_background": "light"
     },
     "output_type": "display_data"
    }
   ],
   "source": [
    "means, covariances, is_satisfied_list = calculate_dist_vs_satisfied(bayesian_model, num_triplets=1000)\n",
    "plot_covariances_vs_satisfied(covariances, is_satisfied_list)"
   ]
  },
  {
   "cell_type": "code",
   "execution_count": 41,
   "metadata": {},
   "outputs": [
    {
     "name": "stderr",
     "output_type": "stream",
     "text": [
      "/home/alec/anaconda3/envs/latent/lib/python3.7/site-packages/matplotlib/pyplot.py:514: RuntimeWarning: More than 20 figures have been opened. Figures created through the pyplot interface (`matplotlib.pyplot.figure`) are retained until explicitly closed and may consume too much memory. (To control this warning, see the rcParam `figure.max_open_warning`).\n",
      "  max_open_warning, RuntimeWarning)\n"
     ]
    }
   ],
   "source": [
    "# calcualte the probability that the triplet is satisfied\n",
    "def plot_probability_vs_satisfied(means, variances, satisfied):\n",
    "    satisfied_probs = []\n",
    "    unsatisfied_probs = []\n",
    "    for index in range(len(means)):\n",
    "        mean, var = means[index], variances[insplendid-morning-8403dex]\n",
    "        curr_satisfied = satisfied[index]\n",
    "        prob = Normal(loc=mean, scale=var**0.5).cdf(0.0)\n",
    "        if curr_satisfied:\n",
    "            satisfied_probs.append(prob)\n",
    "        else:\n",
    "            unsatisfied_probs.append(prob)\n",
    "    # make the plot\n",
    "    fig, axs = plt.subplots(1, 1, figsize=(1, 4))\n",
    "    plt.ylim(0, 1)\n",
    "    axs.violinplot([satisfied_probs, unsatisfied_probs])\n",
    "    plt.show()\n",
    "\n",
    "plot_probability_vs_satisfied(means, covariances, is_satisfied_list)#, labels=[\"satisfied\", \"unsatisfied\"])"
   ]
  },
  {
   "cell_type": "code",
   "execution_count": 61,
   "metadata": {},
   "outputs": [],
   "source": [
    "# calcualte the probability that the triplet is satisfied\n",
    "def plot_probability_vs_satisfied(means, variances, satisfied):\n",
    "    satisfied_probs = []\n",
    "    unsatisfied_probs = []\n",
    "    for index in range(len(means)):\n",
    "        mean, var = means[index], variances[index]\n",
    "        curr_satisfied = satisfied[index]\n",
    "        prob = Normal(loc=mean, scale=var**0.5).cdf(0.0)\n",
    "        if curr_satisfied:\n",
    "            satisfied_probs.append(prob)\n",
    "        else:\n",
    "            unsatisfied_probs.append(prob)\n",
    "    # make the plot\n",
    "    fig, axs = plt.subplots(1, 1, figsize=(6, 6))\n",
    "    #bins = np.linspace(0, np.max(covariances), 30)\n",
    "    plt.hist(satisfied_probs, bins=30, alpha=0.5, label='satisfied')\n",
    "    plt.hist(unsatisfied_probs, bins=30, alpha=0.5, label='unsatisfied')\n",
    "    plt.legend()\n",
    "    plt.show()\n",
    "\n",
    "plot_probability_vs_satisfied(means, covariances, is_satisfied_list)#, labels=[\"satisfied\", \"unsatisfied\"])"
   ]
  },
  {
   "cell_type": "code",
   "execution_count": 43,
   "metadata": {},
   "outputs": [],
   "source": [
    "# calcualte the probability that the triplet is satisfied\n",
    "def plot_probability_vs_satisfied(means, variances, satisfied):\n",
    "    certain_satisfied_probs = []\n",
    "    certain_unsatisfied_probs = []\n",
    "    uncertain_satisfied_probs = []\n",
    "    uncertain_unsatisfied_probs = []\n",
    "    median_variance = np.median(variances)\n",
    "    for index in range(len(means)):\n",
    "        mean, var = means[index], variances[index]\n",
    "        curr_satisfied = satisfied[index]\n",
    "        prob = Normal(loc=mean, scale=var**0.5).cdf(0.0)\n",
    "        if curr_satisfied:\n",
    "            if var < median_variance:\n",
    "                certain_satisfied_probs.append(prob)\n",
    "            else:\n",
    "                uncertain_satisfied_probs.append(prob)\n",
    "        else:\n",
    "            if var < median_variance:\n",
    "                certain_unsatisfied_probs.append(prob)\n",
    "            else:\n",
    "                uncertain_unsatisfied_probs.append(prob)\n",
    "    # make the plot\n",
    "    fig, axs = plt.subplots(1, 1, figsize=(6, 6))\n",
    "    #bins = np.linspace(0, np.max(covariances), 30)\n",
    "    plt.hist(certain_satisfied_probs, bins=30, alpha=0.5, label='certain satisfied')\n",
    "    plt.hist(certain_unsatisfied_probs, bins=30, alpha=0.5, label='certain unsatisfied')\n",
    "    plt.hist(uncertain_satisfied_probs, bins=30, alpha=0.5, label='uncertain satisfied')\n",
    "    plt.hist(uncertain_unsatisfied_probs, bins=30, alpha=0.5, label='uncertain unsatisfied')\n",
    "    plt.legend()\n",
    "    plt.show()\n",
    "    \n",
    "    fig, axs = plt.subplots(1, 1, figsize=(2, 8))\n",
    "    plt.ylim(0, 1)\n",
    "    axs.violinplot([certain_satisfied_probs, certain_unsatisfied_probs, uncertain_satisfied_probs, uncertain_unsatisfied_probs])\n",
    "    plt.show()\n",
    "\n",
    "plot_probability_vs_satisfied(means, covariances, is_satisfied_list)#, labels=[\"satisfied\", \"unsatisfied\"])"
   ]
  },
  {
   "cell_type": "code",
   "execution_count": 44,
   "metadata": {},
   "outputs": [
    {
     "name": "stderr",
     "output_type": "stream",
     "text": [
      "WARNING:matplotlib.legend:No handles with labels found to put in legend.\n"
     ]
    },
    {
     "name": "stdout",
     "output_type": "stream",
     "text": [
      "0.867\n"
     ]
    }
   ],
   "source": [
    "# calcualte the probability that the triplet is satisfied\n",
    "def plot_probability_vs_satisfied(means, variances, satisfied):\n",
    "    probs = []\n",
    "    for index in range(len(means)):\n",
    "        mean, var = means[index], variances[index]\n",
    "        curr_satisfied = satisfied[index]\n",
    "        prob = Normal(loc=mean, scale=var**0.5).cdf(0.0).item()\n",
    "        probs.append(prob)\n",
    "    # make the plot\n",
    "    fig, axs = plt.subplots(1, 1, figsize=(6, 6))\n",
    "    #bins = np.linspace(0, np.max(covariances), 30)\n",
    "    plt.xlim(0.0, 1.0)\n",
    "    print(len(np.where(np.array(probs) > 0.5)[0])/len(probs))\n",
    "    plt.hist(probs, bins=30, alpha=0.5)\n",
    "    plt.legend()\n",
    "    plt.show()\n",
    "\n",
    "plot_probability_vs_satisfied(means, covariances, is_satisfied_list)#, labels=[\"satisfied\", \"unsatisfied\"])"
   ]
  },
  {
   "cell_type": "code",
   "execution_count": 138,
   "metadata": {},
   "outputs": [],
   "source": [
    "# is there a relationship between the variances of the positive and negative elements in a triplet and whether or\n",
    "# not they are satisfied\n",
    "def calculate_query_variances_vs_satisfied(model, num_triplets=1000):\n",
    "    # for each triplet\n",
    "    means = []\n",
    "    covariances = []\n",
    "    var_sums = []\n",
    "    probs = []\n",
    "    for triplet_index in range(num_triplets):\n",
    "        triplet, _ = triplet_test_dataset[triplet_index]\n",
    "        # embed the triplet images using the model\n",
    "        triplet_z = triplet_forward(model, triplet)\n",
    "        anchor, positive, negative, attribute_index = triplet_z\n",
    "        # measure the average posterior covariance of each embedded positive/negative pair\n",
    "        positive_var = torch.prod(positive[1].exp())\n",
    "        negative_var = torch.prod(negative[1].exp())\n",
    "        var_sum = (positive_var + negative_var).item()\n",
    "        var_sums.append(var_sum)\n",
    "        # measure wether or not the triplet is satisfied\n",
    "        var, mean = get_nll_mean_variance(model, triplet)\n",
    "        var = var.item()\n",
    "        mean = mean.item()\n",
    "        prob = Normal(loc=mean, scale=var**0.5).cdf(0.0).item()\n",
    "        probs.append(prob)\n",
    "        means.append(mean)\n",
    "        triplet_means = (anchor[0], positive[0], negative[0], attribute_index)\n",
    "        # add to list\n",
    "        covariances.append(var)\n",
    "        \n",
    "    return means, covariances, var_sums, probs\n",
    "\n",
    "means, covariances, var_sums, probs = calculate_query_variances_vs_satisfied(bayesian_model, num_triplets=1000)\n"
   ]
  },
  {
   "cell_type": "code",
   "execution_count": 139,
   "metadata": {},
   "outputs": [
    {
     "name": "stdout",
     "output_type": "stream",
     "text": [
      "501\n"
     ]
    },
    {
     "data": {
      "image/png": "[encoded data removed]",
      "text/plain": [
       "<Figure size 144x576 with 1 Axes>"
      ]
     },
     "metadata": {
      "needs_background": "light"
     },
     "output_type": "display_data"
    }
   ],
   "source": [
    "# plot the var_sums vs is_satisfied list\n",
    "fig, axs = plt.subplots(1, 1, figsize=(2, 8))\n",
    "var_sums = np.array(var_sums)\n",
    "\n",
    "print(len(np.where(np.array(is_satisfied_list) == 1.0)[0]))\n",
    "satisfied_vars = var_sums[np.where(np.array(is_satisfied_list) == 1.0)[0]]\n",
    "unsatisfied_vars = var_sums[np.where(np.array(is_satisfied_list) == 0.0)[0]]\n",
    "axs.violinplot([satisfied_vars, unsatisfied_vars])\n",
    "plt.show()"
   ]
  },
  {
   "cell_type": "code",
   "execution_count": 142,
   "metadata": {},
   "outputs": [
    {
     "name": "stdout",
     "output_type": "stream",
     "text": [
      "[7.47290585e+14 7.25411803e+23 2.32045553e+17 4.94532549e+22\n",
      " 1.25144430e+24 5.26571514e+23 6.14284083e+20 5.01773057e+24\n",
      " 1.54425995e+16 1.02724497e+17 1.36002045e+05 5.10424668e+21\n",
      " 9.83173966e+20 1.16457374e+08 4.37492939e+09 1.68717875e+19\n",
      " 1.59958507e+13 9.08582104e+18 2.83283804e+13 1.40301179e+13\n",
      " 3.87698407e+03 4.19524128e+15 1.40146553e+19 1.04885517e+18\n",
      " 1.36322724e+07 5.84870925e+21 1.34953190e+14 1.11707892e+20\n",
      " 6.70515452e+19 5.17198239e+17 1.26565926e+19 3.16327859e+16\n",
      " 3.91282473e+14 1.96810696e+21 1.25239158e+16 1.00094456e+18\n",
      " 1.08209393e+13 1.71700197e+20 4.87025570e+14 1.40271101e+20\n",
      " 3.09069727e+16 4.13562955e+10 1.79939033e+16 3.00025412e+18\n",
      " 2.24327074e+17 8.93186158e+14 2.31724197e+15 2.19378427e+05\n",
      " 7.06868865e+18 1.05786106e+04 1.73669473e+16 1.08687371e+17\n",
      " 9.54317072e+11 4.99238422e+22 8.08644538e+10 2.70031061e+13\n",
      " 7.70050856e+22 3.68796797e+14 1.08346332e+18 1.92004973e+24\n",
      " 2.40328681e+15 1.00714181e+12 3.48777013e+14 6.68293924e+21\n",
      " 3.81423716e+21 2.33966559e+15 1.58605262e+05 1.40319643e+13\n",
      " 1.59198395e+21 1.05786106e+04 2.35383001e+18 3.30021969e+18\n",
      " 3.44055051e+23 1.40854151e+11 4.17281446e+13 1.23077414e+16\n",
      " 3.92211469e+09 2.85070673e+23 1.43603691e+18 3.73837667e+09\n",
      " 2.51895666e+16 2.61753968e+23 1.13358054e+17 2.24397687e+16\n",
      " 1.77423554e+22 1.40257798e+14 3.85138051e+14 6.73692199e+20\n",
      " 1.87167778e+21 9.35107058e+20 1.19814768e+12 1.49176026e+03\n",
      " 1.28532447e+24 3.04241057e+21 1.95032960e+21 1.22852989e+19\n",
      " 7.59508233e+19 1.34400711e+16 3.53788226e+10 2.56081423e+10\n",
      " 9.63842802e+21 1.08924264e+25 8.50206356e+17 9.33164074e+23\n",
      " 1.70417852e+14 1.86954236e+24 4.13562955e+10 1.06683209e+24\n",
      " 2.81466427e+16 4.31708463e+16 3.17993739e+17 1.02211159e+15\n",
      " 1.87051550e+17 1.39179039e+11 1.10058596e+10 2.76464691e+10\n",
      " 5.24452151e+22 1.02357970e+19 5.26313358e+19 1.39179732e+11\n",
      " 4.50195941e+05 1.25650690e+17 5.98739649e+18 8.50227825e+17\n",
      " 3.25473738e+18 1.21200943e+17 6.35664918e+19 7.35455302e+17\n",
      " 1.99493173e+21 2.48214665e+18 3.26186622e+24 9.94600135e+08\n",
      " 2.01608807e+24 1.25221462e+25 5.85933042e+11 6.38695160e+20\n",
      " 2.44383272e+16 1.68582093e+22 2.77595209e+17 2.25367482e+14\n",
      " 1.00000000e+00 1.70661143e+15 1.19887221e+12 6.12544943e+18\n",
      " 4.05359103e+22 1.97197116e+21 8.58555119e+16 2.10112449e+17\n",
      " 2.79436140e+11 7.94720584e+14 2.14638229e+12 2.42373406e+10\n",
      " 7.24399214e+03 2.19378427e+05 3.30446563e+18 5.26341591e+19\n",
      " 7.70148837e+04 4.58120370e+22 5.99646172e+16 3.54735912e+16\n",
      " 4.93893501e+07 1.50241254e+17 6.79205939e+18 3.19015133e+12\n",
      " 3.36267239e+22 3.36693476e+14 2.26094360e+02 2.37244533e+22\n",
      " 1.65116372e+10 1.89088347e+18 2.79436140e+11 1.42410243e+16\n",
      " 8.50208564e+17 2.06424137e+15 2.43492970e+17 8.74666594e+05\n",
      " 3.99733370e+06 3.73247179e+16 8.04043303e+23 4.25174285e+23\n",
      " 2.24327331e+17 3.36512566e+12 6.32977631e+18 3.44086733e+03\n",
      " 3.29679019e+09 1.37983754e+08 8.30851446e+03 1.98513773e+15\n",
      " 3.14161732e+09 2.89376635e+05 1.00714181e+12 1.06448498e+25\n",
      " 6.89727432e+14 9.19037502e+16 2.48648084e+14 1.09616614e+15\n",
      " 4.30111927e+17 8.41120261e+18 1.34076127e+16 8.25433277e+19\n",
      " 1.86626835e+07 2.61563555e+18 6.82755307e+11 2.18689987e+19\n",
      " 9.89795124e+20 1.80920729e+24 1.44575209e+21 4.84901115e+05\n",
      " 1.23242750e+20 2.54354718e+11 7.51033851e+12 2.00739277e+17\n",
      " 8.86853055e+14 6.78518361e+16 9.18211653e+21 4.45054926e+19\n",
      " 1.73727531e+13 1.36285519e+13 9.15007977e+16 7.47290423e+14\n",
      " 6.49043122e+13 2.69744401e+13 4.17539526e+16 1.28351108e+25\n",
      " 7.90560151e+19 3.90125642e+10 2.03289664e+08 2.29145710e+17\n",
      " 2.03787821e+20 3.20142869e+10 1.97762690e+21 1.58066123e+20\n",
      " 3.30579814e+12 2.26094360e+02 1.89107774e+15 6.56709585e+13\n",
      " 1.14631171e+21 4.47265859e+18 3.13357065e+22 4.30204841e+13\n",
      " 1.58431327e+20 8.04520927e+13 1.20310397e+22 1.73669267e+16\n",
      " 3.41971235e+12 7.36266324e+23 1.22605750e+21 3.42594049e+06\n",
      " 3.18358255e+18 3.37711196e+07 4.52781254e+11 2.40329584e+15\n",
      " 1.02211904e+15 3.16327768e+16 1.99417096e+21 2.21431296e+22\n",
      " 1.11706126e+20 3.27044338e+20 1.11911281e+24 3.17981860e+23\n",
      " 1.13114463e+16 3.36311593e+16 7.44420348e+16 6.38817975e+20\n",
      " 1.16974767e+17 1.56350422e+02 9.08328045e+19 8.08644538e+10\n",
      " 6.06143275e+15 4.18198764e+22 4.86330546e+13 3.20142869e+10\n",
      " 7.87865535e+23 3.04334224e+14 4.74033966e+14 8.92456199e+20\n",
      " 1.31494062e+12 1.26906033e+09 3.27908708e+17 2.68060051e+20\n",
      " 1.76153145e+19 8.27806510e+21 4.09056448e+23 7.67439195e+22\n",
      " 4.38376363e+03 2.18103573e+21 2.23604344e+20 4.46470017e+16\n",
      " 1.95754714e+20 3.71948889e+17 3.89025538e+03 3.57598480e+22\n",
      " 4.50894313e+19 2.07093586e+20 2.57707578e+14 2.70541880e+16\n",
      " 4.73589933e+12 7.42242273e+14 2.26094360e+02 2.80641648e+19\n",
      " 5.55305095e+18 2.14973695e+21 9.12234063e+21 6.80170402e+06\n",
      " 6.07213374e+13 3.92045225e+22 2.11065187e+21 4.38376363e+03\n",
      " 7.83195889e+25 8.70360190e+16 1.96837333e+16 2.19378427e+05\n",
      " 1.67856165e+22 4.96334769e+21 3.89620562e+12 2.20402481e+16\n",
      " 2.86423075e+20 1.95649348e+20 1.90584550e+12 3.89620562e+12\n",
      " 8.81285598e+05 2.29081661e+17 3.02121471e+21 1.67904774e+23\n",
      " 1.75377946e+19 8.04520927e+13 2.22377782e+17 2.03289778e+08\n",
      " 1.84098202e+16 4.17613428e+16 5.03732186e+22 3.42594049e+06\n",
      " 1.90584185e+12 1.03934765e+22 3.01100565e+20 2.10520440e+23\n",
      " 1.14118911e+17 3.31631437e+14 3.61732929e+08 6.38553279e+12\n",
      " 1.19860153e+03 9.54257296e+11 9.15031792e+15 2.64531393e+21\n",
      " 1.00271776e+12 1.31442421e+11 6.30119115e+22 2.35778237e+25\n",
      " 3.20899165e+19 2.01705717e+17 1.45515758e+15 1.12910040e+22\n",
      " 3.02148247e+14 2.40909866e+13 9.67012146e+13 1.79727015e+23\n",
      " 1.73669473e+16 2.28098369e+05 5.61364538e+21 7.12686900e+18\n",
      " 1.56317475e+12 9.53110024e+21 1.17309384e+18 3.91078635e+14\n",
      " 1.10058596e+10 1.70672937e+20 1.34953243e+14 8.62936227e+16\n",
      " 9.06879443e+24 2.28098369e+05 3.27848475e+21 8.00963283e+15\n",
      " 7.35478132e+17 3.30731543e+22 1.12726153e+15 2.26094360e+02\n",
      " 1.04374759e+19 2.75559073e+20 1.98240755e+15 4.42820545e+06\n",
      " 4.17622667e+16 1.32515491e+18 8.23258257e+23 7.28478270e+16\n",
      " 1.48521718e+14 9.12956408e+19 1.41974543e+23 2.72104583e+14\n",
      " 2.15250328e+19 7.35465218e+17 8.43678467e+21 2.87471547e+23\n",
      " 7.47086100e+14 1.65341662e+16 4.84900785e+05 1.30504682e+18\n",
      " 2.50568418e+16 1.14013522e+23 1.66117824e+07 4.13562955e+10\n",
      " 8.86853169e+14 1.00075168e+18 1.06617157e+17 2.43187285e+14\n",
      " 5.54016852e+18 2.80436379e+14 2.31877213e+15 2.25607009e+24\n",
      " 6.74480173e+24 6.88141668e+07 3.46711392e+23 6.58766903e+12\n",
      " 5.44320466e+15 9.42172272e+20 8.13065516e+16 3.27908647e+17\n",
      " 7.32104842e+19 4.38009291e+25 6.80170402e+06 2.39129293e+24\n",
      " 1.14426691e+19 1.06185284e+25 7.75008399e+11 9.94600135e+08\n",
      " 4.57120646e+13 2.00273589e+23 2.42267204e+16 8.02653499e+15\n",
      " 4.73589933e+12 6.32978841e+18 8.76474156e+25 4.91399175e+18\n",
      " 5.56732021e+12 3.88734513e+20 6.68090458e+21 1.04954121e+18\n",
      " 4.84901115e+05 7.31175600e+19 4.02340602e+17 7.92685276e+19\n",
      " 2.52650305e+12 3.38985067e+14 2.18877722e+20 1.07337285e+18\n",
      " 2.05745376e+17 3.99733370e+06 1.00985796e+20 2.89376635e+05\n",
      " 3.98202831e+08 1.23674184e+24 8.35273555e+14 2.25368916e+14\n",
      " 5.39821188e+13 8.30889834e+15 4.16491620e+13 1.49649699e+19\n",
      " 2.96691134e+18 3.84553560e+17 4.11543629e+20 7.50789289e+22\n",
      " 2.03289778e+08 7.57179287e+15 1.10685792e+19 2.43187285e+14\n",
      " 1.16799614e+20 1.17128785e+16 1.06502027e+09 1.36495235e+22\n",
      " 2.90349337e+25 6.14924205e+11 1.28852265e+20 8.41484684e+18\n",
      " 4.50195941e+05 6.09202627e+20 5.39821154e+13 2.56666044e+21\n",
      " 3.33332704e+10 7.21276924e+21 3.84553518e+17 3.28430987e+21\n",
      " 1.89848645e+15 3.09065622e+16 3.65204930e+21 7.94663974e+14\n",
      " 4.41943029e+18 1.88494110e+21 3.06455271e+11 4.04249709e+18\n",
      " 1.75997327e+21 2.99264187e+10 1.32190005e+14 5.21480767e+15\n",
      " 7.60880767e+12 1.40977387e+23 2.10740341e+19 1.44019294e+17\n",
      " 1.16457374e+08 2.03288996e+08 3.30080367e+24 6.78534115e+16\n",
      " 6.78534011e+16 2.10253869e+13 1.82589993e+10 1.86141155e+22\n",
      " 5.31868901e+13 1.17005420e+21 2.54374868e+11 2.90957729e+16\n",
      " 7.54820747e+24 6.36871622e+19 3.31631405e+14 4.74395802e+21\n",
      " 1.97172726e+21 4.12366702e+16 3.73701626e+17 1.89090596e+18\n",
      " 6.99908083e+21 6.80170402e+06 1.34368481e+20 2.07001016e+20\n",
      " 1.04109497e+18 3.36693476e+14 9.65514691e+13 1.29272985e+17\n",
      " 6.61946829e+24 1.95754182e+20 7.52333245e+14 1.40147199e+19\n",
      " 3.20142869e+10 1.15850026e+17 8.85335054e+14 3.45001853e+19\n",
      " 5.36596478e+15 3.33386888e+20 1.08237600e+13 5.10608724e+21\n",
      " 7.17495882e+20 2.40722885e+13 2.18446595e+20 1.40257786e+14\n",
      " 1.11296062e+10 1.66116894e+07 5.08672294e+15 6.70522540e+19\n",
      " 1.30507054e+18 2.09690694e+19 1.19860153e+03 3.87312430e+20\n",
      " 3.68911706e+13 5.41120369e+23 4.28394670e+17 1.89107774e+15\n",
      " 4.11680987e+10 1.09039493e+17 1.05038273e+19 4.50893816e+19\n",
      " 1.32145735e+25 2.56081423e+10 9.79512294e+17 7.47544076e+22\n",
      " 2.57202798e+25 1.33888797e+16 1.50241254e+17 1.15611015e+22\n",
      " 1.88942212e+17 3.10251909e+22 4.11967614e+16 1.00000000e+00\n",
      " 1.40147329e+19 7.79550062e+04 3.33332704e+10 1.68909737e+21\n",
      " 7.45522047e+20 2.38511618e+16 1.09383726e+20 9.83538675e+17\n",
      " 1.49649729e+19 4.75807225e+22 4.37202576e+09 1.50174447e+21\n",
      " 3.09100668e+12 1.01279296e+11 1.39010269e+05 1.02361571e+19\n",
      " 3.65404457e+12 4.39297736e+15 9.98653852e+16 1.61021042e+13\n",
      " 1.34007682e+19 2.86177289e+23 2.12564930e+24 8.55774697e+15\n",
      " 1.05786106e+04 1.75370063e+22 9.72894299e+23 9.11654023e+22\n",
      " 3.27147075e+11 1.12828029e+22 5.30061605e+12 1.69156350e+21\n",
      " 8.93186158e+14 1.61158525e+07 2.64882489e+16 2.96691072e+18\n",
      " 9.21255942e+21 8.04520927e+13 2.43187268e+14 3.61793248e+21\n",
      " 5.86097033e+17 2.03984544e+15 1.90687827e+17 3.06432702e+24\n",
      " 4.14891634e+15 1.86558735e+11 2.71500164e+17 3.89620562e+12\n",
      " 5.72330962e+12 2.89376635e+05 1.00000000e+00 6.25114336e+22\n",
      " 1.00987008e+20 1.34489779e+25 3.72798162e+21 1.11487406e+19\n",
      " 6.80158286e+22 2.13513322e+13 1.25489736e+10 4.09462526e+12\n",
      " 4.00069018e+14 3.30446835e+18 1.65329169e+16 6.59115959e+15\n",
      " 4.84901115e+05 5.26708100e+20 3.00529380e+14 8.03896309e+13\n",
      " 1.37983754e+08 3.51127665e+22 1.28035856e+21 2.39353213e+16\n",
      " 3.27653143e+18 5.10805723e+23 6.14142624e+22 2.32051078e+17\n",
      " 5.55676281e+19 8.78254632e+24 5.02435931e+15 1.73655366e+22\n",
      " 1.44716583e+21 8.81285598e+05 3.42305416e+17 5.17203941e+17\n",
      " 1.12986998e+22 2.11623457e+19 1.00714181e+12 2.70542596e+16\n",
      " 5.17204093e+17 4.20094114e+23 3.19974181e+10 1.66695377e+25\n",
      " 2.59383801e+17 2.90957748e+16 4.37492939e+09 1.37179831e+20\n",
      " 2.02304095e+08 7.47290585e+14 9.35773200e+20 1.37212201e+20\n",
      " 1.61158525e+07 9.66664194e+09 7.33129479e+18 9.54317072e+11\n",
      " 1.26902716e+09 1.12591713e+19 2.20038329e+16 1.43820114e+22\n",
      " 2.23686043e+20 8.02108077e+05 1.09026890e+17 8.41930190e+19\n",
      " 3.73837667e+09 2.40329584e+15 3.52528067e+19 9.65514691e+13\n",
      " 2.52650305e+12 4.23860933e+23 1.12605518e+19 2.89168503e+20\n",
      " 4.42820545e+06 3.99733027e+06 1.19362404e+13 3.22189170e+21\n",
      " 2.94440784e+11 2.94920378e+19 1.31494062e+12 1.01279302e+11\n",
      " 3.09102519e+12 1.32029664e+10 1.66827383e+22 1.63778789e+22\n",
      " 1.20689771e+21 5.17204093e+17 4.81208005e+23 2.65126880e+05\n",
      " 2.26094360e+02 3.06455271e+11 1.22564239e+21 7.75008399e+11\n",
      " 7.46069084e+22 1.32029664e+10 1.02610256e+24 1.23694716e+20\n",
      " 4.62203146e+20 1.25489736e+10 7.67763494e+16 5.44009676e+18\n",
      " 3.59133467e+16 1.92111792e+21 6.51359528e+23 1.65340941e+16\n",
      " 1.59205623e+21 2.61564406e+18 1.70598886e+21 1.46299599e+24\n",
      " 4.37056067e+21 1.06780755e+03 3.29679019e+09 1.73756909e+13\n",
      " 4.15033181e+17 3.36829461e+14 4.46471603e+16 7.79550062e+04\n",
      " 1.40257798e+14 4.39270111e+15 1.59958507e+13 4.46471603e+16\n",
      " 5.77720992e+12 1.40319734e+13 1.36322724e+07 3.91082107e+14\n",
      " 7.12377698e+18 5.10644088e+10 1.37983754e+08 9.03155328e+24\n",
      " 3.90727294e+02 3.56692332e+13 3.94588674e+11 3.20887202e+15\n",
      " 1.40735783e+22 2.64735735e+19 1.88771989e+17 1.02852491e+17\n",
      " 2.66543397e+21 1.70417852e+14 1.18190842e+23 7.57032387e+14\n",
      " 1.75379303e+23 2.48643046e+14 6.17075873e+06 1.89083457e+18\n",
      " 6.49044299e+13 1.81929863e+22 1.98240769e+15 4.09463463e+12\n",
      " 1.17128785e+16 1.98309890e+23 1.09444073e+22 1.09764160e+15\n",
      " 3.74093652e+21 1.46465841e+15 4.13562955e+10 3.06455271e+11\n",
      " 1.90687868e+17 1.42429241e+22 8.02653264e+15 1.79939018e+16\n",
      " 3.52661869e+19 1.34953094e+14 1.78404651e+18 1.79225209e+13\n",
      " 2.32051078e+17 3.28375072e+23 2.40722885e+13 9.79512294e+17\n",
      " 1.82589993e+10 1.78819111e+17 4.86330601e+13 9.66664194e+09\n",
      " 1.58574399e+22 8.09706755e+24 2.91284826e+18 1.31030522e+11\n",
      " 3.06091355e+17 3.35865811e+19 1.37121670e+20 4.42010360e+16\n",
      " 2.56666981e+21 3.29614550e+16 2.78231653e+17 1.20357594e+15\n",
      " 3.86297154e+17 1.12494304e+22 4.97950216e+19 6.41367220e+11\n",
      " 2.95256734e+24 7.59508169e+19 1.14477237e+13 3.77130117e+20\n",
      " 4.11605643e+20 1.56954601e+08 1.01279302e+11 8.30889834e+15\n",
      " 1.79710568e+13 1.34953243e+14 1.75663775e+17 1.26906033e+09\n",
      " 2.76444364e+19 8.30851446e+03 9.29169353e+22 1.78406890e+18\n",
      " 1.25845069e+15 5.46379302e+16 4.84901115e+05 1.84098279e+16\n",
      " 3.70635493e+17 1.34076127e+16 4.63736675e+23 1.36214654e+23\n",
      " 7.48994937e+20 1.89107735e+15 3.00529380e+14 1.24824883e+24\n",
      " 6.70448274e+19 2.85572054e+24 1.10326868e+23 1.51365733e+23\n",
      " 4.17234459e+10 9.07424969e+20 3.53788226e+10 1.95003184e+10\n",
      " 1.06780755e+03 1.26906033e+09 8.10945605e+13 1.08875952e+22\n",
      " 1.83488560e+16 1.41415592e+25 3.36512566e+12 6.05479525e+23\n",
      " 4.11971936e+16 5.26021947e+23 2.21044020e+19 3.84553602e+17\n",
      " 4.73043064e+17 2.10226404e+17 4.94764281e+24 2.22717538e+21\n",
      " 8.92568017e+20 1.44140918e+17 3.49193404e+20 6.49044299e+13\n",
      " 3.81515400e+21 2.70035425e+13 1.05032276e+19 6.19420686e+14\n",
      " 1.04954653e+18 2.80734731e+04 4.50939640e+19 4.49701293e+12\n",
      " 2.17516319e+21 9.13810358e+21 1.03544318e+17 3.19015133e+12\n",
      " 7.33163374e+18 4.70711867e+22 1.95970999e+11 1.38317690e+16\n",
      " 8.81285598e+05 9.79102754e+19 6.78534011e+16 1.39010269e+05\n",
      " 3.36512481e+12 9.64496941e+13 3.55510447e+25 1.40319459e+13\n",
      " 3.76301080e+19 2.48213549e+18 4.06764131e+18 6.13023931e+12\n",
      " 8.35273555e+14 9.83415519e+17 8.93150403e+14 5.26312681e+19\n",
      " 8.93186158e+14 1.73756923e+13 8.78798864e+20 3.12610640e+15\n",
      " 2.70035442e+13 1.22158495e+21 2.51895666e+16 2.38601369e+21\n",
      " 1.07026114e+23 2.22955533e+14 4.13171098e+24 1.75831817e+14\n",
      " 5.85933554e+11 1.51869082e+18 2.86291670e+19 6.49044299e+13\n",
      " 3.86834409e+23 8.30851446e+03 2.85264971e+21 2.00823262e+21\n",
      " 5.53674227e+18 7.43474841e+11 5.32804406e+16 3.16672286e+19\n",
      " 3.61818749e+21 2.28098369e+05 4.39296718e+15 3.41624838e+17\n",
      " 3.20887202e+15 3.29280704e+12 1.73669459e+16 8.50116329e+17\n",
      " 1.52538465e+21 5.51516465e+20 4.38482410e+17 3.79429984e+23\n",
      " 8.35273555e+14 1.01605071e+18 4.87025570e+14 1.36002045e+05\n",
      " 8.62940122e+16 2.92284003e+10 3.37504062e+22 2.51715946e+16\n",
      " 9.02742491e+12 1.40882389e+24 9.16331081e+15 6.41367220e+11\n",
      " 5.46375976e+16 5.47554573e+17 5.90529285e+21 3.31596904e+14\n",
      " 1.25489736e+10 7.57179287e+15 1.45806619e+20 1.05038243e+19\n",
      " 1.50177514e+21 2.25776741e+15 3.04203456e+21 4.93893501e+07\n",
      " 8.08644538e+10 8.25314739e+17 1.58439924e+20 1.39787712e+20\n",
      " 2.30607471e+21 3.84567582e+15 9.68763670e+18 1.82589993e+10\n",
      " 6.68621263e+20 1.38273738e+06 4.85289072e+13 1.37983754e+08\n",
      " 2.53866843e+07 3.49639708e+18 6.48954812e+13 1.03455114e+18\n",
      " 1.00095319e+13 7.07668766e+17 2.46208053e+12 2.92023591e+19\n",
      " 7.05010133e+11 9.80364918e+18 6.80170402e+06 4.25990596e+23\n",
      " 1.05653839e+07 8.30889834e+15 1.70417852e+14 1.67893674e+22\n",
      " 3.30589157e+12 9.00315140e+18 3.50662201e+08 6.07213374e+13\n",
      " 9.33495093e+20 5.50573805e+17 6.13760365e+16 1.50241242e+17\n",
      " 3.51295267e+20 1.06109548e+17 2.13406354e+03 1.51471534e+13\n",
      " 1.53397358e+22 1.16686010e+21 6.79227779e+18 6.98884779e+22\n",
      " 3.42467106e+23 3.38477225e+16 8.56737091e+12 5.84876384e+21]\n"
     ]
    },
    {
     "data": {
      "image/png": "[encoded data removed]",
      "text/plain": [
       "<Figure size 288x288 with 1 Axes>"
      ]
     },
     "metadata": {
      "needs_background": "light"
     },
     "output_type": "display_data"
    }
   ],
   "source": [
    "\n",
    "fig, axs = plt.subplots(1, 1, figsize=(4, 4))\n",
    "inv_var_sums = var_sums / np.max(var_sums)\n",
    "inv_var_sums = 1/inv_var_sums\n",
    "axs.scatter(inv_var_sums, probs)\n",
    "print(inv_var_sums)\n",
    "# Set y scale to exponential\n",
    "axs.set_xscale('log', basex=10)\n",
    "plt.show()"
   ]
  },
  {
   "cell_type": "code",
   "execution_count": 158,
   "metadata": {},
   "outputs": [
    {
     "data": {
      "image/png": "[encoded data removed]",
      "text/plain": [
       "<Figure size 432x288 with 1 Axes>"
      ]
     },
     "metadata": {
      "needs_background": "light"
     },
     "output_type": "display_data"
    }
   ],
   "source": [
    "log_inv_var = np.log10(inv_var_sums)\n",
    "probs = np.array(probs)\n",
    "probs_out = probs[np.isfinite(probs)]\n",
    "log_inv_var_out = log_inv_var[np.isfinite(probs)]\n",
    "heatmap, xedges, yedges = np.histogram2d(log_inv_var_out, probs_out, bins=20)\n",
    "plt.clf()\n",
    "plt.imshow(heatmap.T, origin='lower')\n",
    "plt.show()"
   ]
  },
  {
   "cell_type": "code",
   "execution_count": null,
   "metadata": {},
   "outputs": [],
   "source": []
  }
 ],
 "metadata": {
  "kernelspec": {
   "display_name": "Python 3",
   "language": "python",
   "name": "python3"
  },
  "language_info": {
   "codemirror_mode": {
    "name": "ipython",
    "version": 3
   },
   "file_extension": ".py",
   "mimetype": "text/x-python",
   "name": "python",
   "nbconvert_exporter": "python",
   "pygments_lexer": "ipython3",
   "version": "3.7.6"
  }
 },
 "nbformat": 4,
 "nbformat_minor": 4
}
