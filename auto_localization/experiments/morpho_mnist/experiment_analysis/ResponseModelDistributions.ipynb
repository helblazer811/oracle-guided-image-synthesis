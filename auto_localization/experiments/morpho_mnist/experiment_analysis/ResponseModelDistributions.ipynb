{
 "cells": [
  {
   "cell_type": "code",
   "execution_count": 14,
   "metadata": {},
   "outputs": [],
   "source": [
    "import matplotlib.pyplot as plt\n",
    "import sys\n",
    "import os\n",
    "import torch\n",
    "import pickle\n",
    "sys.path.append(\"/home/alec/latent-space-localization\")\n",
    "import auto_localization.dataset_management.data_manager_factory as data_manager_factory\n",
    "import auto_localization.models.model_factory as model_factory\n",
    "from auto_localization.localization.noise_model_selector import NoiseModelSelector\n",
    "import numpy as np\n",
    "%matplotlib inline"
   ]
  },
  {
   "cell_type": "code",
   "execution_count": 7,
   "metadata": {},
   "outputs": [
    {
     "name": "stdout",
     "output_type": "stream",
     "text": [
      "Setting up data\n"
     ]
    }
   ],
   "source": [
    "dataset_config = {\n",
    "    \"component_weighting\": [1.0, 1.0, 1.0, 1.0, 1.0, 1.0], # weights slant and thickness\n",
    "    \"attribute_return\": True,\n",
    "    \"which_digits\": [1],\n",
    "    \"one_two_ratio\": 0.0,\n",
    "    \"batch_size\": 256,\n",
    "    \"indexed\": True,\n",
    "    \"num_workers\": 6,\n",
    "    \"single_feature_triplet\": False,\n",
    "    \"inject_triplet_noise\": 0.0,\n",
    "    \"dataset_name\": \"MorphoMNIST\",\n",
    "    \"input_shape\": (32, 32),\n",
    "    \"triplet_batch_size\": 256\n",
    "}\n",
    "data_manager, localization_metadata_oracle = data_manager_factory.construct_morpho_mnist(dataset_config)"
   ]
  },
  {
   "cell_type": "code",
   "execution_count": 8,
   "metadata": {},
   "outputs": [],
   "source": [
    "def load_experiment_config(wandb_path):\n",
    "    # load up the experiment parameters from the given run_name\n",
    "    run_directory = os.path.join(os.environ[\"LATENT_PATH\"], \"auto_localization\", \"logs\", wandb_path)\n",
    "    # load the expeirment config\n",
    "    params_path = run_directory + \"/params.pkl\"\n",
    "    with open(params_path, \"rb\") as f:\n",
    "        experiment_config = pickle.load(f)\n",
    "    \n",
    "    return experiment_config\n",
    "\n",
    "def load_model(wandb_path):\n",
    "    # get the directory\n",
    "    run_directory = os.path.join(os.environ[\"LATENT_PATH\"], \"auto_localization\", \"logs\", wandb_path)\n",
    "    # get the model config\n",
    "    experiment_config = load_experiment_config(wandb_path)\n",
    "    model_config = experiment_config[\"model_config\"]\n",
    "    # get the model path\n",
    "    model_weight_path = os.path.join(run_directory, \"best_model.pkl\")\n",
    "    # use the model factory to load the model\n",
    "    model = model_factory.get_model_from_config(model_config[\"model_type\"], model_config)\n",
    "    # load the model weights\n",
    "    model.load_state_dict(torch.load(model_weight_path))\n",
    "    model.eval()\n",
    "    return model\n",
    "\n",
    "model = load_model(\"fresh-energy-1040\").cuda()"
   ]
  },
  {
   "cell_type": "code",
   "execution_count": 11,
   "metadata": {},
   "outputs": [],
   "source": [
    "def plot_response_model_probabilities(model, triplet_dataset, use_basic_setting=True):\n",
    "    noise_model_selector = NoiseModelSelector(model, triplet_dataset=triplet_dataset, localizer_type=\"RandomLogistic\")\n",
    "    # evaluate the triplets\n",
    "    triplets = noise_model_selector.evaluate_triplets()\n",
    "    # evaluate the logistic response model\n",
    "    if use_basic_setting:\n",
    "        best_setting = {\"k\": 1.0, \"normalization\":0}\n",
    "    else:\n",
    "        best_setting = noise_model_selector.perform_brute_force(triplets)\n",
    "    logistic_probs = noise_model_selector.compute_success_probabilities(best_setting, triplets)\n",
    "    logistic_probs = np.stack(logistic_probs).squeeze()\n",
    "    # evaluate the triplet response model\n",
    "    noise_model_selector = NoiseModelSelector(model, triplet_dataset=triplet_dataset, localizer_type=\"RandomTriplet\")\n",
    "    if use_basic_setting:\n",
    "        best_setting = {\"k\": 1.0, \"normalization\":0}\n",
    "    else:\n",
    "        best_setting = noise_model_selector.perform_brute_force(triplets)\n",
    "    triplet_probs = noise_model_selector.compute_success_probabilities(best_setting, triplets)\n",
    "    triplet_probs = np.stack(triplet_probs).squeeze()\n",
    "    # make a violin plot of the evaluated response model probabilities\n",
    "    fig, ax = plt.subplots(1, 1)\n",
    "    ax.violinplot([triplet_probs, logistic_probs])\n",
    "    ax.set_xticks([1, 2])\n",
    "    ax.set_xticklabels(['Triplet', 'Logistic'])\n",
    "    ax.set_ylabel(\"Probabilities\")\n",
    "    plt.show()"
   ]
  },
  {
   "cell_type": "code",
   "execution_count": 15,
   "metadata": {},
   "outputs": [
    {
     "name": "stderr",
     "output_type": "stream",
     "text": [
      "  1%|          | 20/2000 [00:00<00:10, 193.19it/s]"
     ]
    },
    {
     "name": "stdout",
     "output_type": "stream",
     "text": [
      "evaluating triplets\n"
     ]
    },
    {
     "name": "stderr",
     "output_type": "stream",
     "text": [
      "100%|██████████| 2000/2000 [00:07<00:00, 273.60it/s]\n"
     ]
    },
    {
     "data": {
      "image/png": "[encoded data removed]",
      "text/plain": [
       "<Figure size 432x288 with 1 Axes>"
      ]
     },
     "metadata": {
      "needs_background": "light"
     },
     "output_type": "display_data"
    }
   ],
   "source": [
    "triplet_dataset = data_manager.triplet_test\n",
    "plot_response_model_probabilities(model, triplet_dataset)\n"
   ]
  },
  {
   "cell_type": "code",
   "execution_count": null,
   "metadata": {},
   "outputs": [],
   "source": []
  }
 ],
 "metadata": {
  "kernelspec": {
   "display_name": "Python 3",
   "language": "python",
   "name": "python3"
  },
  "language_info": {
   "codemirror_mode": {
    "name": "ipython",
    "version": 3
   },
   "file_extension": ".py",
   "mimetype": "text/x-python",
   "name": "python",
   "nbconvert_exporter": "python",
   "pygments_lexer": "ipython3",
   "version": "3.7.6"
  }
 },
 "nbformat": 4,
 "nbformat_minor": 4
}
