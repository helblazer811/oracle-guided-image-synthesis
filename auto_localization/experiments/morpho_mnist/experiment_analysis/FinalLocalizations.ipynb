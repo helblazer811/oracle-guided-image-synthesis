{
 "cells": [
  {
   "cell_type": "code",
   "execution_count": 1,
   "metadata": {},
   "outputs": [],
   "source": [
    "import matplotlib.pyplot as plt\n",
    "import sys\n",
    "import os\n",
    "import torch\n",
    "import pickle\n",
    "sys.path.append(\"/home/alec/latent-space-localization\")\n",
    "import auto_localization.dataset_management.data_manager_factory as data_manager_factory\n",
    "import auto_localization.models.model_factory as model_factory\n",
    "from auto_localization.localization.noise_model_selector import NoiseModelSelector\n",
    "import numpy as np\n",
    "%matplotlib inline"
   ]
  },
  {
   "cell_type": "code",
   "execution_count": 2,
   "metadata": {},
   "outputs": [],
   "source": [
    "def load_localizers(wandb_path):\n",
    "    \"\"\"\n",
    "        Gives the localizers and localizer_metrics for a given wandb_path\n",
    "    \"\"\"\n",
    "    # get the directory\n",
    "    run_directory = os.path.join(os.environ[\"LATENT_PATH\"], \"auto_localization\", \"logs\", wandb_path)\n",
    "    # load a single set of localizers\n",
    "    localizers = None\n",
    "    with open(run_directory+\"/localizers.pkl\", \"rb\") as f:\n",
    "        localizers = pickle.load(f)\n",
    "    # metrics path\n",
    "    metrics_path = os.path.join(run_directory, \"localizer_metrics.pkl\")\n",
    "    with open(metrics_path, \"rb\") as f:\n",
    "        metrics = pickle.load(f)\n",
    "    \n",
    "    return localizers, metrics\n",
    "\n",
    "def load_experiment_config(wandb_path):\n",
    "    # load up the experiment parameters from the given run_name\n",
    "    run_directory = os.path.join(os.environ[\"LATENT_PATH\"], \"auto_localization\", \"logs\", wandb_path)\n",
    "    # load the expeirment config\n",
    "    params_path = run_directory + \"/params.pkl\"\n",
    "    with open(params_path, \"rb\") as f:\n",
    "        experiment_config = pickle.load(f)\n",
    "    \n",
    "    return experiment_config\n",
    "\n",
    "def load_model(wandb_path):\n",
    "    # get the directory\n",
    "    run_directory = os.path.join(os.environ[\"LATENT_PATH\"], \"auto_localization\", \"logs\", wandb_path)\n",
    "    # get the model config\n",
    "    experiment_config = load_experiment_config(wandb_path)\n",
    "    model_config = experiment_config[\"model_config\"]\n",
    "    # get the model path\n",
    "    model_weight_path = os.path.join(run_directory, \"best_model.pkl\")\n",
    "    # use the model factory to load the model\n",
    "    model = model_factory.get_model_from_config(model_config[\"model_type\"], model_config)\n",
    "    # load the model weights\n",
    "    model.load_state_dict(torch.load(model_weight_path))\n",
    "    model.eval()\n",
    "    return model\n"
   ]
  },
  {
   "cell_type": "code",
   "execution_count": 3,
   "metadata": {},
   "outputs": [],
   "source": [
    "def plot_final_localization_images(localizers, model, data_manager, title=\"Title\"):\n",
    "    sample_size = 100\n",
    "    image_indices = np.random.choice(len(data_manager.image_test), size=(sample_size))\n",
    "    similarity_vectors = []\n",
    "    for index in image_indices:\n",
    "        image = data_manager.image_test[index].cuda()\n",
    "        _, _, similarity_vector, _ = model.forward(image)\n",
    "        similarity_vectors.append(similarity_vector)\n",
    "\n",
    "    similarity_vectors = torch.stack(similarity_vectors).cuda()\n",
    "\n",
    "    def get_closest_image(similarity_vector):\n",
    "        distances = torch.norm(similarity_vector - similarity_vectors, dim=-1)\n",
    "        closest_index = torch.argmin(distances)\n",
    "        closest_image = data_manager.image_test[image_indices[closest_index]]\n",
    "        return closest_image\n",
    "    \n",
    "    num_rows = min(len(localizers), 6)\n",
    "    fig, axs = plt.subplots(num_rows, 3, figsize=(3, num_rows))\n",
    "    plt.title(title)\n",
    "    for i in range(num_rows):\n",
    "        localizer = localizers[i]\n",
    "        last_mean = torch.Tensor(localizer.posterior_means[-1]).unsqueeze(0)\n",
    "        print(last_mean)\n",
    "        # get the final estimate and decode it\n",
    "        decoded_mean = model.decode(last_mean.to(\"cuda\")).cpu().detach().numpy().squeeze()\n",
    "        axs[i, 0].imshow(decoded_mean)\n",
    "        # get the final nearest neighbor\n",
    "        nearest_neighbor = get_closest_image(last_mean.cuda()).detach().cpu().numpy().squeeze()\n",
    "        axs[i, 1].imshow(nearest_neighbor)\n",
    "        # get the reference image\n",
    "        reference_image = localizer.reference_data\n",
    "        axs[i, 2].imshow(reference_image)"
   ]
  },
  {
   "cell_type": "code",
   "execution_count": 4,
   "metadata": {},
   "outputs": [
    {
     "name": "stdout",
     "output_type": "stream",
     "text": [
      "inject\n",
      "0.0\n",
      "Setting up data\n"
     ]
    }
   ],
   "source": [
    "\n",
    "dataset_config = {\n",
    "    \"component_weighting\": [1.0, 1.0, 1.0, 1.0, 1.0, 1.0], # weights slant and thickness\n",
    "    \"attribute_return\": True,\n",
    "    \"which_digits\": [1],\n",
    "    \"one_two_ratio\": 0.0,\n",
    "    \"batch_size\": 256,\n",
    "    \"indexed\": True,\n",
    "    \"num_workers\": 6,\n",
    "    \"single_feature_triplet\": False,\n",
    "    \"inject_triplet_noise\": 0.0,\n",
    "    \"dataset_name\": \"MorphoMNIST\",\n",
    "    \"input_shape\": (32, 32),\n",
    "    \"triplet_batch_size\": 256\n",
    "}\n",
    "data_manager, localization_metadata_oracle = data_manager_factory.construct_morpho_mnist(dataset_config)"
   ]
  },
  {
   "cell_type": "code",
   "execution_count": 5,
   "metadata": {},
   "outputs": [
    {
     "ename": "RuntimeError",
     "evalue": "Error(s) in loading state_dict for IsolatedVAE:\n\tMissing key(s) in state_dict: \"uncertainty_linear.weight\", \"uncertainty_linear.bias\", \"similarity_batchnorm.running_mean\", \"similarity_batchnorm.running_var\". ",
     "output_type": "error",
     "traceback": [
      "\u001b[0;31m---------------------------------------------------------------------------\u001b[0m",
      "\u001b[0;31mRuntimeError\u001b[0m                              Traceback (most recent call last)",
      "\u001b[0;32m<ipython-input-5-ecc369dbf1c1>\u001b[0m in \u001b[0;36m<module>\u001b[0;34m\u001b[0m\n\u001b[1;32m      5\u001b[0m \u001b[0;31m# plot the nearest neighbor of the estimate\u001b[0m\u001b[0;34m\u001b[0m\u001b[0;34m\u001b[0m\u001b[0;34m\u001b[0m\u001b[0m\n\u001b[1;32m      6\u001b[0m \u001b[0mmodel_path\u001b[0m \u001b[0;34m=\u001b[0m \u001b[0;34m\"polar-hill-1041\"\u001b[0m\u001b[0;34m\u001b[0m\u001b[0;34m\u001b[0m\u001b[0m\n\u001b[0;32m----> 7\u001b[0;31m \u001b[0mmodel\u001b[0m \u001b[0;34m=\u001b[0m \u001b[0mload_model\u001b[0m\u001b[0;34m(\u001b[0m\u001b[0mmodel_path\u001b[0m\u001b[0;34m)\u001b[0m\u001b[0;34m.\u001b[0m\u001b[0mcuda\u001b[0m\u001b[0;34m(\u001b[0m\u001b[0;34m)\u001b[0m\u001b[0;34m\u001b[0m\u001b[0;34m\u001b[0m\u001b[0m\n\u001b[0m\u001b[1;32m      8\u001b[0m \u001b[0mwandb_path\u001b[0m \u001b[0;34m=\u001b[0m \u001b[0;34m\"splendid-mountain-1050\"\u001b[0m\u001b[0;34m\u001b[0m\u001b[0;34m\u001b[0m\u001b[0m\n\u001b[1;32m      9\u001b[0m \u001b[0mlocalizers\u001b[0m\u001b[0;34m,\u001b[0m \u001b[0mmetrics\u001b[0m \u001b[0;34m=\u001b[0m \u001b[0mload_localizers\u001b[0m\u001b[0;34m(\u001b[0m\u001b[0mwandb_path\u001b[0m\u001b[0;34m)\u001b[0m\u001b[0;34m\u001b[0m\u001b[0;34m\u001b[0m\u001b[0m\n",
      "\u001b[0;32m<ipython-input-2-2e1c18a5695e>\u001b[0m in \u001b[0;36mload_model\u001b[0;34m(wandb_path)\u001b[0m\n\u001b[1;32m     37\u001b[0m     \u001b[0mmodel\u001b[0m \u001b[0;34m=\u001b[0m \u001b[0mmodel_factory\u001b[0m\u001b[0;34m.\u001b[0m\u001b[0mget_model_from_config\u001b[0m\u001b[0;34m(\u001b[0m\u001b[0mmodel_config\u001b[0m\u001b[0;34m[\u001b[0m\u001b[0;34m\"model_type\"\u001b[0m\u001b[0;34m]\u001b[0m\u001b[0;34m,\u001b[0m \u001b[0mmodel_config\u001b[0m\u001b[0;34m)\u001b[0m\u001b[0;34m\u001b[0m\u001b[0;34m\u001b[0m\u001b[0m\n\u001b[1;32m     38\u001b[0m     \u001b[0;31m# load the model weights\u001b[0m\u001b[0;34m\u001b[0m\u001b[0;34m\u001b[0m\u001b[0;34m\u001b[0m\u001b[0m\n\u001b[0;32m---> 39\u001b[0;31m     \u001b[0mmodel\u001b[0m\u001b[0;34m.\u001b[0m\u001b[0mload_state_dict\u001b[0m\u001b[0;34m(\u001b[0m\u001b[0mtorch\u001b[0m\u001b[0;34m.\u001b[0m\u001b[0mload\u001b[0m\u001b[0;34m(\u001b[0m\u001b[0mmodel_weight_path\u001b[0m\u001b[0;34m)\u001b[0m\u001b[0;34m)\u001b[0m\u001b[0;34m\u001b[0m\u001b[0;34m\u001b[0m\u001b[0m\n\u001b[0m\u001b[1;32m     40\u001b[0m     \u001b[0mmodel\u001b[0m\u001b[0;34m.\u001b[0m\u001b[0meval\u001b[0m\u001b[0;34m(\u001b[0m\u001b[0;34m)\u001b[0m\u001b[0;34m\u001b[0m\u001b[0;34m\u001b[0m\u001b[0m\n\u001b[1;32m     41\u001b[0m     \u001b[0;32mreturn\u001b[0m \u001b[0mmodel\u001b[0m\u001b[0;34m\u001b[0m\u001b[0;34m\u001b[0m\u001b[0m\n",
      "\u001b[0;32m~/anaconda3/envs/latent/lib/python3.7/site-packages/torch/nn/modules/module.py\u001b[0m in \u001b[0;36mload_state_dict\u001b[0;34m(self, state_dict, strict)\u001b[0m\n\u001b[1;32m   1050\u001b[0m         \u001b[0;32mif\u001b[0m \u001b[0mlen\u001b[0m\u001b[0;34m(\u001b[0m\u001b[0merror_msgs\u001b[0m\u001b[0;34m)\u001b[0m \u001b[0;34m>\u001b[0m \u001b[0;36m0\u001b[0m\u001b[0;34m:\u001b[0m\u001b[0;34m\u001b[0m\u001b[0;34m\u001b[0m\u001b[0m\n\u001b[1;32m   1051\u001b[0m             raise RuntimeError('Error(s) in loading state_dict for {}:\\n\\t{}'.format(\n\u001b[0;32m-> 1052\u001b[0;31m                                self.__class__.__name__, \"\\n\\t\".join(error_msgs)))\n\u001b[0m\u001b[1;32m   1053\u001b[0m         \u001b[0;32mreturn\u001b[0m \u001b[0m_IncompatibleKeys\u001b[0m\u001b[0;34m(\u001b[0m\u001b[0mmissing_keys\u001b[0m\u001b[0;34m,\u001b[0m \u001b[0munexpected_keys\u001b[0m\u001b[0;34m)\u001b[0m\u001b[0;34m\u001b[0m\u001b[0;34m\u001b[0m\u001b[0m\n\u001b[1;32m   1054\u001b[0m \u001b[0;34m\u001b[0m\u001b[0m\n",
      "\u001b[0;31mRuntimeError\u001b[0m: Error(s) in loading state_dict for IsolatedVAE:\n\tMissing key(s) in state_dict: \"uncertainty_linear.weight\", \"uncertainty_linear.bias\", \"similarity_batchnorm.running_mean\", \"similarity_batchnorm.running_var\". "
     ]
    }
   ],
   "source": [
    "# load the localizers\n",
    "# for each localizer\n",
    "# get the reference image\n",
    "# decode the predicted ideal point\n",
    "# plot the nearest neighbor of the estimate\n",
    "model_path = \"polar-hill-1041\"\n",
    "model = load_model(model_path).cuda()\n",
    "wandb_path = \"splendid-mountain-1050\"\n",
    "localizers, metrics = load_localizers(wandb_path)\n",
    "plot_final_localization_images(localizers, model, data_manager)"
   ]
  },
  {
   "cell_type": "code",
   "execution_count": null,
   "metadata": {},
   "outputs": [],
   "source": []
  }
 ],
 "metadata": {
  "kernelspec": {
   "display_name": "Python 3",
   "language": "python",
   "name": "python3"
  },
  "language_info": {
   "codemirror_mode": {
    "name": "ipython",
    "version": 3
   },
   "file_extension": ".py",
   "mimetype": "text/x-python",
   "name": "python",
   "nbconvert_exporter": "python",
   "pygments_lexer": "ipython3",
   "version": "3.7.4"
  }
 },
 "nbformat": 4,
 "nbformat_minor": 4
}
